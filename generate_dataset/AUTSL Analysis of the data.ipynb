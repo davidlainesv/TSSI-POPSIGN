{
 "cells": [
  {
   "cell_type": "code",
   "execution_count": 1,
   "id": "b340b90c-c083-4635-9d78-01c31a31bbf9",
   "metadata": {},
   "outputs": [],
   "source": [
    "# !pip install --user mediapipe\n",
    "# !pip install --user git+https://github.com/sign-language-processing/datasets.git"
   ]
  },
  {
   "cell_type": "code",
   "execution_count": 2,
   "id": "3939e498-1d1f-4f80-a414-214dc33faaed",
   "metadata": {},
   "outputs": [
    {
     "name": "stdout",
     "output_type": "stream",
     "text": [
      "--2023-02-25 08:23:25--  https://raw.githubusercontent.com/davidlainesv/TSSI-WLASL100/test/skeleton_graph.py\n",
      "Resolving raw.githubusercontent.com (raw.githubusercontent.com)... 185.199.108.133, 185.199.109.133, 185.199.110.133, ...\n",
      "Connecting to raw.githubusercontent.com (raw.githubusercontent.com)|185.199.108.133|:443... connected.\n",
      "HTTP request sent, awaiting response... 200 OK\n",
      "Length: 29633 (29K) [text/plain]\n",
      "Saving to: ‘skeleton_graph.py.1’\n",
      "\n",
      "skeleton_graph.py.1 100%[===================>]  28.94K  --.-KB/s    in 0.001s  \n",
      "\n",
      "2023-02-25 08:23:25 (36.1 MB/s) - ‘skeleton_graph.py.1’ saved [29633/29633]\n",
      "\n"
     ]
    }
   ],
   "source": [
    "# !wget \"https://raw.githubusercontent.com/davidlainesv/TSSI-WLASL100/test/skeleton_graph.py\""
   ]
  },
  {
   "cell_type": "code",
   "execution_count": 162,
   "id": "6b286366-0ade-458a-a352-9f00678b6681",
   "metadata": {},
   "outputs": [],
   "source": [
    "import tensorflow_datasets as tfds\n",
    "import sign_language_datasets.datasets\n",
    "from sign_language_datasets.datasets.config import SignDatasetConfig\n",
    "import itertools"
   ]
  },
  {
   "cell_type": "code",
   "execution_count": 164,
   "id": "7ea238b5-ca1f-4a2d-a7e2-2e783ce3229f",
   "metadata": {},
   "outputs": [
    {
     "name": "stderr",
     "output_type": "stream",
     "text": [
      "WARNING:absl:Using custom data configuration only-poses\n"
     ]
    }
   ],
   "source": [
    "config = SignDatasetConfig(name=\"only-poses\",\n",
    "                           version=\"1.0.0\",\n",
    "                           include_video=False,\n",
    "                           include_pose=\"holistic\",\n",
    "                           fps=30)\n",
    "autsl = tfds.load(name='autsl', data_dir=\"datasets\", builder_kwargs={\"config\": config})"
   ]
  },
  {
   "cell_type": "code",
   "execution_count": 165,
   "id": "f4dca634-37a6-4698-b67f-483772f04d8a",
   "metadata": {},
   "outputs": [
    {
     "name": "stdout",
     "output_type": "stream",
     "text": [
      "signer21_sample22 194\n"
     ]
    }
   ],
   "source": [
    "for datum in itertools.islice(autsl[\"train\"], 0, 1):\n",
    "  print(datum['id'].numpy().decode('utf-8'), datum['gloss_id'].numpy())"
   ]
  },
  {
   "cell_type": "code",
   "execution_count": 166,
   "id": "b1e77778-2827-4e25-ac6e-b66e439537c1",
   "metadata": {},
   "outputs": [
    {
     "data": {
      "text/plain": [
       "dict_keys(['data', 'conf', 'fps'])"
      ]
     },
     "execution_count": 166,
     "metadata": {},
     "output_type": "execute_result"
    }
   ],
   "source": [
    "datum[\"pose\"].keys()"
   ]
  },
  {
   "cell_type": "code",
   "execution_count": 167,
   "id": "b63abeb5-a576-402f-83a5-4b867d1e8b7b",
   "metadata": {},
   "outputs": [
    {
     "data": {
      "text/plain": [
       "TensorShape([58, 1, 543])"
      ]
     },
     "execution_count": 167,
     "metadata": {},
     "output_type": "execute_result"
    }
   ],
   "source": [
    "datum[\"pose\"][\"conf\"].shape"
   ]
  },
  {
   "cell_type": "code",
   "execution_count": 168,
   "id": "3da22bea-bff6-4599-8587-46d62dedd362",
   "metadata": {},
   "outputs": [
    {
     "data": {
      "text/plain": [
       "TensorShape([58, 1, 543, 4])"
      ]
     },
     "execution_count": 168,
     "metadata": {},
     "output_type": "execute_result"
    }
   ],
   "source": [
    "datum[\"pose\"][\"data\"].shape"
   ]
  },
  {
   "cell_type": "code",
   "execution_count": 169,
   "id": "36782e3e-5f70-46dd-86d4-ee0e9da9eb22",
   "metadata": {},
   "outputs": [
    {
     "data": {
      "text/plain": [
       "<tf.Tensor: shape=(), dtype=int32, numpy=30>"
      ]
     },
     "execution_count": 169,
     "metadata": {},
     "output_type": "execute_result"
    }
   ],
   "source": [
    "datum[\"pose\"][\"fps\"]"
   ]
  },
  {
   "cell_type": "code",
   "execution_count": 170,
   "id": "4c5ee174-b8b0-4448-b64a-984b114afbd3",
   "metadata": {},
   "outputs": [
    {
     "data": {
      "text/plain": [
       "<tf.Tensor: shape=(), dtype=float32, numpy=767.67065>"
      ]
     },
     "execution_count": 170,
     "metadata": {},
     "output_type": "execute_result"
    }
   ],
   "source": [
    "import tensorflow as tf\n",
    "\n",
    "tf.reduce_max(datum[\"pose\"][\"data\"])"
   ]
  },
  {
   "cell_type": "code",
   "execution_count": 171,
   "id": "832eb034-396a-427c-b3f0-d802c4301848",
   "metadata": {},
   "outputs": [
    {
     "data": {
      "text/plain": [
       "<tf.Tensor: shape=(), dtype=float32, numpy=-0.80641854>"
      ]
     },
     "execution_count": 171,
     "metadata": {},
     "output_type": "execute_result"
    }
   ],
   "source": [
    "tf.reduce_min(datum[\"pose\"][\"data\"])"
   ]
  },
  {
   "cell_type": "markdown",
   "id": "ffe1ade0-d587-4d10-b732-aff4358c3e1d",
   "metadata": {},
   "source": [
    "Plot with subset of MejiaPerez"
   ]
  },
  {
   "cell_type": "code",
   "execution_count": 172,
   "id": "95f0dbab-7b1b-497b-8645-316e5417afde",
   "metadata": {},
   "outputs": [],
   "source": [
    "from mediapipe.python.solutions.pose import PoseLandmark\n",
    "\n",
    "BODY_JOINTS = [\n",
    "    PoseLandmark.NOSE,\n",
    "    PoseLandmark.RIGHT_SHOULDER.value,\n",
    "    PoseLandmark.RIGHT_ELBOW.value,\n",
    "    PoseLandmark.LEFT_SHOULDER.value,\n",
    "    PoseLandmark.LEFT_ELBOW.value\n",
    "]\n",
    "\n",
    "RIGHT_EYEBROW_JOINTS = [46, 52, 53, 65]\n",
    "LEFT_EYEBROW_JOINTS = [276, 282, 283, 295]\n",
    "RIGHT_EYE = [7, 159, 155, 145]\n",
    "LEFT_EYE = [382, 386, 249, 374]\n",
    "MOUTH = [324, 13, 78, 14]\n",
    "FACE_JOINTS = RIGHT_EYEBROW_JOINTS + \\\n",
    "        LEFT_EYEBROW_JOINTS + RIGHT_EYE + LEFT_EYE + MOUTH"
   ]
  },
  {
   "cell_type": "code",
   "execution_count": 173,
   "id": "b2f6c3db-0d0b-4b86-8881-e410d9773142",
   "metadata": {},
   "outputs": [
    {
     "data": {
      "text/plain": [
       "<matplotlib.collections.PathCollection at 0x7f899076c610>"
      ]
     },
     "execution_count": 173,
     "metadata": {},
     "output_type": "execute_result"
    },
    {
     "data": {
      "image/png": "[encoded data removed]",
      "text/plain": [
       "<Figure size 640x480 with 1 Axes>"
      ]
     },
     "metadata": {},
     "output_type": "display_data"
    }
   ],
   "source": [
    "import numpy as np\n",
    "import matplotlib.pyplot as plt\n",
    "\n",
    "frame = 12\n",
    "\n",
    "x_body = np.array(datum[\"pose\"][\"data\"][frame, 0, 0:17, 0])\n",
    "x_body = x_body[BODY_JOINTS]\n",
    "y_body = np.array(datum[\"pose\"][\"data\"][frame, 0, 0:17, 1])\n",
    "y_body = y_body[BODY_JOINTS]\n",
    "plt.scatter(x=x_body, y=-y_body, s=6, c=\"c\")\n",
    "\n",
    "x_face = np.array(datum[\"pose\"][\"data\"][frame, 0, 33:(33+468), 0])\n",
    "x_face = x_face[FACE_JOINTS]\n",
    "y_face = np.array(datum[\"pose\"][\"data\"][frame, 0, 33:(33+468), 1])\n",
    "y_face = y_face[FACE_JOINTS]\n",
    "plt.scatter(x=x_face, y=-y_face, s=6, c=\"m\")\n",
    "\n",
    "x_lhand = datum[\"pose\"][\"data\"][frame, 0, (33+468):(33+468+21), 0]\n",
    "y_lhand = datum[\"pose\"][\"data\"][frame, 0, (33+468):(33+468+21), 1]\n",
    "plt.scatter(x=x_lhand, y=-y_lhand, s=6, c=\"y\")\n",
    "\n",
    "x_rhand = datum[\"pose\"][\"data\"][frame, 0, (33+468+21):(33+468+21+21), 0]\n",
    "y_rhand = datum[\"pose\"][\"data\"][frame, 0, (33+468+21):(33+468+21+21), 1]\n",
    "plt.scatter(x=x_rhand, y=-y_rhand, s=6, c=\"k\")"
   ]
  },
  {
   "cell_type": "code",
   "execution_count": 174,
   "id": "2eb0bfcf-25f8-4856-bfbb-697a105f8196",
   "metadata": {},
   "outputs": [
    {
     "data": {
      "text/plain": [
       "468"
      ]
     },
     "execution_count": 174,
     "metadata": {},
     "output_type": "execute_result"
    }
   ],
   "source": [
    "543-33-21-21"
   ]
  },
  {
   "cell_type": "code",
   "execution_count": 21,
   "id": "2c757d78-7fb1-4c1f-a73d-d69f43aab526",
   "metadata": {},
   "outputs": [
    {
     "data": {
      "text/plain": [
       "468"
      ]
     },
     "execution_count": 21,
     "metadata": {},
     "output_type": "execute_result"
    }
   ],
   "source": [
    "import numpy as np\n",
    "from mediapipe.python.solutions.face_mesh_connections import FACEMESH_CONTOURS, FACEMESH_TESSELATION\n",
    "\n",
    "m = [(u, v) for (u, v) in list(FACEMESH_CONTOURS)]\n",
    "n = [(u, v) for (u, v) in list(FACEMESH_TESSELATION)]\n",
    "len(np.unique(m + n))"
   ]
  },
  {
   "cell_type": "markdown",
   "id": "d7c3b6dc-ee28-4000-8663-d36a484480fd",
   "metadata": {},
   "source": [
    "Plot with tssi order"
   ]
  },
  {
   "cell_type": "code",
   "execution_count": 24,
   "id": "52521bf3-f6ee-44d1-8297-6768a707252c",
   "metadata": {},
   "outputs": [
    {
     "data": {
      "text/plain": [
       "<matplotlib.collections.PathCollection at 0x7f899c737e50>"
      ]
     },
     "execution_count": 24,
     "metadata": {},
     "output_type": "execute_result"
    },
    {
     "data": {
      "image/png": "[encoded data removed]",
      "text/plain": [
       "<Figure size 640x480 with 1 Axes>"
      ]
     },
     "metadata": {},
     "output_type": "display_data"
    }
   ],
   "source": [
    "import matplotlib.pyplot as plt\n",
    "from skeleton_graph import tssi_v2\n",
    "\n",
    "graph, tssi_order = tssi_v2()\n",
    "\n",
    "frame = 12\n",
    "\n",
    "body_slice = slice(0, 17)\n",
    "face_slie = slice(33, 33+468)\n",
    "left_hand_slice = slice(33+468, 33+468+21)\n",
    "right_hand_slice = slice(33+468+21, 33+468+21+21)\n",
    "\n",
    "joints_idxs = [int(joint.split(\"_\")[1]) for joint in tssi_order \\\n",
    "               if \"pose\" in joint ]\n",
    "x_data = np.array(datum[\"pose\"][\"data\"][frame, 0, body_slice, 0])[joints_idxs]\n",
    "y_data = np.array(datum[\"pose\"][\"data\"][frame, 0, body_slice, 1])[joints_idxs]\n",
    "plt.scatter(x=x_data, y=-y_data, s=6, c=\"c\")\n",
    "\n",
    "joints_idxs = [int(joint.split(\"_\")[1]) for joint in tssi_order \\\n",
    "               if \"face\" in joint ]\n",
    "x_data = np.array(datum[\"pose\"][\"data\"][frame, 0, face_slie, 0])[joints_idxs]\n",
    "y_data = np.array(datum[\"pose\"][\"data\"][frame, 0, face_slie, 1])[joints_idxs]\n",
    "plt.scatter(x=x_data, y=-y_data, s=6, c=\"m\")\n",
    "\n",
    "joints_idxs = [int(joint.split(\"_\")[1]) for joint in tssi_order \\\n",
    "               if \"leftHand\" in joint ]\n",
    "x_data = np.array(datum[\"pose\"][\"data\"][frame, 0, left_hand_slice, 0])[joints_idxs]\n",
    "y_data = np.array(datum[\"pose\"][\"data\"][frame, 0, left_hand_slice, 1])[joints_idxs]\n",
    "plt.scatter(x=x_data, y=-y_data, s=6, c=\"y\")\n",
    "\n",
    "joints_idxs = [int(joint.split(\"_\")[1]) for joint in tssi_order \\\n",
    "                 if \"rightHand\" in joint ]\n",
    "x_data = np.array(datum[\"pose\"][\"data\"][frame, 0, right_hand_slice, 0])[joints_idxs]\n",
    "y_data = np.array(datum[\"pose\"][\"data\"][frame, 0, right_hand_slice, 1])[joints_idxs]\n",
    "plt.scatter(x=x_data, y=-y_data, s=6, c=\"k\")"
   ]
  },
  {
   "cell_type": "markdown",
   "id": "f0f9bed3-957e-49e5-9c8c-f9aaedb1338a",
   "metadata": {},
   "source": [
    "Process datum with processing class"
   ]
  },
  {
   "cell_type": "code",
   "execution_count": 175,
   "id": "2756bd87-2369-451f-8582-a9cfeb6295a4",
   "metadata": {},
   "outputs": [
    {
     "data": {
      "text/plain": [
       "(58, 135, 2)"
      ]
     },
     "execution_count": 175,
     "metadata": {},
     "output_type": "execute_result"
    }
   ],
   "source": [
    "from preprocessing import Preprocessing\n",
    "\n",
    "pose = Preprocessing(tssi_order)(datum[\"pose\"][\"data\"])\n",
    "pose = pose.numpy()\n",
    "pose.shape"
   ]
  },
  {
   "cell_type": "markdown",
   "id": "95a62040-a23b-4861-b906-9787f365e58c",
   "metadata": {},
   "source": [
    "Plot with tssi order"
   ]
  },
  {
   "cell_type": "code",
   "execution_count": 176,
   "id": "d4dd1bec-7390-43fb-b0e9-b57f8792888f",
   "metadata": {},
   "outputs": [
    {
     "data": {
      "text/plain": [
       "<matplotlib.collections.PathCollection at 0x7f8990695f50>"
      ]
     },
     "execution_count": 176,
     "metadata": {},
     "output_type": "execute_result"
    },
    {
     "data": {
      "image/png": "[encoded data removed]",
      "text/plain": [
       "<Figure size 640x480 with 1 Axes>"
      ]
     },
     "metadata": {},
     "output_type": "display_data"
    }
   ],
   "source": [
    "import matplotlib.pyplot as plt\n",
    "\n",
    "face_idxs = [idx for idx, joint in enumerate(tssi_order) if \"face\" in joint]\n",
    "pose_idxs = [idx for idx, joint in enumerate(tssi_order) if \"pose\" in joint]\n",
    "left_hand_idxs = [idx for idx, joint in enumerate(tssi_order) if \"leftHand\" in joint]\n",
    "right_hand_idxs = [idx for idx, joint in enumerate(tssi_order) if \"rightHand\" in joint]\n",
    "extra_idxs = [idx for idx, joint in enumerate(tssi_order) if \"root\" in joint]\n",
    "\n",
    "frame = 12\n",
    "\n",
    "# pose\n",
    "data_x = pose[frame, pose_idxs, 0]\n",
    "data_y = pose[frame, pose_idxs, 1]\n",
    "plt.scatter(x=data_x, y=-data_y, color=\"c\", s=5)\n",
    "\n",
    "# face\n",
    "data_x = pose[frame, face_idxs, 0]\n",
    "data_y = pose[frame, face_idxs, 1]\n",
    "plt.scatter(x=data_x, y=-data_y, color=\"m\", s=5)\n",
    "\n",
    "# left_hand\n",
    "data_x = pose[frame, left_hand_idxs, 0]\n",
    "data_y = pose[frame, left_hand_idxs, 1]\n",
    "plt.scatter(x=data_x, y=-data_y, color=\"y\", s=5)\n",
    "\n",
    "# right_hand\n",
    "data_x = pose[frame, right_hand_idxs, 0]\n",
    "data_y = pose[frame, right_hand_idxs, 1]\n",
    "plt.scatter(x=data_x, y=-data_y, color=\"k\", s=5)\n",
    "\n",
    "# extra\n",
    "data_x = pose[frame, extra_idxs, 0]\n",
    "data_y = pose[frame, extra_idxs, 1]\n",
    "plt.scatter(x=data_x, y=-data_y, color=\"r\", s=5)"
   ]
  },
  {
   "cell_type": "code",
   "execution_count": null,
   "id": "c6e78821-4165-4b9c-b8c5-a7b053a423bb",
   "metadata": {},
   "outputs": [],
   "source": []
  }
 ],
 "metadata": {
  "environment": {
   "kernel": "python3",
   "name": "tf2-gpu.2-10.m103",
   "type": "gcloud",
   "uri": "gcr.io/deeplearning-platform-release/tf2-gpu.2-10:m103"
  },
  "kernelspec": {
   "display_name": "Python 3 (ipykernel)",
   "language": "python",
   "name": "python3"
  },
  "language_info": {
   "codemirror_mode": {
    "name": "ipython",
    "version": 3
   },
   "file_extension": ".py",
   "mimetype": "text/x-python",
   "name": "python",
   "nbconvert_exporter": "python",
   "pygments_lexer": "ipython3",
   "version": "3.10.9"
  }
 },
 "nbformat": 4,
 "nbformat_minor": 5
}
