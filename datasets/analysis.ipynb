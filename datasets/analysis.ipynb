{
 "cells": [
  {
   "cell_type": "code",
   "execution_count": 30,
   "id": "67adaa09-22d1-44ec-a684-636941c978a6",
   "metadata": {},
   "outputs": [],
   "source": [
    "import tensorflow_datasets as tfds\n",
    "import tensorflow as tf"
   ]
  },
  {
   "cell_type": "code",
   "execution_count": 76,
   "id": "c2bdfea0-15e2-41c1-b27f-d9ce00eb1397",
   "metadata": {},
   "outputs": [],
   "source": [
    "ds, info = tfds.load(\"pop_sign\", split='validation[:10%]', data_dir=\".\", with_info=True)"
   ]
  },
  {
   "cell_type": "code",
   "execution_count": 32,
   "id": "dff8f0b7-cce6-420b-bd11-82c12c1d22d0",
   "metadata": {},
   "outputs": [
    {
     "data": {
      "text/plain": [
       "<tf.Tensor: shape=(), dtype=int64, numpy=1890>"
      ]
     },
     "execution_count": 32,
     "metadata": {},
     "output_type": "execute_result"
    }
   ],
   "source": [
    "ds.cardinality()"
   ]
  },
  {
   "cell_type": "code",
   "execution_count": 17,
   "id": "484965f9-44e9-47af-93ec-5fcf1137b83c",
   "metadata": {},
   "outputs": [],
   "source": [
    "results = []\n",
    "\n",
    "for example in ds:\n",
    "    pose = example[\"pose\"]\n",
    "    res = tf.reduce_any(tf.math.is_nan(pose))\n",
    "    results.append(res)"
   ]
  },
  {
   "cell_type": "code",
   "execution_count": 18,
   "id": "65bf0838-1a3f-411c-b43a-2645f06dd5c6",
   "metadata": {},
   "outputs": [
    {
     "data": {
      "text/plain": [
       "False"
      ]
     },
     "execution_count": 18,
     "metadata": {},
     "output_type": "execute_result"
    }
   ],
   "source": [
    "import numpy as np\n",
    "\n",
    "np.any(results)"
   ]
  },
  {
   "cell_type": "code",
   "execution_count": 19,
   "id": "29baab75-a9f1-4938-823c-014c3e591bcd",
   "metadata": {},
   "outputs": [
    {
     "data": {
      "text/plain": [
       "TensorShape([16, 543, 3])"
      ]
     },
     "execution_count": 19,
     "metadata": {},
     "output_type": "execute_result"
    }
   ],
   "source": [
    "pose.shape"
   ]
  },
  {
   "cell_type": "code",
   "execution_count": 42,
   "id": "5113fa60-927f-426c-8482-13b2b3e0a9a1",
   "metadata": {},
   "outputs": [],
   "source": [
    "import numpy as np\n",
    "import tflite_runtime.interpreter as tflite\n",
    "\n",
    "interpreter = tflite.Interpreter(\"./model.tflite\")\n",
    "prediction_fn = interpreter.get_signature_runner(\"serving_default\")\n",
    "preds = []\n",
    "\n",
    "for example in ds:\n",
    "    pose = example[\"pose\"]\n",
    "    output = prediction_fn(inputs=pose)\n",
    "    sign = np.argmax(output[\"outputs\"])\n",
    "    preds.append(sign)"
   ]
  },
  {
   "cell_type": "code",
   "execution_count": 45,
   "id": "42ea4413-54aa-41db-aa28-7d7d4f505e96",
   "metadata": {},
   "outputs": [],
   "source": [
    "ROWS_PER_FRAME = 543  # number of landmarks per frame\n",
    "\n",
    "def load_relevant_data_subset(pq_path):\n",
    "    data_columns = ['x', 'y', 'z']\n",
    "    data = pd.read_parquet(pq_path, columns=data_columns)\n",
    "    n_frames = int(len(data) / ROWS_PER_FRAME)\n",
    "    data = data.values.reshape(n_frames, ROWS_PER_FRAME, len(data_columns))\n",
    "    return data.astype(np.float32)"
   ]
  },
  {
   "cell_type": "code",
   "execution_count": 98,
   "id": "da88ff0f-33eb-4dfd-9551-e658f13a5c96",
   "metadata": {},
   "outputs": [],
   "source": [
    "import numpy as np\n",
    "import tflite_runtime.interpreter as tflite\n",
    "import pandas as pd\n",
    "import random\n",
    "\n",
    "interpreter = tflite.Interpreter(\"./model.tflite\")\n",
    "prediction_fn = interpreter.get_signature_runner(\"serving_default\")\n",
    "\n",
    "SOURCE_PATH = \"./downloads/extracted/ZIP.kagg-comp-data_kagg-v2_4610_5087_comp_trai9p7zcoakwSxU8gbhej-Ui0WA5xI1-KSjJcJbbB6BSgE.zip\"\n",
    "info = pd.read_csv(\"train.csv\")\n",
    "\n",
    "preds = []\n",
    "trues = info[\"sign\"].to_list()\n",
    "paths = info[\"path\"].to_list()\n",
    "# for path in random.sample(paths, k=100):\n",
    "for path in paths[:100]:\n",
    "    filepath = path.replace(\"train_landmark_files\", \"\")\n",
    "    filepath = SOURCE_PATH + \"/\" + filepath\n",
    "    pose = load_relevant_data_subset(filepath)\n",
    "    output = prediction_fn(inputs=pose)\n",
    "    sign = np.argmax(output[\"outputs\"])\n",
    "    preds.append(sign)"
   ]
  },
  {
   "cell_type": "code",
   "execution_count": 92,
   "id": "86715128-8b9e-4dab-aa9d-f5e323759ca2",
   "metadata": {},
   "outputs": [
    {
     "name": "stdout",
     "output_type": "stream",
     "text": [
      "['blow', 'wait', 'cloud', 'bird', 'owie', 'duck', 'minemy', 'lips', 'flower', 'time', 'vacuum', 'apple', 'puzzle', 'mitten', 'there', 'dry', 'shirt', 'owl', 'yellow', 'not', 'zipper', 'clean', 'closet', 'quiet', 'have', 'brother', 'clown', 'cheek', 'cute', 'store', 'shoe', 'wet', 'see', 'empty', 'fall', 'balloon', 'frenchfries', 'finger', 'same', 'cry', 'hungry', 'orange', 'milk', 'go', 'drawer', 'TV', 'another', 'giraffe', 'wake', 'bee', 'bad', 'can', 'say', 'callonphone', 'finish', 'old', 'backyard', 'sick', 'look', 'that', 'black', 'yourself', 'open', 'alligator', 'moon', 'find', 'pizza', 'shhh', 'fast', 'jacket', 'scissors', 'now', 'man', 'sticky', 'jump', 'sleep', 'sun', 'first', 'grass', 'uncle', 'fish', 'cowboy', 'snow', 'dryer', 'green', 'bug', 'nap', 'feet', 'yucky', 'morning', 'sad', 'face', 'penny', 'gift', 'night', 'hair', 'who', 'think', 'brown', 'mad', 'bed', 'drink', 'stay', 'flag', 'tooth', 'awake', 'thankyou', 'hot', 'like', 'where', 'hesheit', 'potty', 'down', 'stuck', 'no', 'head', 'food', 'pretty', 'nuts', 'animal', 'frog', 'beside', 'noisy', 'water', 'weus', 'happy', 'white', 'bye', 'high', 'fine', 'boat', 'all', 'tiger', 'pencil', 'sleepy', 'grandma', 'chocolate', 'haveto', 'radio', 'farm', 'any', 'zebra', 'rain', 'toy', 'donkey', 'lion', 'drop', 'many', 'bath', 'aunt', 'will', 'hate', 'on', 'pretend', 'kitty', 'fireman', 'before', 'doll', 'stairs', 'kiss', 'loud', 'hen', 'listen', 'give', 'wolf', 'dad', 'gum', 'hear', 'refrigerator', 'outside', 'cut', 'underwear', 'please', 'child', 'smile', 'pen', 'yesterday', 'horse', 'pig', 'table', 'eye', 'snack', 'story', 'police', 'arm', 'talk', 'grandpa', 'tongue', 'pool', 'girl', 'up', 'better', 'tree', 'dance', 'close', 'taste', 'chin', 'ride', 'because', 'if', 'cat', 'why', 'carrot', 'dog', 'mouse', 'jeans', 'shower', 'later', 'mom', 'nose', 'yes', 'airplane', 'book', 'blue', 'icecream', 'garbage', 'tomorrow', 'red', 'cow', 'person', 'puppy', 'cereal', 'touch', 'mouth', 'boy', 'thirsty', 'make', 'for', 'glasswindow', 'into', 'read', 'every', 'bedroom', 'napkin', 'ear', 'toothbrush', 'home', 'pajamas', 'hello', 'helicopter', 'lamp', 'room', 'dirty', 'chair', 'hat', 'elephant', 'after', 'car', 'hide', 'goose']\n",
      "[0, 1, 2, 3, 4, 5, 6, 7, 8, 9, 10, 11, 12, 13, 14, 15, 16, 17, 18, 19, 20, 21, 22, 23, 24, 25, 26, 27, 28, 29, 30, 31, 32, 33, 34, 35, 36, 37, 38, 39, 40, 41, 42, 43, 44, 45, 46, 47, 48, 49, 50, 51, 52, 53, 54, 55, 56, 57, 58, 59, 60, 61, 62, 63, 64, 65, 66, 67, 68, 69, 70, 71, 72, 73, 74, 75, 76, 77, 78, 79, 80, 81, 82, 83, 84, 85, 86, 87, 88, 89, 90, 91, 92, 93, 94, 95, 96, 97, 98, 99, 100, 101, 102, 103, 104, 105, 106, 107, 108, 109, 110, 111, 112, 113, 114, 115, 116, 117, 118, 119, 120, 121, 122, 123, 124, 125, 126, 127, 128, 129, 130, 131, 132, 133, 134, 135, 136, 137, 138, 139, 140, 141, 142, 143, 144, 145, 146, 147, 148, 149, 150, 151, 152, 153, 154, 155, 156, 157, 158, 159, 160, 161, 162, 163, 164, 165, 166, 167, 168, 169, 170, 171, 172, 173, 174, 175, 176, 177, 178, 179, 180, 181, 182, 183, 184, 185, 186, 187, 188, 189, 190, 191, 192, 193, 194, 195, 196, 197, 198, 199, 200, 201, 202, 203, 204, 205, 206, 207, 208, 209, 210, 211, 212, 213, 214, 215, 216, 217, 218, 219, 220, 221, 222, 223, 224, 225, 226, 227, 228, 229, 230, 231, 232, 233, 234, 235, 236, 237, 238, 239, 240, 241, 242, 243, 244, 245, 246, 247, 248, 249]\n"
     ]
    }
   ],
   "source": [
    "labels = list(info.features[\"label\"]._str2int.keys())\n",
    "print(labels)\n",
    "indexes = [labels.index(v) for v in labels]\n",
    "print(indexes)"
   ]
  },
  {
   "cell_type": "code",
   "execution_count": 88,
   "id": "64628a7a-53bf-414c-89e4-d05f8b74e300",
   "metadata": {},
   "outputs": [],
   "source": [
    "import json\n",
    "   \n",
    "f = open('sign_to_prediction_index_map.json')\n",
    "data = json.load(f)"
   ]
  },
  {
   "cell_type": "code",
   "execution_count": 91,
   "id": "d5a536ad-53c0-4d99-985f-9ed9511d9fb3",
   "metadata": {},
   "outputs": [
    {
     "name": "stdout",
     "output_type": "stream",
     "text": [
      "['TV', 'after', 'airplane', 'all', 'alligator', 'animal', 'another', 'any', 'apple', 'arm', 'aunt', 'awake', 'backyard', 'bad', 'balloon', 'bath', 'because', 'bed', 'bedroom', 'bee', 'before', 'beside', 'better', 'bird', 'black', 'blow', 'blue', 'boat', 'book', 'boy', 'brother', 'brown', 'bug', 'bye', 'callonphone', 'can', 'car', 'carrot', 'cat', 'cereal', 'chair', 'cheek', 'child', 'chin', 'chocolate', 'clean', 'close', 'closet', 'cloud', 'clown', 'cow', 'cowboy', 'cry', 'cut', 'cute', 'dad', 'dance', 'dirty', 'dog', 'doll', 'donkey', 'down', 'drawer', 'drink', 'drop', 'dry', 'dryer', 'duck', 'ear', 'elephant', 'empty', 'every', 'eye', 'face', 'fall', 'farm', 'fast', 'feet', 'find', 'fine', 'finger', 'finish', 'fireman', 'first', 'fish', 'flag', 'flower', 'food', 'for', 'frenchfries', 'frog', 'garbage', 'gift', 'giraffe', 'girl', 'give', 'glasswindow', 'go', 'goose', 'grandma', 'grandpa', 'grass', 'green', 'gum', 'hair', 'happy', 'hat', 'hate', 'have', 'haveto', 'head', 'hear', 'helicopter', 'hello', 'hen', 'hesheit', 'hide', 'high', 'home', 'horse', 'hot', 'hungry', 'icecream', 'if', 'into', 'jacket', 'jeans', 'jump', 'kiss', 'kitty', 'lamp', 'later', 'like', 'lion', 'lips', 'listen', 'look', 'loud', 'mad', 'make', 'man', 'many', 'milk', 'minemy', 'mitten', 'mom', 'moon', 'morning', 'mouse', 'mouth', 'nap', 'napkin', 'night', 'no', 'noisy', 'nose', 'not', 'now', 'nuts', 'old', 'on', 'open', 'orange', 'outside', 'owie', 'owl', 'pajamas', 'pen', 'pencil', 'penny', 'person', 'pig', 'pizza', 'please', 'police', 'pool', 'potty', 'pretend', 'pretty', 'puppy', 'puzzle', 'quiet', 'radio', 'rain', 'read', 'red', 'refrigerator', 'ride', 'room', 'sad', 'same', 'say', 'scissors', 'see', 'shhh', 'shirt', 'shoe', 'shower', 'sick', 'sleep', 'sleepy', 'smile', 'snack', 'snow', 'stairs', 'stay', 'sticky', 'store', 'story', 'stuck', 'sun', 'table', 'talk', 'taste', 'thankyou', 'that', 'there', 'think', 'thirsty', 'tiger', 'time', 'tomorrow', 'tongue', 'tooth', 'toothbrush', 'touch', 'toy', 'tree', 'uncle', 'underwear', 'up', 'vacuum', 'wait', 'wake', 'water', 'wet', 'weus', 'where', 'white', 'who', 'why', 'will', 'wolf', 'yellow', 'yes', 'yesterday', 'yourself', 'yucky', 'zebra', 'zipper']\n"
     ]
    }
   ],
   "source": [
    "real_labels = list(data.keys())\n",
    "print(real_labels)"
   ]
  },
  {
   "cell_type": "code",
   "execution_count": 93,
   "id": "0aef029a-5ccc-45d2-9ea8-006750e0a521",
   "metadata": {},
   "outputs": [
    {
     "name": "stdout",
     "output_type": "stream",
     "text": [
      "[45, 246, 211, 131, 63, 119, 46, 140, 11, 184, 149, 105, 56, 50, 35, 148, 198, 100, 232, 49, 156, 121, 191, 3, 60, 0, 213, 130, 212, 224, 25, 98, 85, 127, 53, 51, 247, 202, 200, 221, 243, 27, 173, 196, 136, 21, 194, 22, 2, 26, 218, 81, 39, 170, 28, 165, 193, 242, 203, 157, 144, 112, 44, 101, 146, 15, 83, 5, 234, 245, 33, 231, 180, 91, 34, 139, 68, 87, 65, 129, 37, 54, 155, 77, 80, 103, 8, 116, 227, 36, 120, 215, 93, 47, 189, 163, 228, 43, 249, 135, 186, 78, 84, 166, 95, 125, 244, 151, 24, 137, 115, 167, 239, 238, 161, 110, 248, 128, 236, 177, 107, 40, 214, 199, 229, 69, 205, 74, 159, 154, 240, 207, 108, 145, 7, 162, 58, 160, 99, 226, 72, 147, 42, 6, 13, 208, 64, 89, 204, 223, 86, 233, 94, 114, 122, 209, 19, 71, 118, 55, 152, 62, 41, 169, 4, 17, 237, 175, 133, 92, 219, 178, 66, 172, 183, 188, 111, 153, 117, 220, 12, 23, 138, 142, 230, 217, 168, 197, 241, 90, 38, 52, 70, 32, 67, 16, 30, 206, 57, 75, 134, 174, 181, 82, 158, 102, 73, 29, 182, 113, 76, 179, 185, 195, 106, 59, 14, 97, 225, 132, 9, 216, 187, 104, 235, 222, 143, 192, 79, 171, 190, 10, 1, 48, 123, 31, 124, 109, 126, 96, 201, 150, 164, 18, 210, 176, 61, 88, 141, 20]\n"
     ]
    }
   ],
   "source": [
    "reordered_indexes = [labels.index(v) for v in real_labels]\n",
    "print(reordered_indexes)"
   ]
  },
  {
   "cell_type": "code",
   "execution_count": 109,
   "id": "fe919200-f72c-42c9-96ff-0d2a3d496490",
   "metadata": {},
   "outputs": [
    {
     "data": {
      "text/plain": [
       "0.3"
      ]
     },
     "execution_count": 109,
     "metadata": {},
     "output_type": "execute_result"
    }
   ],
   "source": [
    "np.sum(np.array([labels[pred] for pred in preds]) == np.array(trues[:100])) / 100"
   ]
  },
  {
   "cell_type": "code",
   "execution_count": null,
   "id": "e38ec913-9e0d-4b1d-95ce-74cd1ffe0d29",
   "metadata": {},
   "outputs": [],
   "source": []
  }
 ],
 "metadata": {
  "environment": {
   "kernel": "python3",
   "name": "tf2-gpu.2-10.m103",
   "type": "gcloud",
   "uri": "gcr.io/deeplearning-platform-release/tf2-gpu.2-10:m103"
  },
  "kernelspec": {
   "display_name": "Python 3 (ipykernel)",
   "language": "python",
   "name": "python3"
  },
  "language_info": {
   "codemirror_mode": {
    "name": "ipython",
    "version": 3
   },
   "file_extension": ".py",
   "mimetype": "text/x-python",
   "name": "python",
   "nbconvert_exporter": "python",
   "pygments_lexer": "ipython3",
   "version": "3.7.12"
  }
 },
 "nbformat": 4,
 "nbformat_minor": 5
}
