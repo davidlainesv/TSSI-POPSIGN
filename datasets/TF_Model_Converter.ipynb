{
  "nbformat": 4,
  "nbformat_minor": 0,
  "metadata": {
    "colab": {
      "provenance": []
    },
    "kernelspec": {
      "name": "python3",
      "display_name": "Python 3"
    },
    "language_info": {
      "name": "python"
    }
  },
  "cells": [
    {
      "cell_type": "code",
      "source": [
        "# !pip install wandb"
      ],
      "metadata": {
        "id": "YwN_fM0FVFwh"
      },
      "execution_count": 1,
      "outputs": []
    },
    {
      "cell_type": "code",
      "source": [
        "# !pip install mediapipe"
      ],
      "metadata": {
        "id": "LhdgckhG5IEE"
      },
      "execution_count": 2,
      "outputs": []
    },
    {
      "cell_type": "code",
      "source": [
        "# !pip install --force-reinstall tensorflow==2.10.1\n",
        "# !pip install tensorflow-addons\n",
        "# !pip install tensorflow-datasets"
      ],
      "metadata": {
        "id": "y_m5j_aRWpqA"
      },
      "execution_count": 3,
      "outputs": []
    },
    {
      "cell_type": "code",
      "source": [
        "# !pip install tflite-runtime==2.9.1"
      ],
      "metadata": {
        "id": "AItWXyJMsZYK"
      },
      "execution_count": 13,
      "outputs": []
    },
    {
      "cell_type": "code",
      "source": [
        "# !wandb login"
      ],
      "metadata": {
        "id": "OpsIlLrpVGy8"
      },
      "execution_count": 4,
      "outputs": []
    },
    {
      "cell_type": "code",
      "source": [
        "!rm -r ./TSSI-POPSIGN"
      ],
      "metadata": {
        "id": "xMHDPAhwToBd"
      },
      "execution_count": 5,
      "outputs": []
    },
    {
      "cell_type": "code",
      "source": [
        "!git clone https://github.com/davidlainesv/TSSI-POPSIGN.git"
      ],
      "metadata": {
        "colab": {
          "base_uri": "https://localhost:8080/"
        },
        "id": "kPReQwcJZYMM",
        "outputId": "4ba1212b-3cb8-4e85-f920-ecbb5bab5203"
      },
      "execution_count": 6,
      "outputs": [
        {
          "output_type": "stream",
          "name": "stdout",
          "text": [
            "Cloning into 'TSSI-POPSIGN'...\n",
            "remote: Enumerating objects: 197, done.\u001b[K\n",
            "remote: Counting objects: 100% (197/197), done.\u001b[K\n",
            "remote: Compressing objects: 100% (145/145), done.\u001b[K\n",
            "remote: Total 197 (delta 106), reused 127 (delta 49), pack-reused 0\u001b[K\n",
            "Receiving objects: 100% (197/197), 1.31 MiB | 10.92 MiB/s, done.\n",
            "Resolving deltas: 100% (106/106), done.\n"
          ]
        }
      ]
    },
    {
      "cell_type": "code",
      "execution_count": 23,
      "metadata": {
        "id": "W3bITCBYUZ8p"
      },
      "outputs": [],
      "source": [
        "import tensorflow as tf\n",
        "from tensorflow.keras.metrics import TopKCategoricalAccuracy\n",
        "from tensorflow.keras.layers import Dropout, Dense\n",
        "from tensorflow.keras import Input\n",
        "from tensorflow.keras.models import Model\n",
        "from tensorflow.keras.applications.densenet import DenseNet121\n",
        "from tensorflow_addons.optimizers import TriangularCyclicalLearningRate\n",
        "from tensorflow_addons.optimizers import SGDW\n",
        "from tensorflow.keras.optimizers import SGD\n",
        "import wandb\n",
        "\n",
        "import sys\n",
        "sys.path.insert(1, '/content/TSSI-POPSIGN')\n",
        "\n",
        "from preprocessing import ResizeIfMoreThan, PadIfLessThan\n",
        "from datasets.popsign_preprocessing import Preprocessing\n",
        "from skeleton_graph import tssi_v2\n",
        "from efficient_net_b0 import EfficientNetB0\n",
        "\n",
        "NUM_CLASSES = 250\n",
        "\n",
        "tssi_order = tssi_v2()[1]\n",
        "\n",
        "\n",
        "def build_sgd_optimizer(initial_learning_rate=0.001,\n",
        "                        maximal_learning_rate=0.01,\n",
        "                        step_size=12, momentum=0.0,\n",
        "                        nesterov=False, weight_decay=1e-7):\n",
        "    # setup schedule\n",
        "    learning_rate_schedule = TriangularCyclicalLearningRate(\n",
        "        initial_learning_rate=initial_learning_rate,\n",
        "        maximal_learning_rate=maximal_learning_rate,\n",
        "        step_size=step_size)\n",
        "\n",
        "    # setup the optimizer\n",
        "    if weight_decay:\n",
        "        initial_weight_decay = weight_decay\n",
        "        maximal_weight_decay = weight_decay * \\\n",
        "            (maximal_learning_rate / initial_learning_rate)\n",
        "        weight_decay_schedule = TriangularCyclicalLearningRate(\n",
        "            initial_learning_rate=initial_weight_decay,\n",
        "            maximal_learning_rate=maximal_weight_decay,\n",
        "            step_size=step_size)\n",
        "\n",
        "        optimizer = SGDW(learning_rate=learning_rate_schedule,\n",
        "                         weight_decay=weight_decay_schedule,\n",
        "                         momentum=momentum, nesterov=nesterov)\n",
        "    else:\n",
        "        optimizer = SGD(learning_rate=learning_rate_schedule,\n",
        "                        momentum=momentum, nesterov=nesterov)\n",
        "    return optimizer\n",
        "\n",
        "\n",
        "def focal_loss(gamma=2., alpha=4.):\n",
        "\n",
        "    gamma = float(gamma)\n",
        "    alpha = float(alpha)\n",
        "\n",
        "    def focal_loss_fixed(y_true, y_pred):\n",
        "        \"\"\"Focal loss for multi-classification\n",
        "        FL(p_t)=-alpha(1-p_t)^{gamma}ln(p_t)\n",
        "        Notice: y_pred is probability after softmax\n",
        "        gradient is d(Fl)/d(p_t) not d(Fl)/d(x) as described in paper\n",
        "        d(Fl)/d(p_t) * [p_t(1-p_t)] = d(Fl)/d(x)\n",
        "        Focal Loss for Dense Object Detection\n",
        "        https://arxiv.org/abs/1708.02002\n",
        "        Arguments:\n",
        "            y_true {tensor} -- ground truth labels, shape of [batch_size, num_cls]\n",
        "            y_pred {tensor} -- model's output, shape of [batch_size, num_cls]\n",
        "        Keyword Arguments:\n",
        "            gamma {float} -- (default: {2.0})\n",
        "            alpha {float} -- (default: {4.0})\n",
        "        Returns:\n",
        "            [tensor] -- loss.\n",
        "        \"\"\"\n",
        "        epsilon = 1.e-9\n",
        "        y_true = tf.convert_to_tensor(y_true, tf.float32)\n",
        "        y_pred = tf.convert_to_tensor(y_pred, tf.float32)\n",
        "\n",
        "        model_out = tf.math.add(y_pred, epsilon)\n",
        "        ce = tf.math.multiply(y_true, -tf.math.log(model_out))\n",
        "        weight = tf.math.multiply(y_true, tf.math.pow(tf.math.subtract(1., model_out), gamma))\n",
        "        fl = tf.math.multiply(alpha, tf.math.multiply(weight, ce))\n",
        "        reduced_fl = tf.reduce_max(fl, axis=1)\n",
        "        return tf.reduce_mean(reduced_fl)\n",
        "    return focal_loss_fixed\n",
        "\n",
        "api = wandb.Api()\n",
        "\n",
        "class_idxs = [45, 246, 211, 131, 63, 119, 46, 140, 11, 184, 149, 105, 56, 50,\n",
        "              35, 148, 198, 100, 232, 49, 156, 121, 191, 3, 60, 0, 213, 130,\n",
        "              212, 224, 25, 98, 85, 127, 53, 51, 247, 202, 200, 221, 243, 27,\n",
        "              173, 196, 136, 21, 194, 22, 2, 26, 218, 81, 39, 170, 28, 165,\n",
        "              193, 242, 203, 157, 144, 112, 44, 101, 146, 15, 83, 5, 234, 245,\n",
        "              33, 231, 180, 91, 34, 139, 68, 87, 65, 129, 37, 54, 155, 77, 80,\n",
        "              103, 8, 116, 227, 36, 120, 215, 93, 47, 189, 163, 228, 43, 249,\n",
        "              135, 186, 78, 84, 166, 95, 125, 244, 151, 24, 137, 115, 167,\n",
        "              239, 238, 161, 110, 248, 128, 236, 177, 107, 40, 214, 199, 229,\n",
        "              69, 205, 74, 159, 154, 240, 207, 108, 145, 7, 162, 58, 160, 99,\n",
        "              226, 72, 147, 42, 6, 13, 208, 64, 89, 204, 223, 86, 233, 94, 114,\n",
        "              122, 209, 19, 71, 118, 55, 152, 62, 41, 169, 4, 17, 237, 175,\n",
        "              133, 92, 219, 178, 66, 172, 183, 188, 111, 153, 117, 220, 12,\n",
        "              23, 138, 142, 230, 217, 168, 197, 241, 90, 38, 52, 70, 32, 67,\n",
        "              16, 30, 206, 57, 75, 134, 174, 181, 82, 158, 102, 73, 29, 182,\n",
        "              113, 76, 179, 185, 195, 106, 59, 14, 97, 225, 132, 9, 216, 187,\n",
        "              104, 235, 222, 143, 192, 79, 171, 190, 10, 1, 48, 123, 31, 124,\n",
        "              109, 126, 96, 201, 150, 164, 18, 210, 176, 61, 88, 141, 20]\n",
        "\n",
        "class ReorderLayer(tf.keras.layers.Layer):\n",
        "    def __init__(self, class_idxs=[], **kwargs):\n",
        "        super(ReorderLayer, self).__init__(**kwargs)\n",
        "        self.class_idxs = tf.constant(class_idxs)\n",
        "\n",
        "    def call(self, predictions):\n",
        "      return tf.gather(predictions,\n",
        "                       indices=self.class_idxs,\n",
        "                       axis=1)\n",
        "\n",
        "def build_densenet121_model(dropout=0, optimizer=None, use_focal_loss=False):\n",
        "    # DOWNLOAD THE WEIGHTS\n",
        "    # use the latest version of the model\n",
        "    weights_at = api.artifact('davidlainesv/popsign-testing/run_ejp9qq7p_model:v0')\n",
        "    # download the directory in which the model is saved\n",
        "    weights_dir = weights_at.download()\n",
        "    # print(\"model: \", weights_dir)\n",
        "\n",
        "    # ORIGINAL INPUT SHAPE = [frames, 543, 3]\n",
        "    inputs = Input(shape=[543, 3], name=\"inputs\")\n",
        "\n",
        "    # EXPAND TO INPUT SHAPE = [1, frames, 543, 3]\n",
        "    x = tf.expand_dims(inputs, 0)\n",
        "\n",
        "    # RESHAPE TO INPUT SHAPE = [1, 60, 135, 3]\n",
        "    x = Preprocessing(tssi_order)(x)\n",
        "    x = ResizeIfMoreThan(frames=60)(x)\n",
        "    x = PadIfLessThan(frames=60)(x)\n",
        "    x = tf.keras.layers.Reshape((60, 135, 3))(x)\n",
        "\n",
        "    # x = tf.debugging.check_numerics(x)\n",
        "\n",
        "    # SET CORRECT INPUT SHAPE\n",
        "    x = DenseNet121(input_shape=[60, 135, 3], weights=None,\n",
        "                    include_top=False, pooling='avg')(x)\n",
        "    x = Dropout(dropout)(x)\n",
        "    predictions = Dense(NUM_CLASSES, activation='softmax')(x)\n",
        "\n",
        "    # REORDER PREDICTIONS\n",
        "    predictions = ReorderLayer(class_idxs, name=\"outputs\")(predictions)\n",
        "\n",
        "    model = Model(inputs=inputs, outputs=predictions)\n",
        "\n",
        "    # LOAD WEIGHTS\n",
        "    model.load_weights(weights_dir + \"/weights\")\n",
        "\n",
        "    # setup the metrics\n",
        "    metrics = [\n",
        "        TopKCategoricalAccuracy(k=1, name='top_1', dtype=tf.float32)\n",
        "    ]\n",
        "\n",
        "    # compile the model\n",
        "    if use_focal_loss:\n",
        "        loss = focal_loss(alpha=1)\n",
        "    else:\n",
        "        loss = \"categorical_crossentropy\"\n",
        "\n",
        "    # compile the model\n",
        "    model.compile(optimizer=optimizer, loss=loss, metrics=metrics)\n",
        "\n",
        "    return model\n"
      ]
    },
    {
      "cell_type": "code",
      "source": [
        "optimizer = build_sgd_optimizer(initial_learning_rate=0.01, maximal_learning_rate=0.1,\n",
        "                                momentum=0.9, weight_decay=0, step_size=17724)\n",
        "model_smart_totem_6 = build_densenet121_model(dropout=0, optimizer=optimizer, use_focal_loss=True)"
      ],
      "metadata": {
        "colab": {
          "base_uri": "https://localhost:8080/"
        },
        "id": "CNJWRGUqWaKG",
        "outputId": "5dff3a91-0b08-4b8f-a7ae-dad29e365916"
      },
      "execution_count": 24,
      "outputs": [
        {
          "output_type": "stream",
          "name": "stderr",
          "text": [
            "\u001b[34m\u001b[1mwandb\u001b[0m: Downloading large artifact run_ejp9qq7p_model:v0, 55.57MB. 3 files... \n",
            "\u001b[34m\u001b[1mwandb\u001b[0m:   3 of 3 files downloaded.  \n",
            "Done. 0:0:0.1\n",
            "WARNING:tensorflow:Inconsistent references when loading the checkpoint into this object graph. For example, in the saved checkpoint object, `model.layer.weight` and `model.layer_copy.weight` reference the same variable, while in the current object these are two different variables. The referenced variables are:(<keras.engine.functional.Functional object at 0x7f86e14f6dc0> and <keras.layers.core.tf_op_layer.TFOpLambda object at 0x7f86e1913bb0>).\n",
            "WARNING:tensorflow:Inconsistent references when loading the checkpoint into this object graph. For example, in the saved checkpoint object, `model.layer.weight` and `model.layer_copy.weight` reference the same variable, while in the current object these are two different variables. The referenced variables are:(<keras.layers.core.dense.Dense object at 0x7f86e1d58730> and <preprocessing.ResizeIfMoreThan object at 0x7f86e1a7f7f0>).\n"
          ]
        }
      ]
    },
    {
      "cell_type": "code",
      "source": [
        "# x = tf.constant([[[1, 2]], [[3, 4]]])\n",
        "# x"
      ],
      "metadata": {
        "id": "b1jXBO4uAOs6"
      },
      "execution_count": 25,
      "outputs": []
    },
    {
      "cell_type": "code",
      "source": [
        "# tf.experimental.numpy.full([2, 4, 2], x)"
      ],
      "metadata": {
        "id": "LOP3RcehAfXm"
      },
      "execution_count": 26,
      "outputs": []
    },
    {
      "cell_type": "code",
      "source": [
        "# tf.repeat(x, 4, axis=1)"
      ],
      "metadata": {
        "id": "Z2uCQTCtBDUq"
      },
      "execution_count": 27,
      "outputs": []
    },
    {
      "cell_type": "code",
      "source": [
        "# tf.fill([1, 3, 2], x)"
      ],
      "metadata": {
        "id": "hfumSGhz_-pl"
      },
      "execution_count": 28,
      "outputs": []
    },
    {
      "cell_type": "code",
      "source": [
        "model_smart_totem_6.summary()"
      ],
      "metadata": {
        "colab": {
          "base_uri": "https://localhost:8080/"
        },
        "id": "MTyi1fLx7bSc",
        "outputId": "a435b4d8-e06d-4234-fb1c-0f123ec576bd"
      },
      "execution_count": 29,
      "outputs": [
        {
          "output_type": "stream",
          "name": "stdout",
          "text": [
            "Model: \"model_2\"\n",
            "_________________________________________________________________\n",
            " Layer (type)                Output Shape              Param #   \n",
            "=================================================================\n",
            " inputs (InputLayer)         [(None, 543, 3)]          0         \n",
            "                                                                 \n",
            " tf.expand_dims_2 (TFOpLambd  (1, None, 543, 3)        0         \n",
            " a)                                                              \n",
            "                                                                 \n",
            " preprocessing_2 (Preprocess  (1, None, 135, 3)        0         \n",
            " ing)                                                            \n",
            "                                                                 \n",
            " resize_if_more_than_2 (Resi  (1, None, None, 3)       0         \n",
            " zeIfMoreThan)                                                   \n",
            "                                                                 \n",
            " pad_if_less_than_2 (PadIfLe  (1, None, None, 3)       0         \n",
            " ssThan)                                                         \n",
            "                                                                 \n",
            " reshape_2 (Reshape)         (1, 60, 135, 3)           0         \n",
            "                                                                 \n",
            " densenet121 (Functional)    (None, 1024)              7037504   \n",
            "                                                                 \n",
            " dropout_2 (Dropout)         (1, 1024)                 0         \n",
            "                                                                 \n",
            " dense (Dense)               (1, 250)                  256250    \n",
            "                                                                 \n",
            " outputs (ReorderLayer)      (1, 250)                  0         \n",
            "                                                                 \n",
            "=================================================================\n",
            "Total params: 7,293,754\n",
            "Trainable params: 7,210,106\n",
            "Non-trainable params: 83,648\n",
            "_________________________________________________________________\n"
          ]
        }
      ]
    },
    {
      "cell_type": "code",
      "source": [
        "%timeit model_smart_totem_6.predict(tf.zeros([100, 543, 3]))"
      ],
      "metadata": {
        "colab": {
          "base_uri": "https://localhost:8080/"
        },
        "id": "9W4ggWillkM3",
        "outputId": "b437048c-f26b-424e-8457-023d332709e0"
      },
      "execution_count": 30,
      "outputs": [
        {
          "output_type": "stream",
          "name": "stdout",
          "text": [
            "4/4 [==============================] - 4s 58ms/step\n",
            "4/4 [==============================] - 0s 41ms/step\n",
            "4/4 [==============================] - 0s 35ms/step\n",
            "4/4 [==============================] - 0s 38ms/step\n",
            "4/4 [==============================] - 0s 39ms/step\n",
            "4/4 [==============================] - 0s 36ms/step\n",
            "4/4 [==============================] - 0s 37ms/step\n",
            "4/4 [==============================] - 0s 39ms/step\n",
            "332 ms ± 69.1 ms per loop (mean ± std. dev. of 7 runs, 1 loop each)\n"
          ]
        }
      ]
    },
    {
      "cell_type": "markdown",
      "source": [
        "# Convert model 1"
      ],
      "metadata": {
        "id": "lnLXr5zRZpOD"
      }
    },
    {
      "cell_type": "code",
      "source": [
        "# Convert the model.\n",
        "converter = tf.lite.TFLiteConverter.from_keras_model(model_smart_totem_6)\n",
        "tflite_model = converter.convert()\n",
        "\n",
        "# Save the model.\n",
        "with open('model.tflite', 'wb') as f:\n",
        "  f.write(tflite_model)"
      ],
      "metadata": {
        "colab": {
          "base_uri": "https://localhost:8080/"
        },
        "id": "NMpaFl7_WlTB",
        "outputId": "7dadd88f-d12a-49af-ddb0-502a40e349ae"
      },
      "execution_count": 31,
      "outputs": [
        {
          "output_type": "stream",
          "name": "stderr",
          "text": [
            "WARNING:tensorflow:Detecting that an object or model or tf.train.Checkpoint is being deleted with unrestored values. See the following logs for the specific values in question. To silence these warnings, use `status.expect_partial()`. See https://www.tensorflow.org/api_docs/python/tf/train/Checkpoint#restorefor details about the status object returned by the restore function.\n",
            "WARNING:tensorflow:Value in checkpoint could not be found in the restored object: (root).optimizer.iter\n",
            "WARNING:tensorflow:Value in checkpoint could not be found in the restored object: (root).optimizer.decay\n",
            "WARNING:tensorflow:Value in checkpoint could not be found in the restored object: (root).optimizer.momentum\n",
            "WARNING:tensorflow:Value in checkpoint could not be found in the restored object: (root).optimizer's state 'momentum' for (root).layer_with_weights-1.kernel\n",
            "WARNING:tensorflow:Value in checkpoint could not be found in the restored object: (root).optimizer's state 'momentum' for (root).layer_with_weights-1.bias\n",
            "WARNING:tensorflow:Value in checkpoint could not be found in the restored object: (root).optimizer's state 'momentum' for (root).layer_with_weights-0.layer_with_weights-0.kernel\n",
            "WARNING:tensorflow:Value in checkpoint could not be found in the restored object: (root).optimizer's state 'momentum' for (root).layer_with_weights-0.layer_with_weights-1.gamma\n",
            "WARNING:tensorflow:Value in checkpoint could not be found in the restored object: (root).optimizer's state 'momentum' for (root).layer_with_weights-0.layer_with_weights-1.beta\n",
            "WARNING:tensorflow:Value in checkpoint could not be found in the restored object: (root).optimizer's state 'momentum' for (root).layer_with_weights-0.layer_with_weights-2.gamma\n",
            "WARNING:tensorflow:Value in checkpoint could not be found in the restored object: (root).optimizer's state 'momentum' for (root).layer_with_weights-0.layer_with_weights-2.beta\n",
            "WARNING:tensorflow:Value in checkpoint could not be found in the restored object: (root).optimizer's state 'momentum' for (root).layer_with_weights-0.layer_with_weights-3.kernel\n",
            "WARNING:tensorflow:Value in checkpoint could not be found in the restored object: (root).optimizer's state 'momentum' for (root).layer_with_weights-0.layer_with_weights-4.gamma\n",
            "WARNING:tensorflow:Value in checkpoint could not be found in the restored object: (root).optimizer's state 'momentum' for (root).layer_with_weights-0.layer_with_weights-4.beta\n",
            "WARNING:tensorflow:Value in checkpoint could not be found in the restored object: (root).optimizer's state 'momentum' for (root).layer_with_weights-0.layer_with_weights-5.kernel\n",
            "WARNING:tensorflow:Value in checkpoint could not be found in the restored object: (root).optimizer's state 'momentum' for (root).layer_with_weights-0.layer_with_weights-6.gamma\n",
            "WARNING:tensorflow:Value in checkpoint could not be found in the restored object: (root).optimizer's state 'momentum' for (root).layer_with_weights-0.layer_with_weights-6.beta\n",
            "WARNING:tensorflow:Value in checkpoint could not be found in the restored object: (root).optimizer's state 'momentum' for (root).layer_with_weights-0.layer_with_weights-7.kernel\n",
            "WARNING:tensorflow:Value in checkpoint could not be found in the restored object: (root).optimizer's state 'momentum' for (root).layer_with_weights-0.layer_with_weights-8.gamma\n",
            "WARNING:tensorflow:Value in checkpoint could not be found in the restored object: (root).optimizer's state 'momentum' for (root).layer_with_weights-0.layer_with_weights-8.beta\n",
            "WARNING:tensorflow:Value in checkpoint could not be found in the restored object: (root).optimizer's state 'momentum' for (root).layer_with_weights-0.layer_with_weights-9.kernel\n",
            "WARNING:tensorflow:Value in checkpoint could not be found in the restored object: (root).optimizer's state 'momentum' for (root).layer_with_weights-0.layer_with_weights-10.gamma\n",
            "WARNING:tensorflow:Value in checkpoint could not be found in the restored object: (root).optimizer's state 'momentum' for (root).layer_with_weights-0.layer_with_weights-10.beta\n",
            "WARNING:tensorflow:Value in checkpoint could not be found in the restored object: (root).optimizer's state 'momentum' for (root).layer_with_weights-0.layer_with_weights-11.kernel\n",
            "WARNING:tensorflow:Value in checkpoint could not be found in the restored object: (root).optimizer's state 'momentum' for (root).layer_with_weights-0.layer_with_weights-12.gamma\n",
            "WARNING:tensorflow:Value in checkpoint could not be found in the restored object: (root).optimizer's state 'momentum' for (root).layer_with_weights-0.layer_with_weights-12.beta\n",
            "WARNING:tensorflow:Value in checkpoint could not be found in the restored object: (root).optimizer's state 'momentum' for (root).layer_with_weights-0.layer_with_weights-13.kernel\n",
            "WARNING:tensorflow:Value in checkpoint could not be found in the restored object: (root).optimizer's state 'momentum' for (root).layer_with_weights-0.layer_with_weights-14.gamma\n",
            "WARNING:tensorflow:Value in checkpoint could not be found in the restored object: (root).optimizer's state 'momentum' for (root).layer_with_weights-0.layer_with_weights-14.beta\n",
            "WARNING:tensorflow:Value in checkpoint could not be found in the restored object: (root).optimizer's state 'momentum' for (root).layer_with_weights-0.layer_with_weights-15.kernel\n",
            "WARNING:tensorflow:Value in checkpoint could not be found in the restored object: (root).optimizer's state 'momentum' for (root).layer_with_weights-0.layer_with_weights-16.gamma\n",
            "WARNING:tensorflow:Value in checkpoint could not be found in the restored object: (root).optimizer's state 'momentum' for (root).layer_with_weights-0.layer_with_weights-16.beta\n",
            "WARNING:tensorflow:Value in checkpoint could not be found in the restored object: (root).optimizer's state 'momentum' for (root).layer_with_weights-0.layer_with_weights-17.kernel\n",
            "WARNING:tensorflow:Value in checkpoint could not be found in the restored object: (root).optimizer's state 'momentum' for (root).layer_with_weights-0.layer_with_weights-18.gamma\n",
            "WARNING:tensorflow:Value in checkpoint could not be found in the restored object: (root).optimizer's state 'momentum' for (root).layer_with_weights-0.layer_with_weights-18.beta\n",
            "WARNING:tensorflow:Value in checkpoint could not be found in the restored object: (root).optimizer's state 'momentum' for (root).layer_with_weights-0.layer_with_weights-19.kernel\n",
            "WARNING:tensorflow:Value in checkpoint could not be found in the restored object: (root).optimizer's state 'momentum' for (root).layer_with_weights-0.layer_with_weights-20.gamma\n",
            "WARNING:tensorflow:Value in checkpoint could not be found in the restored object: (root).optimizer's state 'momentum' for (root).layer_with_weights-0.layer_with_weights-20.beta\n",
            "WARNING:tensorflow:Value in checkpoint could not be found in the restored object: (root).optimizer's state 'momentum' for (root).layer_with_weights-0.layer_with_weights-21.kernel\n",
            "WARNING:tensorflow:Value in checkpoint could not be found in the restored object: (root).optimizer's state 'momentum' for (root).layer_with_weights-0.layer_with_weights-22.gamma\n",
            "WARNING:tensorflow:Value in checkpoint could not be found in the restored object: (root).optimizer's state 'momentum' for (root).layer_with_weights-0.layer_with_weights-22.beta\n",
            "WARNING:tensorflow:Value in checkpoint could not be found in the restored object: (root).optimizer's state 'momentum' for (root).layer_with_weights-0.layer_with_weights-23.kernel\n",
            "WARNING:tensorflow:Value in checkpoint could not be found in the restored object: (root).optimizer's state 'momentum' for (root).layer_with_weights-0.layer_with_weights-24.gamma\n",
            "WARNING:tensorflow:Value in checkpoint could not be found in the restored object: (root).optimizer's state 'momentum' for (root).layer_with_weights-0.layer_with_weights-24.beta\n",
            "WARNING:tensorflow:Value in checkpoint could not be found in the restored object: (root).optimizer's state 'momentum' for (root).layer_with_weights-0.layer_with_weights-25.kernel\n",
            "WARNING:tensorflow:Value in checkpoint could not be found in the restored object: (root).optimizer's state 'momentum' for (root).layer_with_weights-0.layer_with_weights-26.gamma\n",
            "WARNING:tensorflow:Value in checkpoint could not be found in the restored object: (root).optimizer's state 'momentum' for (root).layer_with_weights-0.layer_with_weights-26.beta\n",
            "WARNING:tensorflow:Value in checkpoint could not be found in the restored object: (root).optimizer's state 'momentum' for (root).layer_with_weights-0.layer_with_weights-27.kernel\n",
            "WARNING:tensorflow:Value in checkpoint could not be found in the restored object: (root).optimizer's state 'momentum' for (root).layer_with_weights-0.layer_with_weights-28.gamma\n",
            "WARNING:tensorflow:Value in checkpoint could not be found in the restored object: (root).optimizer's state 'momentum' for (root).layer_with_weights-0.layer_with_weights-28.beta\n",
            "WARNING:tensorflow:Value in checkpoint could not be found in the restored object: (root).optimizer's state 'momentum' for (root).layer_with_weights-0.layer_with_weights-29.kernel\n",
            "WARNING:tensorflow:Value in checkpoint could not be found in the restored object: (root).optimizer's state 'momentum' for (root).layer_with_weights-0.layer_with_weights-30.gamma\n",
            "WARNING:tensorflow:Value in checkpoint could not be found in the restored object: (root).optimizer's state 'momentum' for (root).layer_with_weights-0.layer_with_weights-30.beta\n",
            "WARNING:tensorflow:Value in checkpoint could not be found in the restored object: (root).optimizer's state 'momentum' for (root).layer_with_weights-0.layer_with_weights-31.kernel\n",
            "WARNING:tensorflow:Value in checkpoint could not be found in the restored object: (root).optimizer's state 'momentum' for (root).layer_with_weights-0.layer_with_weights-32.gamma\n",
            "WARNING:tensorflow:Value in checkpoint could not be found in the restored object: (root).optimizer's state 'momentum' for (root).layer_with_weights-0.layer_with_weights-32.beta\n",
            "WARNING:tensorflow:Value in checkpoint could not be found in the restored object: (root).optimizer's state 'momentum' for (root).layer_with_weights-0.layer_with_weights-33.kernel\n",
            "WARNING:tensorflow:Value in checkpoint could not be found in the restored object: (root).optimizer's state 'momentum' for (root).layer_with_weights-0.layer_with_weights-34.gamma\n",
            "WARNING:tensorflow:Value in checkpoint could not be found in the restored object: (root).optimizer's state 'momentum' for (root).layer_with_weights-0.layer_with_weights-34.beta\n",
            "WARNING:tensorflow:Value in checkpoint could not be found in the restored object: (root).optimizer's state 'momentum' for (root).layer_with_weights-0.layer_with_weights-35.kernel\n",
            "WARNING:tensorflow:Value in checkpoint could not be found in the restored object: (root).optimizer's state 'momentum' for (root).layer_with_weights-0.layer_with_weights-36.gamma\n",
            "WARNING:tensorflow:Value in checkpoint could not be found in the restored object: (root).optimizer's state 'momentum' for (root).layer_with_weights-0.layer_with_weights-36.beta\n",
            "WARNING:tensorflow:Value in checkpoint could not be found in the restored object: (root).optimizer's state 'momentum' for (root).layer_with_weights-0.layer_with_weights-37.kernel\n",
            "WARNING:tensorflow:Value in checkpoint could not be found in the restored object: (root).optimizer's state 'momentum' for (root).layer_with_weights-0.layer_with_weights-38.gamma\n",
            "WARNING:tensorflow:Value in checkpoint could not be found in the restored object: (root).optimizer's state 'momentum' for (root).layer_with_weights-0.layer_with_weights-38.beta\n",
            "WARNING:tensorflow:Value in checkpoint could not be found in the restored object: (root).optimizer's state 'momentum' for (root).layer_with_weights-0.layer_with_weights-39.kernel\n",
            "WARNING:tensorflow:Value in checkpoint could not be found in the restored object: (root).optimizer's state 'momentum' for (root).layer_with_weights-0.layer_with_weights-40.gamma\n",
            "WARNING:tensorflow:Value in checkpoint could not be found in the restored object: (root).optimizer's state 'momentum' for (root).layer_with_weights-0.layer_with_weights-40.beta\n",
            "WARNING:tensorflow:Value in checkpoint could not be found in the restored object: (root).optimizer's state 'momentum' for (root).layer_with_weights-0.layer_with_weights-41.kernel\n",
            "WARNING:tensorflow:Value in checkpoint could not be found in the restored object: (root).optimizer's state 'momentum' for (root).layer_with_weights-0.layer_with_weights-42.gamma\n",
            "WARNING:tensorflow:Value in checkpoint could not be found in the restored object: (root).optimizer's state 'momentum' for (root).layer_with_weights-0.layer_with_weights-42.beta\n",
            "WARNING:tensorflow:Value in checkpoint could not be found in the restored object: (root).optimizer's state 'momentum' for (root).layer_with_weights-0.layer_with_weights-43.kernel\n",
            "WARNING:tensorflow:Value in checkpoint could not be found in the restored object: (root).optimizer's state 'momentum' for (root).layer_with_weights-0.layer_with_weights-44.gamma\n",
            "WARNING:tensorflow:Value in checkpoint could not be found in the restored object: (root).optimizer's state 'momentum' for (root).layer_with_weights-0.layer_with_weights-44.beta\n",
            "WARNING:tensorflow:Value in checkpoint could not be found in the restored object: (root).optimizer's state 'momentum' for (root).layer_with_weights-0.layer_with_weights-45.kernel\n",
            "WARNING:tensorflow:Value in checkpoint could not be found in the restored object: (root).optimizer's state 'momentum' for (root).layer_with_weights-0.layer_with_weights-46.gamma\n",
            "WARNING:tensorflow:Value in checkpoint could not be found in the restored object: (root).optimizer's state 'momentum' for (root).layer_with_weights-0.layer_with_weights-46.beta\n",
            "WARNING:tensorflow:Value in checkpoint could not be found in the restored object: (root).optimizer's state 'momentum' for (root).layer_with_weights-0.layer_with_weights-47.kernel\n",
            "WARNING:tensorflow:Value in checkpoint could not be found in the restored object: (root).optimizer's state 'momentum' for (root).layer_with_weights-0.layer_with_weights-48.gamma\n",
            "WARNING:tensorflow:Value in checkpoint could not be found in the restored object: (root).optimizer's state 'momentum' for (root).layer_with_weights-0.layer_with_weights-48.beta\n",
            "WARNING:tensorflow:Value in checkpoint could not be found in the restored object: (root).optimizer's state 'momentum' for (root).layer_with_weights-0.layer_with_weights-49.kernel\n",
            "WARNING:tensorflow:Value in checkpoint could not be found in the restored object: (root).optimizer's state 'momentum' for (root).layer_with_weights-0.layer_with_weights-50.gamma\n",
            "WARNING:tensorflow:Value in checkpoint could not be found in the restored object: (root).optimizer's state 'momentum' for (root).layer_with_weights-0.layer_with_weights-50.beta\n",
            "WARNING:tensorflow:Value in checkpoint could not be found in the restored object: (root).optimizer's state 'momentum' for (root).layer_with_weights-0.layer_with_weights-51.kernel\n",
            "WARNING:tensorflow:Value in checkpoint could not be found in the restored object: (root).optimizer's state 'momentum' for (root).layer_with_weights-0.layer_with_weights-52.gamma\n",
            "WARNING:tensorflow:Value in checkpoint could not be found in the restored object: (root).optimizer's state 'momentum' for (root).layer_with_weights-0.layer_with_weights-52.beta\n",
            "WARNING:tensorflow:Value in checkpoint could not be found in the restored object: (root).optimizer's state 'momentum' for (root).layer_with_weights-0.layer_with_weights-53.kernel\n",
            "WARNING:tensorflow:Value in checkpoint could not be found in the restored object: (root).optimizer's state 'momentum' for (root).layer_with_weights-0.layer_with_weights-54.gamma\n",
            "WARNING:tensorflow:Value in checkpoint could not be found in the restored object: (root).optimizer's state 'momentum' for (root).layer_with_weights-0.layer_with_weights-54.beta\n",
            "WARNING:tensorflow:Value in checkpoint could not be found in the restored object: (root).optimizer's state 'momentum' for (root).layer_with_weights-0.layer_with_weights-55.kernel\n",
            "WARNING:tensorflow:Value in checkpoint could not be found in the restored object: (root).optimizer's state 'momentum' for (root).layer_with_weights-0.layer_with_weights-56.gamma\n",
            "WARNING:tensorflow:Value in checkpoint could not be found in the restored object: (root).optimizer's state 'momentum' for (root).layer_with_weights-0.layer_with_weights-56.beta\n",
            "WARNING:tensorflow:Value in checkpoint could not be found in the restored object: (root).optimizer's state 'momentum' for (root).layer_with_weights-0.layer_with_weights-57.kernel\n",
            "WARNING:tensorflow:Value in checkpoint could not be found in the restored object: (root).optimizer's state 'momentum' for (root).layer_with_weights-0.layer_with_weights-58.gamma\n",
            "WARNING:tensorflow:Value in checkpoint could not be found in the restored object: (root).optimizer's state 'momentum' for (root).layer_with_weights-0.layer_with_weights-58.beta\n",
            "WARNING:tensorflow:Value in checkpoint could not be found in the restored object: (root).optimizer's state 'momentum' for (root).layer_with_weights-0.layer_with_weights-59.kernel\n",
            "WARNING:tensorflow:Value in checkpoint could not be found in the restored object: (root).optimizer's state 'momentum' for (root).layer_with_weights-0.layer_with_weights-60.gamma\n",
            "WARNING:tensorflow:Value in checkpoint could not be found in the restored object: (root).optimizer's state 'momentum' for (root).layer_with_weights-0.layer_with_weights-60.beta\n",
            "WARNING:tensorflow:Value in checkpoint could not be found in the restored object: (root).optimizer's state 'momentum' for (root).layer_with_weights-0.layer_with_weights-61.kernel\n",
            "WARNING:tensorflow:Value in checkpoint could not be found in the restored object: (root).optimizer's state 'momentum' for (root).layer_with_weights-0.layer_with_weights-62.gamma\n",
            "WARNING:tensorflow:Value in checkpoint could not be found in the restored object: (root).optimizer's state 'momentum' for (root).layer_with_weights-0.layer_with_weights-62.beta\n",
            "WARNING:tensorflow:Value in checkpoint could not be found in the restored object: (root).optimizer's state 'momentum' for (root).layer_with_weights-0.layer_with_weights-63.kernel\n",
            "WARNING:tensorflow:Value in checkpoint could not be found in the restored object: (root).optimizer's state 'momentum' for (root).layer_with_weights-0.layer_with_weights-64.gamma\n",
            "WARNING:tensorflow:Value in checkpoint could not be found in the restored object: (root).optimizer's state 'momentum' for (root).layer_with_weights-0.layer_with_weights-64.beta\n",
            "WARNING:tensorflow:Value in checkpoint could not be found in the restored object: (root).optimizer's state 'momentum' for (root).layer_with_weights-0.layer_with_weights-65.kernel\n",
            "WARNING:tensorflow:Value in checkpoint could not be found in the restored object: (root).optimizer's state 'momentum' for (root).layer_with_weights-0.layer_with_weights-66.gamma\n",
            "WARNING:tensorflow:Value in checkpoint could not be found in the restored object: (root).optimizer's state 'momentum' for (root).layer_with_weights-0.layer_with_weights-66.beta\n",
            "WARNING:tensorflow:Value in checkpoint could not be found in the restored object: (root).optimizer's state 'momentum' for (root).layer_with_weights-0.layer_with_weights-67.kernel\n",
            "WARNING:tensorflow:Value in checkpoint could not be found in the restored object: (root).optimizer's state 'momentum' for (root).layer_with_weights-0.layer_with_weights-68.gamma\n",
            "WARNING:tensorflow:Value in checkpoint could not be found in the restored object: (root).optimizer's state 'momentum' for (root).layer_with_weights-0.layer_with_weights-68.beta\n",
            "WARNING:tensorflow:Value in checkpoint could not be found in the restored object: (root).optimizer's state 'momentum' for (root).layer_with_weights-0.layer_with_weights-69.kernel\n",
            "WARNING:tensorflow:Value in checkpoint could not be found in the restored object: (root).optimizer's state 'momentum' for (root).layer_with_weights-0.layer_with_weights-70.gamma\n",
            "WARNING:tensorflow:Value in checkpoint could not be found in the restored object: (root).optimizer's state 'momentum' for (root).layer_with_weights-0.layer_with_weights-70.beta\n",
            "WARNING:tensorflow:Value in checkpoint could not be found in the restored object: (root).optimizer's state 'momentum' for (root).layer_with_weights-0.layer_with_weights-71.kernel\n",
            "WARNING:tensorflow:Value in checkpoint could not be found in the restored object: (root).optimizer's state 'momentum' for (root).layer_with_weights-0.layer_with_weights-72.gamma\n",
            "WARNING:tensorflow:Value in checkpoint could not be found in the restored object: (root).optimizer's state 'momentum' for (root).layer_with_weights-0.layer_with_weights-72.beta\n",
            "WARNING:tensorflow:Value in checkpoint could not be found in the restored object: (root).optimizer's state 'momentum' for (root).layer_with_weights-0.layer_with_weights-73.kernel\n",
            "WARNING:tensorflow:Value in checkpoint could not be found in the restored object: (root).optimizer's state 'momentum' for (root).layer_with_weights-0.layer_with_weights-74.gamma\n",
            "WARNING:tensorflow:Value in checkpoint could not be found in the restored object: (root).optimizer's state 'momentum' for (root).layer_with_weights-0.layer_with_weights-74.beta\n",
            "WARNING:tensorflow:Value in checkpoint could not be found in the restored object: (root).optimizer's state 'momentum' for (root).layer_with_weights-0.layer_with_weights-75.kernel\n",
            "WARNING:tensorflow:Value in checkpoint could not be found in the restored object: (root).optimizer's state 'momentum' for (root).layer_with_weights-0.layer_with_weights-76.gamma\n",
            "WARNING:tensorflow:Value in checkpoint could not be found in the restored object: (root).optimizer's state 'momentum' for (root).layer_with_weights-0.layer_with_weights-76.beta\n",
            "WARNING:tensorflow:Value in checkpoint could not be found in the restored object: (root).optimizer's state 'momentum' for (root).layer_with_weights-0.layer_with_weights-77.kernel\n",
            "WARNING:tensorflow:Value in checkpoint could not be found in the restored object: (root).optimizer's state 'momentum' for (root).layer_with_weights-0.layer_with_weights-78.gamma\n",
            "WARNING:tensorflow:Value in checkpoint could not be found in the restored object: (root).optimizer's state 'momentum' for (root).layer_with_weights-0.layer_with_weights-78.beta\n",
            "WARNING:tensorflow:Value in checkpoint could not be found in the restored object: (root).optimizer's state 'momentum' for (root).layer_with_weights-0.layer_with_weights-79.kernel\n",
            "WARNING:tensorflow:Value in checkpoint could not be found in the restored object: (root).optimizer's state 'momentum' for (root).layer_with_weights-0.layer_with_weights-80.gamma\n",
            "WARNING:tensorflow:Value in checkpoint could not be found in the restored object: (root).optimizer's state 'momentum' for (root).layer_with_weights-0.layer_with_weights-80.beta\n",
            "WARNING:tensorflow:Value in checkpoint could not be found in the restored object: (root).optimizer's state 'momentum' for (root).layer_with_weights-0.layer_with_weights-81.kernel\n",
            "WARNING:tensorflow:Value in checkpoint could not be found in the restored object: (root).optimizer's state 'momentum' for (root).layer_with_weights-0.layer_with_weights-82.gamma\n",
            "WARNING:tensorflow:Value in checkpoint could not be found in the restored object: (root).optimizer's state 'momentum' for (root).layer_with_weights-0.layer_with_weights-82.beta\n",
            "WARNING:tensorflow:Value in checkpoint could not be found in the restored object: (root).optimizer's state 'momentum' for (root).layer_with_weights-0.layer_with_weights-83.kernel\n",
            "WARNING:tensorflow:Value in checkpoint could not be found in the restored object: (root).optimizer's state 'momentum' for (root).layer_with_weights-0.layer_with_weights-84.gamma\n",
            "WARNING:tensorflow:Value in checkpoint could not be found in the restored object: (root).optimizer's state 'momentum' for (root).layer_with_weights-0.layer_with_weights-84.beta\n",
            "WARNING:tensorflow:Value in checkpoint could not be found in the restored object: (root).optimizer's state 'momentum' for (root).layer_with_weights-0.layer_with_weights-85.kernel\n",
            "WARNING:tensorflow:Value in checkpoint could not be found in the restored object: (root).optimizer's state 'momentum' for (root).layer_with_weights-0.layer_with_weights-86.gamma\n",
            "WARNING:tensorflow:Value in checkpoint could not be found in the restored object: (root).optimizer's state 'momentum' for (root).layer_with_weights-0.layer_with_weights-86.beta\n",
            "WARNING:tensorflow:Value in checkpoint could not be found in the restored object: (root).optimizer's state 'momentum' for (root).layer_with_weights-0.layer_with_weights-87.kernel\n",
            "WARNING:tensorflow:Value in checkpoint could not be found in the restored object: (root).optimizer's state 'momentum' for (root).layer_with_weights-0.layer_with_weights-88.gamma\n",
            "WARNING:tensorflow:Value in checkpoint could not be found in the restored object: (root).optimizer's state 'momentum' for (root).layer_with_weights-0.layer_with_weights-88.beta\n",
            "WARNING:tensorflow:Value in checkpoint could not be found in the restored object: (root).optimizer's state 'momentum' for (root).layer_with_weights-0.layer_with_weights-89.kernel\n",
            "WARNING:tensorflow:Value in checkpoint could not be found in the restored object: (root).optimizer's state 'momentum' for (root).layer_with_weights-0.layer_with_weights-90.gamma\n",
            "WARNING:tensorflow:Value in checkpoint could not be found in the restored object: (root).optimizer's state 'momentum' for (root).layer_with_weights-0.layer_with_weights-90.beta\n",
            "WARNING:tensorflow:Value in checkpoint could not be found in the restored object: (root).optimizer's state 'momentum' for (root).layer_with_weights-0.layer_with_weights-91.kernel\n",
            "WARNING:tensorflow:Value in checkpoint could not be found in the restored object: (root).optimizer's state 'momentum' for (root).layer_with_weights-0.layer_with_weights-92.gamma\n",
            "WARNING:tensorflow:Value in checkpoint could not be found in the restored object: (root).optimizer's state 'momentum' for (root).layer_with_weights-0.layer_with_weights-92.beta\n",
            "WARNING:tensorflow:Value in checkpoint could not be found in the restored object: (root).optimizer's state 'momentum' for (root).layer_with_weights-0.layer_with_weights-93.kernel\n",
            "WARNING:tensorflow:Value in checkpoint could not be found in the restored object: (root).optimizer's state 'momentum' for (root).layer_with_weights-0.layer_with_weights-94.gamma\n",
            "WARNING:tensorflow:Value in checkpoint could not be found in the restored object: (root).optimizer's state 'momentum' for (root).layer_with_weights-0.layer_with_weights-94.beta\n",
            "WARNING:tensorflow:Value in checkpoint could not be found in the restored object: (root).optimizer's state 'momentum' for (root).layer_with_weights-0.layer_with_weights-95.kernel\n",
            "WARNING:tensorflow:Value in checkpoint could not be found in the restored object: (root).optimizer's state 'momentum' for (root).layer_with_weights-0.layer_with_weights-96.gamma\n",
            "WARNING:tensorflow:Value in checkpoint could not be found in the restored object: (root).optimizer's state 'momentum' for (root).layer_with_weights-0.layer_with_weights-96.beta\n",
            "WARNING:tensorflow:Value in checkpoint could not be found in the restored object: (root).optimizer's state 'momentum' for (root).layer_with_weights-0.layer_with_weights-97.kernel\n",
            "WARNING:tensorflow:Value in checkpoint could not be found in the restored object: (root).optimizer's state 'momentum' for (root).layer_with_weights-0.layer_with_weights-98.gamma\n",
            "WARNING:tensorflow:Value in checkpoint could not be found in the restored object: (root).optimizer's state 'momentum' for (root).layer_with_weights-0.layer_with_weights-98.beta\n",
            "WARNING:tensorflow:Value in checkpoint could not be found in the restored object: (root).optimizer's state 'momentum' for (root).layer_with_weights-0.layer_with_weights-99.kernel\n",
            "WARNING:tensorflow:Value in checkpoint could not be found in the restored object: (root).optimizer's state 'momentum' for (root).layer_with_weights-0.layer_with_weights-100.gamma\n",
            "WARNING:tensorflow:Value in checkpoint could not be found in the restored object: (root).optimizer's state 'momentum' for (root).layer_with_weights-0.layer_with_weights-100.beta\n",
            "WARNING:tensorflow:Value in checkpoint could not be found in the restored object: (root).optimizer's state 'momentum' for (root).layer_with_weights-0.layer_with_weights-101.kernel\n",
            "WARNING:tensorflow:Value in checkpoint could not be found in the restored object: (root).optimizer's state 'momentum' for (root).layer_with_weights-0.layer_with_weights-102.gamma\n",
            "WARNING:tensorflow:Value in checkpoint could not be found in the restored object: (root).optimizer's state 'momentum' for (root).layer_with_weights-0.layer_with_weights-102.beta\n",
            "WARNING:tensorflow:Value in checkpoint could not be found in the restored object: (root).optimizer's state 'momentum' for (root).layer_with_weights-0.layer_with_weights-103.kernel\n",
            "WARNING:tensorflow:Value in checkpoint could not be found in the restored object: (root).optimizer's state 'momentum' for (root).layer_with_weights-0.layer_with_weights-104.gamma\n",
            "WARNING:tensorflow:Value in checkpoint could not be found in the restored object: (root).optimizer's state 'momentum' for (root).layer_with_weights-0.layer_with_weights-104.beta\n",
            "WARNING:tensorflow:Value in checkpoint could not be found in the restored object: (root).optimizer's state 'momentum' for (root).layer_with_weights-0.layer_with_weights-105.kernel\n",
            "WARNING:tensorflow:Value in checkpoint could not be found in the restored object: (root).optimizer's state 'momentum' for (root).layer_with_weights-0.layer_with_weights-106.gamma\n",
            "WARNING:tensorflow:Value in checkpoint could not be found in the restored object: (root).optimizer's state 'momentum' for (root).layer_with_weights-0.layer_with_weights-106.beta\n",
            "WARNING:tensorflow:Value in checkpoint could not be found in the restored object: (root).optimizer's state 'momentum' for (root).layer_with_weights-0.layer_with_weights-107.kernel\n",
            "WARNING:tensorflow:Value in checkpoint could not be found in the restored object: (root).optimizer's state 'momentum' for (root).layer_with_weights-0.layer_with_weights-108.gamma\n",
            "WARNING:tensorflow:Value in checkpoint could not be found in the restored object: (root).optimizer's state 'momentum' for (root).layer_with_weights-0.layer_with_weights-108.beta\n",
            "WARNING:tensorflow:Value in checkpoint could not be found in the restored object: (root).optimizer's state 'momentum' for (root).layer_with_weights-0.layer_with_weights-109.kernel\n",
            "WARNING:tensorflow:Value in checkpoint could not be found in the restored object: (root).optimizer's state 'momentum' for (root).layer_with_weights-0.layer_with_weights-110.gamma\n",
            "WARNING:tensorflow:Value in checkpoint could not be found in the restored object: (root).optimizer's state 'momentum' for (root).layer_with_weights-0.layer_with_weights-110.beta\n",
            "WARNING:tensorflow:Value in checkpoint could not be found in the restored object: (root).optimizer's state 'momentum' for (root).layer_with_weights-0.layer_with_weights-111.kernel\n",
            "WARNING:tensorflow:Value in checkpoint could not be found in the restored object: (root).optimizer's state 'momentum' for (root).layer_with_weights-0.layer_with_weights-112.gamma\n",
            "WARNING:tensorflow:Value in checkpoint could not be found in the restored object: (root).optimizer's state 'momentum' for (root).layer_with_weights-0.layer_with_weights-112.beta\n",
            "WARNING:tensorflow:Value in checkpoint could not be found in the restored object: (root).optimizer's state 'momentum' for (root).layer_with_weights-0.layer_with_weights-113.kernel\n",
            "WARNING:tensorflow:Value in checkpoint could not be found in the restored object: (root).optimizer's state 'momentum' for (root).layer_with_weights-0.layer_with_weights-114.gamma\n",
            "WARNING:tensorflow:Value in checkpoint could not be found in the restored object: (root).optimizer's state 'momentum' for (root).layer_with_weights-0.layer_with_weights-114.beta\n",
            "WARNING:tensorflow:Value in checkpoint could not be found in the restored object: (root).optimizer's state 'momentum' for (root).layer_with_weights-0.layer_with_weights-115.kernel\n",
            "WARNING:tensorflow:Value in checkpoint could not be found in the restored object: (root).optimizer's state 'momentum' for (root).layer_with_weights-0.layer_with_weights-116.gamma\n",
            "WARNING:tensorflow:Value in checkpoint could not be found in the restored object: (root).optimizer's state 'momentum' for (root).layer_with_weights-0.layer_with_weights-116.beta\n",
            "WARNING:tensorflow:Value in checkpoint could not be found in the restored object: (root).optimizer's state 'momentum' for (root).layer_with_weights-0.layer_with_weights-117.kernel\n",
            "WARNING:tensorflow:Value in checkpoint could not be found in the restored object: (root).optimizer's state 'momentum' for (root).layer_with_weights-0.layer_with_weights-118.gamma\n",
            "WARNING:tensorflow:Value in checkpoint could not be found in the restored object: (root).optimizer's state 'momentum' for (root).layer_with_weights-0.layer_with_weights-118.beta\n",
            "WARNING:tensorflow:Value in checkpoint could not be found in the restored object: (root).optimizer's state 'momentum' for (root).layer_with_weights-0.layer_with_weights-119.kernel\n",
            "WARNING:tensorflow:Value in checkpoint could not be found in the restored object: (root).optimizer's state 'momentum' for (root).layer_with_weights-0.layer_with_weights-120.gamma\n",
            "WARNING:tensorflow:Value in checkpoint could not be found in the restored object: (root).optimizer's state 'momentum' for (root).layer_with_weights-0.layer_with_weights-120.beta\n",
            "WARNING:tensorflow:Value in checkpoint could not be found in the restored object: (root).optimizer's state 'momentum' for (root).layer_with_weights-0.layer_with_weights-121.kernel\n",
            "WARNING:tensorflow:Value in checkpoint could not be found in the restored object: (root).optimizer's state 'momentum' for (root).layer_with_weights-0.layer_with_weights-122.gamma\n",
            "WARNING:tensorflow:Value in checkpoint could not be found in the restored object: (root).optimizer's state 'momentum' for (root).layer_with_weights-0.layer_with_weights-122.beta\n",
            "WARNING:tensorflow:Value in checkpoint could not be found in the restored object: (root).optimizer's state 'momentum' for (root).layer_with_weights-0.layer_with_weights-123.kernel\n",
            "WARNING:tensorflow:Value in checkpoint could not be found in the restored object: (root).optimizer's state 'momentum' for (root).layer_with_weights-0.layer_with_weights-124.gamma\n",
            "WARNING:tensorflow:Value in checkpoint could not be found in the restored object: (root).optimizer's state 'momentum' for (root).layer_with_weights-0.layer_with_weights-124.beta\n",
            "WARNING:tensorflow:Value in checkpoint could not be found in the restored object: (root).optimizer's state 'momentum' for (root).layer_with_weights-0.layer_with_weights-125.kernel\n",
            "WARNING:tensorflow:Value in checkpoint could not be found in the restored object: (root).optimizer's state 'momentum' for (root).layer_with_weights-0.layer_with_weights-126.gamma\n",
            "WARNING:tensorflow:Value in checkpoint could not be found in the restored object: (root).optimizer's state 'momentum' for (root).layer_with_weights-0.layer_with_weights-126.beta\n",
            "WARNING:tensorflow:Value in checkpoint could not be found in the restored object: (root).optimizer's state 'momentum' for (root).layer_with_weights-0.layer_with_weights-127.kernel\n",
            "WARNING:tensorflow:Value in checkpoint could not be found in the restored object: (root).optimizer's state 'momentum' for (root).layer_with_weights-0.layer_with_weights-128.gamma\n",
            "WARNING:tensorflow:Value in checkpoint could not be found in the restored object: (root).optimizer's state 'momentum' for (root).layer_with_weights-0.layer_with_weights-128.beta\n",
            "WARNING:tensorflow:Value in checkpoint could not be found in the restored object: (root).optimizer's state 'momentum' for (root).layer_with_weights-0.layer_with_weights-129.kernel\n",
            "WARNING:tensorflow:Value in checkpoint could not be found in the restored object: (root).optimizer's state 'momentum' for (root).layer_with_weights-0.layer_with_weights-130.gamma\n",
            "WARNING:tensorflow:Value in checkpoint could not be found in the restored object: (root).optimizer's state 'momentum' for (root).layer_with_weights-0.layer_with_weights-130.beta\n",
            "WARNING:tensorflow:Value in checkpoint could not be found in the restored object: (root).optimizer's state 'momentum' for (root).layer_with_weights-0.layer_with_weights-131.kernel\n",
            "WARNING:tensorflow:Value in checkpoint could not be found in the restored object: (root).optimizer's state 'momentum' for (root).layer_with_weights-0.layer_with_weights-132.gamma\n",
            "WARNING:tensorflow:Value in checkpoint could not be found in the restored object: (root).optimizer's state 'momentum' for (root).layer_with_weights-0.layer_with_weights-132.beta\n",
            "WARNING:tensorflow:Value in checkpoint could not be found in the restored object: (root).optimizer's state 'momentum' for (root).layer_with_weights-0.layer_with_weights-133.kernel\n",
            "WARNING:tensorflow:Value in checkpoint could not be found in the restored object: (root).optimizer's state 'momentum' for (root).layer_with_weights-0.layer_with_weights-134.gamma\n",
            "WARNING:tensorflow:Value in checkpoint could not be found in the restored object: (root).optimizer's state 'momentum' for (root).layer_with_weights-0.layer_with_weights-134.beta\n",
            "WARNING:tensorflow:Value in checkpoint could not be found in the restored object: (root).optimizer's state 'momentum' for (root).layer_with_weights-0.layer_with_weights-135.kernel\n",
            "WARNING:tensorflow:Value in checkpoint could not be found in the restored object: (root).optimizer's state 'momentum' for (root).layer_with_weights-0.layer_with_weights-136.gamma\n",
            "WARNING:tensorflow:Value in checkpoint could not be found in the restored object: (root).optimizer's state 'momentum' for (root).layer_with_weights-0.layer_with_weights-136.beta\n",
            "WARNING:tensorflow:Value in checkpoint could not be found in the restored object: (root).optimizer's state 'momentum' for (root).layer_with_weights-0.layer_with_weights-137.kernel\n",
            "WARNING:tensorflow:Value in checkpoint could not be found in the restored object: (root).optimizer's state 'momentum' for (root).layer_with_weights-0.layer_with_weights-138.gamma\n",
            "WARNING:tensorflow:Value in checkpoint could not be found in the restored object: (root).optimizer's state 'momentum' for (root).layer_with_weights-0.layer_with_weights-138.beta\n",
            "WARNING:tensorflow:Value in checkpoint could not be found in the restored object: (root).optimizer's state 'momentum' for (root).layer_with_weights-0.layer_with_weights-139.kernel\n",
            "WARNING:tensorflow:Value in checkpoint could not be found in the restored object: (root).optimizer's state 'momentum' for (root).layer_with_weights-0.layer_with_weights-140.gamma\n",
            "WARNING:tensorflow:Value in checkpoint could not be found in the restored object: (root).optimizer's state 'momentum' for (root).layer_with_weights-0.layer_with_weights-140.beta\n",
            "WARNING:tensorflow:Value in checkpoint could not be found in the restored object: (root).optimizer's state 'momentum' for (root).layer_with_weights-0.layer_with_weights-141.kernel\n",
            "WARNING:tensorflow:Value in checkpoint could not be found in the restored object: (root).optimizer's state 'momentum' for (root).layer_with_weights-0.layer_with_weights-142.gamma\n",
            "WARNING:tensorflow:Value in checkpoint could not be found in the restored object: (root).optimizer's state 'momentum' for (root).layer_with_weights-0.layer_with_weights-142.beta\n",
            "WARNING:tensorflow:Value in checkpoint could not be found in the restored object: (root).optimizer's state 'momentum' for (root).layer_with_weights-0.layer_with_weights-143.kernel\n",
            "WARNING:tensorflow:Value in checkpoint could not be found in the restored object: (root).optimizer's state 'momentum' for (root).layer_with_weights-0.layer_with_weights-144.gamma\n",
            "WARNING:tensorflow:Value in checkpoint could not be found in the restored object: (root).optimizer's state 'momentum' for (root).layer_with_weights-0.layer_with_weights-144.beta\n",
            "WARNING:tensorflow:Value in checkpoint could not be found in the restored object: (root).optimizer's state 'momentum' for (root).layer_with_weights-0.layer_with_weights-145.kernel\n",
            "WARNING:tensorflow:Value in checkpoint could not be found in the restored object: (root).optimizer's state 'momentum' for (root).layer_with_weights-0.layer_with_weights-146.gamma\n",
            "WARNING:tensorflow:Value in checkpoint could not be found in the restored object: (root).optimizer's state 'momentum' for (root).layer_with_weights-0.layer_with_weights-146.beta\n",
            "WARNING:tensorflow:Value in checkpoint could not be found in the restored object: (root).optimizer's state 'momentum' for (root).layer_with_weights-0.layer_with_weights-147.kernel\n",
            "WARNING:tensorflow:Value in checkpoint could not be found in the restored object: (root).optimizer's state 'momentum' for (root).layer_with_weights-0.layer_with_weights-148.gamma\n",
            "WARNING:tensorflow:Value in checkpoint could not be found in the restored object: (root).optimizer's state 'momentum' for (root).layer_with_weights-0.layer_with_weights-148.beta\n",
            "WARNING:tensorflow:Value in checkpoint could not be found in the restored object: (root).optimizer's state 'momentum' for (root).layer_with_weights-0.layer_with_weights-149.kernel\n",
            "WARNING:tensorflow:Value in checkpoint could not be found in the restored object: (root).optimizer's state 'momentum' for (root).layer_with_weights-0.layer_with_weights-150.gamma\n",
            "WARNING:tensorflow:Value in checkpoint could not be found in the restored object: (root).optimizer's state 'momentum' for (root).layer_with_weights-0.layer_with_weights-150.beta\n",
            "WARNING:tensorflow:Value in checkpoint could not be found in the restored object: (root).optimizer's state 'momentum' for (root).layer_with_weights-0.layer_with_weights-151.kernel\n",
            "WARNING:tensorflow:Value in checkpoint could not be found in the restored object: (root).optimizer's state 'momentum' for (root).layer_with_weights-0.layer_with_weights-152.gamma\n",
            "WARNING:tensorflow:Value in checkpoint could not be found in the restored object: (root).optimizer's state 'momentum' for (root).layer_with_weights-0.layer_with_weights-152.beta\n",
            "WARNING:tensorflow:Value in checkpoint could not be found in the restored object: (root).optimizer's state 'momentum' for (root).layer_with_weights-0.layer_with_weights-153.kernel\n",
            "WARNING:tensorflow:Value in checkpoint could not be found in the restored object: (root).optimizer's state 'momentum' for (root).layer_with_weights-0.layer_with_weights-154.gamma\n",
            "WARNING:tensorflow:Value in checkpoint could not be found in the restored object: (root).optimizer's state 'momentum' for (root).layer_with_weights-0.layer_with_weights-154.beta\n",
            "WARNING:tensorflow:Value in checkpoint could not be found in the restored object: (root).optimizer's state 'momentum' for (root).layer_with_weights-0.layer_with_weights-155.kernel\n",
            "WARNING:tensorflow:Value in checkpoint could not be found in the restored object: (root).optimizer's state 'momentum' for (root).layer_with_weights-0.layer_with_weights-156.gamma\n",
            "WARNING:tensorflow:Value in checkpoint could not be found in the restored object: (root).optimizer's state 'momentum' for (root).layer_with_weights-0.layer_with_weights-156.beta\n",
            "WARNING:tensorflow:Value in checkpoint could not be found in the restored object: (root).optimizer's state 'momentum' for (root).layer_with_weights-0.layer_with_weights-157.kernel\n",
            "WARNING:tensorflow:Value in checkpoint could not be found in the restored object: (root).optimizer's state 'momentum' for (root).layer_with_weights-0.layer_with_weights-158.gamma\n",
            "WARNING:tensorflow:Value in checkpoint could not be found in the restored object: (root).optimizer's state 'momentum' for (root).layer_with_weights-0.layer_with_weights-158.beta\n",
            "WARNING:tensorflow:Value in checkpoint could not be found in the restored object: (root).optimizer's state 'momentum' for (root).layer_with_weights-0.layer_with_weights-159.kernel\n",
            "WARNING:tensorflow:Value in checkpoint could not be found in the restored object: (root).optimizer's state 'momentum' for (root).layer_with_weights-0.layer_with_weights-160.gamma\n",
            "WARNING:tensorflow:Value in checkpoint could not be found in the restored object: (root).optimizer's state 'momentum' for (root).layer_with_weights-0.layer_with_weights-160.beta\n",
            "WARNING:tensorflow:Value in checkpoint could not be found in the restored object: (root).optimizer's state 'momentum' for (root).layer_with_weights-0.layer_with_weights-161.kernel\n",
            "WARNING:tensorflow:Value in checkpoint could not be found in the restored object: (root).optimizer's state 'momentum' for (root).layer_with_weights-0.layer_with_weights-162.gamma\n",
            "WARNING:tensorflow:Value in checkpoint could not be found in the restored object: (root).optimizer's state 'momentum' for (root).layer_with_weights-0.layer_with_weights-162.beta\n",
            "WARNING:tensorflow:Value in checkpoint could not be found in the restored object: (root).optimizer's state 'momentum' for (root).layer_with_weights-0.layer_with_weights-163.kernel\n",
            "WARNING:tensorflow:Value in checkpoint could not be found in the restored object: (root).optimizer's state 'momentum' for (root).layer_with_weights-0.layer_with_weights-164.gamma\n",
            "WARNING:tensorflow:Value in checkpoint could not be found in the restored object: (root).optimizer's state 'momentum' for (root).layer_with_weights-0.layer_with_weights-164.beta\n",
            "WARNING:tensorflow:Value in checkpoint could not be found in the restored object: (root).optimizer's state 'momentum' for (root).layer_with_weights-0.layer_with_weights-165.kernel\n",
            "WARNING:tensorflow:Value in checkpoint could not be found in the restored object: (root).optimizer's state 'momentum' for (root).layer_with_weights-0.layer_with_weights-166.gamma\n",
            "WARNING:tensorflow:Value in checkpoint could not be found in the restored object: (root).optimizer's state 'momentum' for (root).layer_with_weights-0.layer_with_weights-166.beta\n",
            "WARNING:tensorflow:Value in checkpoint could not be found in the restored object: (root).optimizer's state 'momentum' for (root).layer_with_weights-0.layer_with_weights-167.kernel\n",
            "WARNING:tensorflow:Value in checkpoint could not be found in the restored object: (root).optimizer's state 'momentum' for (root).layer_with_weights-0.layer_with_weights-168.gamma\n",
            "WARNING:tensorflow:Value in checkpoint could not be found in the restored object: (root).optimizer's state 'momentum' for (root).layer_with_weights-0.layer_with_weights-168.beta\n",
            "WARNING:tensorflow:Value in checkpoint could not be found in the restored object: (root).optimizer's state 'momentum' for (root).layer_with_weights-0.layer_with_weights-169.kernel\n",
            "WARNING:tensorflow:Value in checkpoint could not be found in the restored object: (root).optimizer's state 'momentum' for (root).layer_with_weights-0.layer_with_weights-170.gamma\n",
            "WARNING:tensorflow:Value in checkpoint could not be found in the restored object: (root).optimizer's state 'momentum' for (root).layer_with_weights-0.layer_with_weights-170.beta\n",
            "WARNING:tensorflow:Value in checkpoint could not be found in the restored object: (root).optimizer's state 'momentum' for (root).layer_with_weights-0.layer_with_weights-171.kernel\n",
            "WARNING:tensorflow:Value in checkpoint could not be found in the restored object: (root).optimizer's state 'momentum' for (root).layer_with_weights-0.layer_with_weights-172.gamma\n",
            "WARNING:tensorflow:Value in checkpoint could not be found in the restored object: (root).optimizer's state 'momentum' for (root).layer_with_weights-0.layer_with_weights-172.beta\n",
            "WARNING:tensorflow:Value in checkpoint could not be found in the restored object: (root).optimizer's state 'momentum' for (root).layer_with_weights-0.layer_with_weights-173.kernel\n",
            "WARNING:tensorflow:Value in checkpoint could not be found in the restored object: (root).optimizer's state 'momentum' for (root).layer_with_weights-0.layer_with_weights-174.gamma\n",
            "WARNING:tensorflow:Value in checkpoint could not be found in the restored object: (root).optimizer's state 'momentum' for (root).layer_with_weights-0.layer_with_weights-174.beta\n",
            "WARNING:tensorflow:Value in checkpoint could not be found in the restored object: (root).optimizer's state 'momentum' for (root).layer_with_weights-0.layer_with_weights-175.kernel\n",
            "WARNING:tensorflow:Value in checkpoint could not be found in the restored object: (root).optimizer's state 'momentum' for (root).layer_with_weights-0.layer_with_weights-176.gamma\n",
            "WARNING:tensorflow:Value in checkpoint could not be found in the restored object: (root).optimizer's state 'momentum' for (root).layer_with_weights-0.layer_with_weights-176.beta\n",
            "WARNING:tensorflow:Value in checkpoint could not be found in the restored object: (root).optimizer's state 'momentum' for (root).layer_with_weights-0.layer_with_weights-177.kernel\n",
            "WARNING:tensorflow:Value in checkpoint could not be found in the restored object: (root).optimizer's state 'momentum' for (root).layer_with_weights-0.layer_with_weights-178.gamma\n",
            "WARNING:tensorflow:Value in checkpoint could not be found in the restored object: (root).optimizer's state 'momentum' for (root).layer_with_weights-0.layer_with_weights-178.beta\n",
            "WARNING:tensorflow:Value in checkpoint could not be found in the restored object: (root).optimizer's state 'momentum' for (root).layer_with_weights-0.layer_with_weights-179.kernel\n",
            "WARNING:tensorflow:Value in checkpoint could not be found in the restored object: (root).optimizer's state 'momentum' for (root).layer_with_weights-0.layer_with_weights-180.gamma\n",
            "WARNING:tensorflow:Value in checkpoint could not be found in the restored object: (root).optimizer's state 'momentum' for (root).layer_with_weights-0.layer_with_weights-180.beta\n",
            "WARNING:tensorflow:Value in checkpoint could not be found in the restored object: (root).optimizer's state 'momentum' for (root).layer_with_weights-0.layer_with_weights-181.kernel\n",
            "WARNING:tensorflow:Value in checkpoint could not be found in the restored object: (root).optimizer's state 'momentum' for (root).layer_with_weights-0.layer_with_weights-182.gamma\n",
            "WARNING:tensorflow:Value in checkpoint could not be found in the restored object: (root).optimizer's state 'momentum' for (root).layer_with_weights-0.layer_with_weights-182.beta\n",
            "WARNING:tensorflow:Value in checkpoint could not be found in the restored object: (root).optimizer's state 'momentum' for (root).layer_with_weights-0.layer_with_weights-183.kernel\n",
            "WARNING:tensorflow:Value in checkpoint could not be found in the restored object: (root).optimizer's state 'momentum' for (root).layer_with_weights-0.layer_with_weights-184.gamma\n",
            "WARNING:tensorflow:Value in checkpoint could not be found in the restored object: (root).optimizer's state 'momentum' for (root).layer_with_weights-0.layer_with_weights-184.beta\n",
            "WARNING:tensorflow:Value in checkpoint could not be found in the restored object: (root).optimizer's state 'momentum' for (root).layer_with_weights-0.layer_with_weights-185.kernel\n",
            "WARNING:tensorflow:Value in checkpoint could not be found in the restored object: (root).optimizer's state 'momentum' for (root).layer_with_weights-0.layer_with_weights-186.gamma\n",
            "WARNING:tensorflow:Value in checkpoint could not be found in the restored object: (root).optimizer's state 'momentum' for (root).layer_with_weights-0.layer_with_weights-186.beta\n",
            "WARNING:tensorflow:Value in checkpoint could not be found in the restored object: (root).optimizer's state 'momentum' for (root).layer_with_weights-0.layer_with_weights-187.kernel\n",
            "WARNING:tensorflow:Value in checkpoint could not be found in the restored object: (root).optimizer's state 'momentum' for (root).layer_with_weights-0.layer_with_weights-188.gamma\n",
            "WARNING:tensorflow:Value in checkpoint could not be found in the restored object: (root).optimizer's state 'momentum' for (root).layer_with_weights-0.layer_with_weights-188.beta\n",
            "WARNING:tensorflow:Value in checkpoint could not be found in the restored object: (root).optimizer's state 'momentum' for (root).layer_with_weights-0.layer_with_weights-189.kernel\n",
            "WARNING:tensorflow:Value in checkpoint could not be found in the restored object: (root).optimizer's state 'momentum' for (root).layer_with_weights-0.layer_with_weights-190.gamma\n",
            "WARNING:tensorflow:Value in checkpoint could not be found in the restored object: (root).optimizer's state 'momentum' for (root).layer_with_weights-0.layer_with_weights-190.beta\n",
            "WARNING:tensorflow:Value in checkpoint could not be found in the restored object: (root).optimizer's state 'momentum' for (root).layer_with_weights-0.layer_with_weights-191.kernel\n",
            "WARNING:tensorflow:Value in checkpoint could not be found in the restored object: (root).optimizer's state 'momentum' for (root).layer_with_weights-0.layer_with_weights-192.gamma\n",
            "WARNING:tensorflow:Value in checkpoint could not be found in the restored object: (root).optimizer's state 'momentum' for (root).layer_with_weights-0.layer_with_weights-192.beta\n",
            "WARNING:tensorflow:Value in checkpoint could not be found in the restored object: (root).optimizer's state 'momentum' for (root).layer_with_weights-0.layer_with_weights-193.kernel\n",
            "WARNING:tensorflow:Value in checkpoint could not be found in the restored object: (root).optimizer's state 'momentum' for (root).layer_with_weights-0.layer_with_weights-194.gamma\n",
            "WARNING:tensorflow:Value in checkpoint could not be found in the restored object: (root).optimizer's state 'momentum' for (root).layer_with_weights-0.layer_with_weights-194.beta\n",
            "WARNING:tensorflow:Value in checkpoint could not be found in the restored object: (root).optimizer's state 'momentum' for (root).layer_with_weights-0.layer_with_weights-195.kernel\n",
            "WARNING:tensorflow:Value in checkpoint could not be found in the restored object: (root).optimizer's state 'momentum' for (root).layer_with_weights-0.layer_with_weights-196.gamma\n",
            "WARNING:tensorflow:Value in checkpoint could not be found in the restored object: (root).optimizer's state 'momentum' for (root).layer_with_weights-0.layer_with_weights-196.beta\n",
            "WARNING:tensorflow:Value in checkpoint could not be found in the restored object: (root).optimizer's state 'momentum' for (root).layer_with_weights-0.layer_with_weights-197.kernel\n",
            "WARNING:tensorflow:Value in checkpoint could not be found in the restored object: (root).optimizer's state 'momentum' for (root).layer_with_weights-0.layer_with_weights-198.gamma\n",
            "WARNING:tensorflow:Value in checkpoint could not be found in the restored object: (root).optimizer's state 'momentum' for (root).layer_with_weights-0.layer_with_weights-198.beta\n",
            "WARNING:tensorflow:Value in checkpoint could not be found in the restored object: (root).optimizer's state 'momentum' for (root).layer_with_weights-0.layer_with_weights-199.kernel\n",
            "WARNING:tensorflow:Value in checkpoint could not be found in the restored object: (root).optimizer's state 'momentum' for (root).layer_with_weights-0.layer_with_weights-200.gamma\n",
            "WARNING:tensorflow:Value in checkpoint could not be found in the restored object: (root).optimizer's state 'momentum' for (root).layer_with_weights-0.layer_with_weights-200.beta\n",
            "WARNING:tensorflow:Value in checkpoint could not be found in the restored object: (root).optimizer's state 'momentum' for (root).layer_with_weights-0.layer_with_weights-201.kernel\n",
            "WARNING:tensorflow:Value in checkpoint could not be found in the restored object: (root).optimizer's state 'momentum' for (root).layer_with_weights-0.layer_with_weights-202.gamma\n",
            "WARNING:tensorflow:Value in checkpoint could not be found in the restored object: (root).optimizer's state 'momentum' for (root).layer_with_weights-0.layer_with_weights-202.beta\n",
            "WARNING:tensorflow:Value in checkpoint could not be found in the restored object: (root).optimizer's state 'momentum' for (root).layer_with_weights-0.layer_with_weights-203.kernel\n",
            "WARNING:tensorflow:Value in checkpoint could not be found in the restored object: (root).optimizer's state 'momentum' for (root).layer_with_weights-0.layer_with_weights-204.gamma\n",
            "WARNING:tensorflow:Value in checkpoint could not be found in the restored object: (root).optimizer's state 'momentum' for (root).layer_with_weights-0.layer_with_weights-204.beta\n",
            "WARNING:tensorflow:Value in checkpoint could not be found in the restored object: (root).optimizer's state 'momentum' for (root).layer_with_weights-0.layer_with_weights-205.kernel\n",
            "WARNING:tensorflow:Value in checkpoint could not be found in the restored object: (root).optimizer's state 'momentum' for (root).layer_with_weights-0.layer_with_weights-206.gamma\n",
            "WARNING:tensorflow:Value in checkpoint could not be found in the restored object: (root).optimizer's state 'momentum' for (root).layer_with_weights-0.layer_with_weights-206.beta\n",
            "WARNING:tensorflow:Value in checkpoint could not be found in the restored object: (root).optimizer's state 'momentum' for (root).layer_with_weights-0.layer_with_weights-207.kernel\n",
            "WARNING:tensorflow:Value in checkpoint could not be found in the restored object: (root).optimizer's state 'momentum' for (root).layer_with_weights-0.layer_with_weights-208.gamma\n",
            "WARNING:tensorflow:Value in checkpoint could not be found in the restored object: (root).optimizer's state 'momentum' for (root).layer_with_weights-0.layer_with_weights-208.beta\n",
            "WARNING:tensorflow:Value in checkpoint could not be found in the restored object: (root).optimizer's state 'momentum' for (root).layer_with_weights-0.layer_with_weights-209.kernel\n",
            "WARNING:tensorflow:Value in checkpoint could not be found in the restored object: (root).optimizer's state 'momentum' for (root).layer_with_weights-0.layer_with_weights-210.gamma\n",
            "WARNING:tensorflow:Value in checkpoint could not be found in the restored object: (root).optimizer's state 'momentum' for (root).layer_with_weights-0.layer_with_weights-210.beta\n",
            "WARNING:tensorflow:Value in checkpoint could not be found in the restored object: (root).optimizer's state 'momentum' for (root).layer_with_weights-0.layer_with_weights-211.kernel\n",
            "WARNING:tensorflow:Value in checkpoint could not be found in the restored object: (root).optimizer's state 'momentum' for (root).layer_with_weights-0.layer_with_weights-212.gamma\n",
            "WARNING:tensorflow:Value in checkpoint could not be found in the restored object: (root).optimizer's state 'momentum' for (root).layer_with_weights-0.layer_with_weights-212.beta\n",
            "WARNING:tensorflow:Value in checkpoint could not be found in the restored object: (root).optimizer's state 'momentum' for (root).layer_with_weights-0.layer_with_weights-213.kernel\n",
            "WARNING:tensorflow:Value in checkpoint could not be found in the restored object: (root).optimizer's state 'momentum' for (root).layer_with_weights-0.layer_with_weights-214.gamma\n",
            "WARNING:tensorflow:Value in checkpoint could not be found in the restored object: (root).optimizer's state 'momentum' for (root).layer_with_weights-0.layer_with_weights-214.beta\n",
            "WARNING:tensorflow:Value in checkpoint could not be found in the restored object: (root).optimizer's state 'momentum' for (root).layer_with_weights-0.layer_with_weights-215.kernel\n",
            "WARNING:tensorflow:Value in checkpoint could not be found in the restored object: (root).optimizer's state 'momentum' for (root).layer_with_weights-0.layer_with_weights-216.gamma\n",
            "WARNING:tensorflow:Value in checkpoint could not be found in the restored object: (root).optimizer's state 'momentum' for (root).layer_with_weights-0.layer_with_weights-216.beta\n",
            "WARNING:tensorflow:Value in checkpoint could not be found in the restored object: (root).optimizer's state 'momentum' for (root).layer_with_weights-0.layer_with_weights-217.kernel\n",
            "WARNING:tensorflow:Value in checkpoint could not be found in the restored object: (root).optimizer's state 'momentum' for (root).layer_with_weights-0.layer_with_weights-218.gamma\n",
            "WARNING:tensorflow:Value in checkpoint could not be found in the restored object: (root).optimizer's state 'momentum' for (root).layer_with_weights-0.layer_with_weights-218.beta\n",
            "WARNING:tensorflow:Value in checkpoint could not be found in the restored object: (root).optimizer's state 'momentum' for (root).layer_with_weights-0.layer_with_weights-219.kernel\n",
            "WARNING:tensorflow:Value in checkpoint could not be found in the restored object: (root).optimizer's state 'momentum' for (root).layer_with_weights-0.layer_with_weights-220.gamma\n",
            "WARNING:tensorflow:Value in checkpoint could not be found in the restored object: (root).optimizer's state 'momentum' for (root).layer_with_weights-0.layer_with_weights-220.beta\n",
            "WARNING:tensorflow:Value in checkpoint could not be found in the restored object: (root).optimizer's state 'momentum' for (root).layer_with_weights-0.layer_with_weights-221.kernel\n",
            "WARNING:tensorflow:Value in checkpoint could not be found in the restored object: (root).optimizer's state 'momentum' for (root).layer_with_weights-0.layer_with_weights-222.gamma\n",
            "WARNING:tensorflow:Value in checkpoint could not be found in the restored object: (root).optimizer's state 'momentum' for (root).layer_with_weights-0.layer_with_weights-222.beta\n",
            "WARNING:tensorflow:Value in checkpoint could not be found in the restored object: (root).optimizer's state 'momentum' for (root).layer_with_weights-0.layer_with_weights-223.kernel\n",
            "WARNING:tensorflow:Value in checkpoint could not be found in the restored object: (root).optimizer's state 'momentum' for (root).layer_with_weights-0.layer_with_weights-224.gamma\n",
            "WARNING:tensorflow:Value in checkpoint could not be found in the restored object: (root).optimizer's state 'momentum' for (root).layer_with_weights-0.layer_with_weights-224.beta\n",
            "WARNING:tensorflow:Value in checkpoint could not be found in the restored object: (root).optimizer's state 'momentum' for (root).layer_with_weights-0.layer_with_weights-225.kernel\n",
            "WARNING:tensorflow:Value in checkpoint could not be found in the restored object: (root).optimizer's state 'momentum' for (root).layer_with_weights-0.layer_with_weights-226.gamma\n",
            "WARNING:tensorflow:Value in checkpoint could not be found in the restored object: (root).optimizer's state 'momentum' for (root).layer_with_weights-0.layer_with_weights-226.beta\n",
            "WARNING:tensorflow:Value in checkpoint could not be found in the restored object: (root).optimizer's state 'momentum' for (root).layer_with_weights-0.layer_with_weights-227.kernel\n",
            "WARNING:tensorflow:Value in checkpoint could not be found in the restored object: (root).optimizer's state 'momentum' for (root).layer_with_weights-0.layer_with_weights-228.gamma\n",
            "WARNING:tensorflow:Value in checkpoint could not be found in the restored object: (root).optimizer's state 'momentum' for (root).layer_with_weights-0.layer_with_weights-228.beta\n",
            "WARNING:tensorflow:Value in checkpoint could not be found in the restored object: (root).optimizer's state 'momentum' for (root).layer_with_weights-0.layer_with_weights-229.kernel\n",
            "WARNING:tensorflow:Value in checkpoint could not be found in the restored object: (root).optimizer's state 'momentum' for (root).layer_with_weights-0.layer_with_weights-230.gamma\n",
            "WARNING:tensorflow:Value in checkpoint could not be found in the restored object: (root).optimizer's state 'momentum' for (root).layer_with_weights-0.layer_with_weights-230.beta\n",
            "WARNING:tensorflow:Value in checkpoint could not be found in the restored object: (root).optimizer's state 'momentum' for (root).layer_with_weights-0.layer_with_weights-231.kernel\n",
            "WARNING:tensorflow:Value in checkpoint could not be found in the restored object: (root).optimizer's state 'momentum' for (root).layer_with_weights-0.layer_with_weights-232.gamma\n",
            "WARNING:tensorflow:Value in checkpoint could not be found in the restored object: (root).optimizer's state 'momentum' for (root).layer_with_weights-0.layer_with_weights-232.beta\n",
            "WARNING:tensorflow:Value in checkpoint could not be found in the restored object: (root).optimizer's state 'momentum' for (root).layer_with_weights-0.layer_with_weights-233.kernel\n",
            "WARNING:tensorflow:Value in checkpoint could not be found in the restored object: (root).optimizer's state 'momentum' for (root).layer_with_weights-0.layer_with_weights-234.gamma\n",
            "WARNING:tensorflow:Value in checkpoint could not be found in the restored object: (root).optimizer's state 'momentum' for (root).layer_with_weights-0.layer_with_weights-234.beta\n",
            "WARNING:tensorflow:Value in checkpoint could not be found in the restored object: (root).optimizer's state 'momentum' for (root).layer_with_weights-0.layer_with_weights-235.kernel\n",
            "WARNING:tensorflow:Value in checkpoint could not be found in the restored object: (root).optimizer's state 'momentum' for (root).layer_with_weights-0.layer_with_weights-236.gamma\n",
            "WARNING:tensorflow:Value in checkpoint could not be found in the restored object: (root).optimizer's state 'momentum' for (root).layer_with_weights-0.layer_with_weights-236.beta\n",
            "WARNING:tensorflow:Value in checkpoint could not be found in the restored object: (root).optimizer's state 'momentum' for (root).layer_with_weights-0.layer_with_weights-237.kernel\n",
            "WARNING:tensorflow:Value in checkpoint could not be found in the restored object: (root).optimizer's state 'momentum' for (root).layer_with_weights-0.layer_with_weights-238.gamma\n",
            "WARNING:tensorflow:Value in checkpoint could not be found in the restored object: (root).optimizer's state 'momentum' for (root).layer_with_weights-0.layer_with_weights-238.beta\n",
            "WARNING:tensorflow:Value in checkpoint could not be found in the restored object: (root).optimizer's state 'momentum' for (root).layer_with_weights-0.layer_with_weights-239.kernel\n",
            "WARNING:tensorflow:Value in checkpoint could not be found in the restored object: (root).optimizer's state 'momentum' for (root).layer_with_weights-0.layer_with_weights-240.gamma\n",
            "WARNING:tensorflow:Value in checkpoint could not be found in the restored object: (root).optimizer's state 'momentum' for (root).layer_with_weights-0.layer_with_weights-240.beta\n",
            "WARNING:absl:Found untraced functions such as batch_if_necessary, _jit_compiled_convolution_op, _jit_compiled_convolution_op, _jit_compiled_convolution_op, _jit_compiled_convolution_op while saving (showing 5 of 121). These functions will not be directly callable after loading.\n"
          ]
        }
      ]
    },
    {
      "cell_type": "code",
      "source": [
        "import numpy as np\n",
        "import tflite_runtime.interpreter as tflite\n",
        "interpreter = tflite.Interpreter(\"./model.tflite\")\n",
        "\n",
        "found_signatures = list(interpreter.get_signature_list().keys())\n",
        "\n",
        "prediction_fn = interpreter.get_signature_runner(\"serving_default\")\n",
        "output = prediction_fn(inputs=tf.zeros([100, 543, 3]))\n",
        "sign = np.argmax(output[\"outputs\"])\n",
        "print(sign)"
      ],
      "metadata": {
        "colab": {
          "base_uri": "https://localhost:8080/"
        },
        "id": "qIui2eop7bu5",
        "outputId": "73bdc9d4-1a22-4fd3-e6a9-4929a0cd41f3"
      },
      "execution_count": 32,
      "outputs": [
        {
          "output_type": "stream",
          "name": "stdout",
          "text": [
            "158\n"
          ]
        }
      ]
    },
    {
      "cell_type": "code",
      "source": [
        "%timeit prediction_fn(inputs=tf.zeros([100, 543, 3]))"
      ],
      "metadata": {
        "colab": {
          "base_uri": "https://localhost:8080/"
        },
        "id": "upsTuyFP9LDf",
        "outputId": "f1c81ea8-6515-4bd0-eedd-455744db094d"
      },
      "execution_count": 33,
      "outputs": [
        {
          "output_type": "stream",
          "name": "stdout",
          "text": [
            "80 ms ± 17.1 ms per loop (mean ± std. dev. of 7 runs, 10 loops each)\n"
          ]
        }
      ]
    },
    {
      "cell_type": "code",
      "source": [],
      "metadata": {
        "id": "Wggwen0LmmW8"
      },
      "execution_count": null,
      "outputs": []
    }
  ]
}