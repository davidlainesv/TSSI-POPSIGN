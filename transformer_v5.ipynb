{
 "cells": [
  {
   "cell_type": "code",
   "execution_count": 1,
   "id": "dbbf677f-3fb1-42ed-84c9-9974099b4037",
   "metadata": {},
   "outputs": [
    {
     "name": "stdout",
     "output_type": "stream",
     "text": [
      "env: CUDA_VISIBLE_DEVICES=1\n"
     ]
    }
   ],
   "source": [
    "%env CUDA_VISIBLE_DEVICES=1"
   ]
  },
  {
   "cell_type": "code",
   "execution_count": 2,
   "id": "950d89df-5ee6-4132-a155-5ef10b429e97",
   "metadata": {
    "tags": []
   },
   "outputs": [
    {
     "name": "stderr",
     "output_type": "stream",
     "text": [
      "2023-04-18 04:26:19.953747: I tensorflow/core/platform/cpu_feature_guard.cc:193] This TensorFlow binary is optimized with oneAPI Deep Neural Network Library (oneDNN) to use the following CPU instructions in performance-critical operations:  AVX2 FMA\n",
      "To enable them in other operations, rebuild TensorFlow with the appropriate compiler flags.\n",
      "2023-04-18 04:26:20.100442: E tensorflow/stream_executor/cuda/cuda_blas.cc:2981] Unable to register cuBLAS factory: Attempting to register factory for plugin cuBLAS when one has already been registered\n",
      "2023-04-18 04:26:20.869468: W tensorflow/stream_executor/platform/default/dso_loader.cc:64] Could not load dynamic library 'libnvinfer.so.7'; dlerror: libnvinfer.so.7: cannot open shared object file: No such file or directory; LD_LIBRARY_PATH: /usr/local/cuda/extras/CUPTI/lib64:/usr/local/cuda/compat/lib:/usr/local/nvidia/lib:/usr/local/nvidia/lib64\n",
      "2023-04-18 04:26:20.869570: W tensorflow/stream_executor/platform/default/dso_loader.cc:64] Could not load dynamic library 'libnvinfer_plugin.so.7'; dlerror: libnvinfer_plugin.so.7: cannot open shared object file: No such file or directory; LD_LIBRARY_PATH: /usr/local/cuda/extras/CUPTI/lib64:/usr/local/cuda/compat/lib:/usr/local/nvidia/lib:/usr/local/nvidia/lib64\n",
      "2023-04-18 04:26:20.869580: W tensorflow/compiler/tf2tensorrt/utils/py_utils.cc:38] TF-TRT Warning: Cannot dlopen some TensorRT libraries. If you would like to use Nvidia GPU with TensorRT, please make sure the missing libraries mentioned above are installed properly.\n"
     ]
    }
   ],
   "source": [
    "import logging\n",
    "import time\n",
    "\n",
    "import numpy as np\n",
    "import matplotlib.pyplot as plt\n",
    "\n",
    "import tensorflow_datasets as tfds\n",
    "import tensorflow as tf\n",
    "\n",
    "import tensorflow_text\n",
    "\n",
    "from config import NUM_CLASSES"
   ]
  },
  {
   "cell_type": "code",
   "execution_count": 3,
   "id": "1137e3de-d9f3-42ec-9e26-0dbfe62dd7aa",
   "metadata": {
    "tags": []
   },
   "outputs": [
    {
     "name": "stderr",
     "output_type": "stream",
     "text": [
      "2023-04-18 04:26:21.886207: I tensorflow/core/platform/cpu_feature_guard.cc:193] This TensorFlow binary is optimized with oneAPI Deep Neural Network Library (oneDNN) to use the following CPU instructions in performance-critical operations:  AVX2 FMA\n",
      "To enable them in other operations, rebuild TensorFlow with the appropriate compiler flags.\n",
      "2023-04-18 04:26:22.565389: I tensorflow/core/common_runtime/gpu/gpu_device.cc:1616] Created device /job:localhost/replica:0/task:0/device:GPU:0 with 15391 MB memory:  -> device: 0, name: NVIDIA Tesla P100-SXM2-16GB, pci bus id: 0000:07:00.0, compute capability: 6.0\n"
     ]
    }
   ],
   "source": [
    "from dataset import Dataset\n",
    "\n",
    "dataset = Dataset()"
   ]
  },
  {
   "cell_type": "code",
   "execution_count": 4,
   "id": "5f4ed6a0-3c61-4b06-9c7b-8b028253b3e0",
   "metadata": {
    "tags": []
   },
   "outputs": [
    {
     "name": "stdout",
     "output_type": "stream",
     "text": [
      "68\n",
      "135\n"
     ]
    },
    {
     "data": {
      "text/plain": [
       "68"
      ]
     },
     "execution_count": 4,
     "metadata": {},
     "output_type": "execute_result"
    }
   ],
   "source": [
    "import numpy as np\n",
    "from skeleton_graph import tssi_v2\n",
    "\n",
    "joints_order = tssi_v2()[1]\n",
    "\n",
    "print(len(np.unique(joints_order)))\n",
    "print(len(joints_order))\n",
    "\n",
    "unique_joints = list(np.unique(joints_order))\n",
    "\n",
    "unique_idxs = [joints_order.index(j) for j in unique_joints]\n",
    "\n",
    "len(unique_idxs)"
   ]
  },
  {
   "cell_type": "code",
   "execution_count": 5,
   "id": "a87e357e-cd15-4eab-b401-ad04e2a2ec35",
   "metadata": {
    "tags": []
   },
   "outputs": [],
   "source": [
    "def reshape_dataset(x, y):\n",
    "    # x.shape -> (batch_size, length, joints, coordinates)\n",
    "    # x = tf.gather(x, unique_idxs, axis=2)\n",
    "    # x = tf.keras.layers.Reshape([60, -1])(x)\n",
    "    # y_new = tf.keras.layers.Reshape([1, -1])(y)\n",
    "    # return (x, y_new), y\n",
    "    return x, y\n",
    "\n",
    "train_dataset = dataset.get_training_set(\n",
    "    batch_size=64,\n",
    "    buffer_size=dataset.num_train_examples,\n",
    "    repeat=False,\n",
    "    deterministic=True,\n",
    "    augmentation=False,\n",
    "    pipeline=\"default\")\n",
    "# train_dataset = train_dataset.map(reshape_dataset)\n",
    "\n",
    "validation_dataset = dataset.get_validation_set(\n",
    "    batch_size=64,\n",
    "    pipeline=\"default\")\n",
    "# validation_dataset = validation_dataset.map(reshape_dataset)"
   ]
  },
  {
   "cell_type": "code",
   "execution_count": 6,
   "id": "a9db210d-a76b-48ad-958c-b93704bac831",
   "metadata": {
    "tags": []
   },
   "outputs": [
    {
     "name": "stdout",
     "output_type": "stream",
     "text": [
      "(64, 32, 135, 2)\n",
      "(64, 1, 250)\n",
      "(64, 250)\n"
     ]
    }
   ],
   "source": [
    "for examples, en_labels in train_dataset.take(1):\n",
    "    pt = examples\n",
    "    en = tf.keras.layers.Reshape([1, -1])(en_labels)\n",
    "    break\n",
    "\n",
    "print(pt.shape)\n",
    "print(en.shape)\n",
    "print(en_labels.shape)"
   ]
  },
  {
   "cell_type": "code",
   "execution_count": 7,
   "id": "63459c7a-d184-44d2-97bc-6ea7ca6d20de",
   "metadata": {
    "tags": []
   },
   "outputs": [],
   "source": [
    "INPUT_FEATURES_LENGTH = pt.shape[2]"
   ]
  },
  {
   "cell_type": "code",
   "execution_count": 8,
   "id": "00250134-1d5a-4d09-ad0a-bc565b5f09f7",
   "metadata": {
    "tags": []
   },
   "outputs": [],
   "source": [
    "def positional_encoding(length, depth):\n",
    "    depth = depth/2\n",
    "\n",
    "    positions = np.arange(length)[:, np.newaxis]     # (seq, 1)\n",
    "    depths = np.arange(depth)[np.newaxis, :]/depth   # (1, depth)\n",
    "\n",
    "    angle_rates = 1 / (10000**depths)         # (1, depth)\n",
    "    angle_rads = positions * angle_rates      # (pos, depth)\n",
    "\n",
    "    pos_encoding = np.concatenate(\n",
    "      [np.sin(angle_rads), np.cos(angle_rads)],\n",
    "      axis=-1) \n",
    "\n",
    "    return tf.cast(pos_encoding, dtype=tf.float32)"
   ]
  },
  {
   "cell_type": "code",
   "execution_count": 9,
   "id": "b6051d18-ccb0-4235-a9dc-ab6395ca4edf",
   "metadata": {
    "tags": []
   },
   "outputs": [],
   "source": [
    "class PositionalEmbedding(tf.keras.layers.Layer):\n",
    "    def __init__(self, d_model):\n",
    "        super().__init__()\n",
    "        self.d_model = d_model\n",
    "        # original -> self.embedding = tf.keras.layers.Embedding(vocab_size, d_model, mask_zero=True) \n",
    "        self.pos_encoding = positional_encoding(length=2048, depth=d_model)\n",
    "\n",
    "    # def compute_mask(self, *args, **kwargs):\n",
    "    #     return self.embedding.compute_mask(*args, **kwargs)\n",
    "\n",
    "    def call(self, x):\n",
    "        length = tf.shape(x)[1]\n",
    "        # x = self.embedding(x)\n",
    "        # This factor sets the relative scale of the embedding and positonal_encoding.\n",
    "        x *= tf.math.sqrt(tf.cast(self.d_model, tf.float32))\n",
    "        x = x + self.pos_encoding[tf.newaxis, :length, :]\n",
    "        return x"
   ]
  },
  {
   "cell_type": "code",
   "execution_count": 10,
   "id": "8907747c-991c-4b26-9765-8d4afb60a1aa",
   "metadata": {
    "tags": []
   },
   "outputs": [],
   "source": [
    "class BaseAttention(tf.keras.layers.Layer):\n",
    "    def __init__(self, **kwargs):\n",
    "        super().__init__()\n",
    "        self.mha = tf.keras.layers.MultiHeadAttention(**kwargs)\n",
    "        self.layernorm = tf.keras.layers.LayerNormalization()\n",
    "        self.add = tf.keras.layers.Add()"
   ]
  },
  {
   "cell_type": "code",
   "execution_count": 11,
   "id": "5f137018-1b65-44c9-a524-b3dc6f66e259",
   "metadata": {
    "tags": []
   },
   "outputs": [],
   "source": [
    "class CrossAttention(BaseAttention):\n",
    "    def call(self, x, context):\n",
    "        attn_output, attn_scores = self.mha(\n",
    "            query=x,\n",
    "            key=context,\n",
    "            value=context,\n",
    "            return_attention_scores=True)\n",
    "\n",
    "        # Cache the attention scores for plotting later.\n",
    "        self.last_attn_scores = attn_scores\n",
    "\n",
    "        x = self.add([x, attn_output])\n",
    "        x = self.layernorm(x)\n",
    "\n",
    "        return x"
   ]
  },
  {
   "cell_type": "code",
   "execution_count": 12,
   "id": "a7145966-a2f9-4417-8058-31ea5fad2592",
   "metadata": {
    "tags": []
   },
   "outputs": [],
   "source": [
    "class GlobalSelfAttention(BaseAttention):\n",
    "    def call(self, x):\n",
    "        attn_output = self.mha(\n",
    "            query=x,\n",
    "            value=x,\n",
    "            key=x)\n",
    "        x = self.add([x, attn_output])\n",
    "        x = self.layernorm(x)\n",
    "        return x"
   ]
  },
  {
   "cell_type": "code",
   "execution_count": 13,
   "id": "eca94936-5fb0-4f04-846f-cd5255c99b27",
   "metadata": {
    "tags": []
   },
   "outputs": [],
   "source": [
    "class CausalSelfAttention(BaseAttention):\n",
    "    def call(self, x):\n",
    "        # attn_output = self.mha(\n",
    "        #     query=x,\n",
    "        #     value=x,\n",
    "        #     key=x,\n",
    "        #     use_causal_mask = True)\n",
    "        # x = self.add([x, attn_output])\n",
    "        x = self.layernorm(x)\n",
    "        return x"
   ]
  },
  {
   "cell_type": "code",
   "execution_count": 14,
   "id": "a1308852-eeb3-45f5-8569-977a0c970604",
   "metadata": {
    "tags": []
   },
   "outputs": [],
   "source": [
    "class FeedForward(tf.keras.layers.Layer):\n",
    "    def __init__(self, d_model, dff, dropout_rate=0.1):\n",
    "        super().__init__()\n",
    "        self.seq = tf.keras.Sequential([\n",
    "          tf.keras.layers.Dense(dff, activation='relu'),\n",
    "          tf.keras.layers.Dense(d_model),\n",
    "          tf.keras.layers.Dropout(dropout_rate)\n",
    "        ])\n",
    "        self.add = tf.keras.layers.Add()\n",
    "        self.layer_norm = tf.keras.layers.LayerNormalization()\n",
    "\n",
    "    def call(self, x):\n",
    "        x = self.add([x, self.seq(x)])\n",
    "        x = self.layer_norm(x) \n",
    "        return x"
   ]
  },
  {
   "cell_type": "code",
   "execution_count": 15,
   "id": "04451a40-1ab1-4e67-b006-0ee15c1bdffa",
   "metadata": {
    "tags": []
   },
   "outputs": [],
   "source": [
    "class EncoderLayer(tf.keras.layers.Layer):\n",
    "  def __init__(self,*, d_model, num_heads, dff, dropout_rate=0.1):\n",
    "    super().__init__()\n",
    "\n",
    "    self.self_attention = GlobalSelfAttention(\n",
    "        num_heads=num_heads,\n",
    "        key_dim=d_model,\n",
    "        dropout=dropout_rate)\n",
    "\n",
    "    self.ffn = FeedForward(d_model, dff)\n",
    "\n",
    "  def call(self, x):\n",
    "    x = self.self_attention(x)\n",
    "    x = self.ffn(x)\n",
    "    return x"
   ]
  },
  {
   "cell_type": "code",
   "execution_count": 16,
   "id": "4d2e497f-7663-4cbd-861f-f6d0a3a67c3d",
   "metadata": {
    "tags": []
   },
   "outputs": [],
   "source": [
    "from keras_nlp.layers import PositionEmbedding\n",
    "\n",
    "class Encoder(tf.keras.layers.Layer):\n",
    "  def __init__(self, *, num_layers, d_model, num_heads,\n",
    "               dff, dropout_rate=0.1):\n",
    "    super().__init__()\n",
    "\n",
    "    self.d_model = d_model\n",
    "    self.num_layers = num_layers\n",
    "\n",
    "    # original -> self.pos_embedding = PositionalEmbedding(d_model=d_model)\n",
    "    self.pos_embedding = PositionEmbedding(sequence_length=60)\n",
    "\n",
    "    self.enc_layers = [\n",
    "        EncoderLayer(d_model=d_model,\n",
    "                     num_heads=num_heads,\n",
    "                     dff=dff,\n",
    "                     dropout_rate=dropout_rate)\n",
    "        for _ in range(num_layers)]\n",
    "    self.dropout = tf.keras.layers.Dropout(dropout_rate)\n",
    "\n",
    "  def call(self, x):\n",
    "    # `x` is token-IDs shape: (batch, seq_len)\n",
    "    # x = self.pos_embedding(x)  # Shape `(batch_size, seq_len, d_model)`.\n",
    "    \n",
    "    # added for positionembedding\n",
    "    position_embeddings = self.pos_embedding(x)\n",
    "    x = x + position_embeddings\n",
    "\n",
    "    # Add dropout.\n",
    "    x = self.dropout(x)\n",
    "\n",
    "    for i in range(self.num_layers):\n",
    "      x = self.enc_layers[i](x)\n",
    "\n",
    "    return x  # Shape `(batch_size, seq_len, d_model)`."
   ]
  },
  {
   "cell_type": "code",
   "execution_count": 17,
   "id": "fb173b5b-baa6-471b-81b6-031c4526bbd8",
   "metadata": {
    "tags": []
   },
   "outputs": [],
   "source": [
    "class DecoderLayer(tf.keras.layers.Layer):\n",
    "  def __init__(self,\n",
    "               *,\n",
    "               d_model,\n",
    "               num_heads,\n",
    "               dff,\n",
    "               dropout_rate=0.1):\n",
    "    super(DecoderLayer, self).__init__()\n",
    "\n",
    "    self.causal_self_attention = CausalSelfAttention(\n",
    "        num_heads=num_heads,\n",
    "        key_dim=d_model,\n",
    "        dropout=dropout_rate)\n",
    "\n",
    "    self.cross_attention = CrossAttention(\n",
    "        num_heads=num_heads,\n",
    "        key_dim=d_model,\n",
    "        dropout=dropout_rate)\n",
    "\n",
    "    self.ffn = FeedForward(d_model, dff)\n",
    "\n",
    "  def call(self, x, context):\n",
    "    x = self.causal_self_attention(x=x)\n",
    "    x = self.cross_attention(x=x, context=context)\n",
    "\n",
    "    # Cache the last attention scores for plotting later\n",
    "    self.last_attn_scores = self.cross_attention.last_attn_scores\n",
    "\n",
    "    x = self.ffn(x)  # Shape `(batch_size, seq_len, d_model)`.\n",
    "    return x"
   ]
  },
  {
   "cell_type": "code",
   "execution_count": 18,
   "id": "d8083801-01e5-494f-be12-e0a2a8a7aab9",
   "metadata": {
    "tags": []
   },
   "outputs": [],
   "source": [
    "class Decoder(tf.keras.layers.Layer):\n",
    "  def __init__(self, *, num_layers, d_model, num_heads, dff,\n",
    "               dropout_rate=0.1):\n",
    "    super(Decoder, self).__init__()\n",
    "\n",
    "    self.d_model = d_model\n",
    "    self.num_layers = num_layers\n",
    "\n",
    "    self.pos_embedding = PositionalEmbedding(d_model=d_model)\n",
    "    self.dropout = tf.keras.layers.Dropout(dropout_rate)\n",
    "    self.dec_layers = [\n",
    "        DecoderLayer(d_model=d_model, num_heads=num_heads,\n",
    "                     dff=dff, dropout_rate=dropout_rate)\n",
    "        for _ in range(num_layers)]\n",
    "\n",
    "    self.last_attn_scores = None\n",
    "\n",
    "  def call(self, x, context):\n",
    "    # `x` is token-IDs shape (batch, target_seq_len)\n",
    "    # x = self.pos_embedding(x)  # (batch_size, target_seq_len, d_model)\n",
    "\n",
    "    x = self.dropout(x)\n",
    "\n",
    "    for i in range(self.num_layers):\n",
    "      x  = self.dec_layers[i](x, context)\n",
    "\n",
    "    self.last_attn_scores = self.dec_layers[-1].last_attn_scores\n",
    "\n",
    "    # The shape of x is (batch_size, target_seq_len, d_model).\n",
    "    return x"
   ]
  },
  {
   "cell_type": "code",
   "execution_count": 68,
   "id": "8d641f57-2b05-48d2-bcd2-52101d5eaecb",
   "metadata": {
    "tags": []
   },
   "outputs": [],
   "source": [
    "# base\n",
    "\n",
    "from densenet4transformer import DenseNet121\n",
    "\n",
    "class Transformer(tf.keras.Model):\n",
    "    def __init__(self, *, num_layers, d_model, num_heads, dff, num_classes,\n",
    "                 dropout_rate=0.1):\n",
    "        super().__init__()\n",
    "        self.encoder = Encoder(num_layers=num_layers, d_model=d_model,\n",
    "                               num_heads=num_heads, dff=dff,\n",
    "                               dropout_rate=dropout_rate)\n",
    "\n",
    "        # self.decoder = Decoder(num_layers=num_layers, d_model=d_model,\n",
    "        #                        num_heads=num_heads, dff=dff,\n",
    "        #                        dropout_rate=dropout_rate)\n",
    "\n",
    "        # input_shape=[60, INPUT_FEATURES_LENGTH, 2]\n",
    "        self.backbone = DenseNet121(blocks=[6, 12, 24, 16],\n",
    "                                    pooling=\"avg\",\n",
    "                                    growth_rate=4,\n",
    "                                    attention=None,\n",
    "                                    dropout=0.1)\n",
    "\n",
    "        self.final_layer = tf.keras.layers.Dense(num_classes, activation=\"softmax\")\n",
    "        # self.class_query = tf.Variable(tf.random.uniform(shape=[1, d_model]))\n",
    "        self.inner_reshape = tf.keras.layers.Reshape([32, d_model])\n",
    "\n",
    "    def call(self, inputs):\n",
    "        # To use a Keras model with `.fit` you must pass all your inputs in the\n",
    "        # first argument.\n",
    "        # context, x  = inputs\n",
    "        context = inputs\n",
    "\n",
    "        # Embed with DenseNet\n",
    "        context = self.backbone(context) # (batch_size, new_len, d_model, 1)\n",
    "        \n",
    "        # Reshape embedding\n",
    "        context = self.inner_reshape(context) # (batch_size, new_len, d_model)\n",
    "\n",
    "        # Encode embedding\n",
    "        context = self.encoder(context)  # (batch_size, new_len, d_model)\n",
    "\n",
    "        # Decode with class query\n",
    "        # x = tf.expand_dims(tf.repeat(self.class_query, tf.shape(context)[0], axis=0), axis=1)\n",
    "        # x = self.decoder(x, context)  # (batch_size, target_len, d_model)\n",
    "        \n",
    "        x = tf.keras.layers.GlobalAveragePooling1D()(context)\n",
    "\n",
    "        # Final linear layer output.\n",
    "        logits = self.final_layer(x)  # (batch_size, target_len, target_vocab_size)\n",
    "\n",
    "        try:\n",
    "            # Drop the keras mask, so it doesn't scale the losses/metrics.\n",
    "            # b/250038731\n",
    "            del logits._keras_mask\n",
    "        except AttributeError:\n",
    "            pass\n",
    "\n",
    "        # Return the final output and the attention weights.\n",
    "        # return logits[:, 0, :]\n",
    "        return logits\n",
    "\n",
    "    def make(self, input_shape=[60, INPUT_FEATURES_LENGTH, 2], name=\"transformer_v5\"):\n",
    "        '''\n",
    "        This method makes the command \"model.summary()\" work.\n",
    "        input_shape: (H,W,C), do not specify batch B\n",
    "        '''\n",
    "        x = tf.keras.layers.Input(shape=input_shape)\n",
    "        model = tf.keras.Model(inputs=[x], outputs=self.call(x), name=name)\n",
    "        return model"
   ]
  },
  {
   "cell_type": "code",
   "execution_count": 20,
   "id": "3dc90fa1-3425-48bb-942c-1a5f175feae2",
   "metadata": {
    "tags": []
   },
   "outputs": [],
   "source": [
    "num_layers = 4\n",
    "d_model = 117#INPUT_FEATURES_LENGTH\n",
    "dff = 2048\n",
    "num_heads = 9\n",
    "dropout_rate = 0.1"
   ]
  },
  {
   "cell_type": "code",
   "execution_count": 21,
   "id": "41e76598-400c-465b-87a3-6973dfbd70a8",
   "metadata": {
    "tags": []
   },
   "outputs": [],
   "source": [
    "tf.random.set_seed(0)\n",
    "\n",
    "transformer = Transformer(\n",
    "    num_layers=num_layers,\n",
    "    d_model=d_model,\n",
    "    num_heads=num_heads,\n",
    "    dff=dff,\n",
    "    num_classes=NUM_CLASSES,\n",
    "    dropout_rate=dropout_rate).make(input_shape=[32, 135, 2])"
   ]
  },
  {
   "cell_type": "code",
   "execution_count": 22,
   "id": "ab3b5c58-046e-4588-b757-db2827f6e5d4",
   "metadata": {
    "tags": []
   },
   "outputs": [
    {
     "name": "stderr",
     "output_type": "stream",
     "text": [
      "2023-04-18 04:26:27.362898: I tensorflow/stream_executor/cuda/cuda_dnn.cc:384] Loaded cuDNN version 8700\n"
     ]
    },
    {
     "name": "stdout",
     "output_type": "stream",
     "text": [
      "(64, 32, 135, 2)\n",
      "(64, 250)\n"
     ]
    }
   ],
   "source": [
    "output = transformer(pt)\n",
    "\n",
    "print(pt.shape)\n",
    "print(output.shape)"
   ]
  },
  {
   "cell_type": "code",
   "execution_count": 23,
   "id": "c4cdf221-0f30-41db-8ce3-f447371ab294",
   "metadata": {
    "tags": []
   },
   "outputs": [],
   "source": [
    "# attn_scores = transformer.decoder.dec_layers[-1].last_attn_scores\n",
    "# print(attn_scores.shape)  # (batch, heads, target_seq, input_seq)"
   ]
  },
  {
   "cell_type": "code",
   "execution_count": 24,
   "id": "b85ec22d-75e8-4e35-8fb7-09d0cc553ba9",
   "metadata": {
    "tags": []
   },
   "outputs": [
    {
     "name": "stdout",
     "output_type": "stream",
     "text": [
      "Model: \"transformer_v5\"\n",
      "_________________________________________________________________\n",
      " Layer (type)                Output Shape              Param #   \n",
      "=================================================================\n",
      " input_1 (InputLayer)        [(None, 32, 135, 2)]      0         \n",
      "                                                                 \n",
      " dense_net121 (DenseNet121)  (None, 32, 117, 1)        73156     \n",
      "                                                                 \n",
      " reshape_1 (Reshape)         (None, 32, 117)           0         \n",
      "                                                                 \n",
      " encoder (Encoder)           (None, 32, 117)           3918800   \n",
      "                                                                 \n",
      " global_average_pooling1d (G  (None, 117)              0         \n",
      " lobalAveragePooling1D)                                          \n",
      "                                                                 \n",
      " dense_8 (Dense)             (None, 250)               29500     \n",
      "                                                                 \n",
      "=================================================================\n",
      "Total params: 4,021,456\n",
      "Trainable params: 4,021,006\n",
      "Non-trainable params: 450\n",
      "_________________________________________________________________\n"
     ]
    }
   ],
   "source": [
    "transformer.summary()"
   ]
  },
  {
   "cell_type": "code",
   "execution_count": 25,
   "id": "b46495fe-d04e-4307-916e-f7358e384246",
   "metadata": {
    "tags": []
   },
   "outputs": [],
   "source": [
    "from optimizer import build_sgd_optimizer\n",
    "\n",
    "optimizer, lr_sched = build_sgd_optimizer(initial_learning_rate=0.0008,\n",
    "                                maximal_learning_rate=0.008,\n",
    "                                momentum=0.98,\n",
    "                                nesterov=True,\n",
    "                                step_size=1181 * 15,\n",
    "                                weight_decay=1e-6,\n",
    "                                return_lr_schedule=True)\n",
    "\n",
    "transformer.compile(\n",
    "    loss=\"categorical_crossentropy\",\n",
    "    optimizer=optimizer,\n",
    "    metrics=[tf.keras.metrics.TopKCategoricalAccuracy(k=1, name='top_1', dtype=tf.float32)])"
   ]
  },
  {
   "cell_type": "code",
   "execution_count": 26,
   "id": "c78820a8-ccc7-4929-afee-3c77d2795a5a",
   "metadata": {
    "tags": []
   },
   "outputs": [
    {
     "data": {
      "text/plain": [
       "Text(0.5, 0, 'Train Step')"
      ]
     },
     "execution_count": 26,
     "metadata": {},
     "output_type": "execute_result"
    },
    {
     "data": {
      "image/png": "[encoded data removed]",
      "text/plain": [
       "<Figure size 640x480 with 1 Axes>"
      ]
     },
     "metadata": {},
     "output_type": "display_data"
    }
   ],
   "source": [
    "plt.plot(lr_sched(tf.range(1181 * 30, dtype=tf.float32)))\n",
    "plt.ylabel('Learning Rate')\n",
    "plt.xlabel('Train Step')"
   ]
  },
  {
   "cell_type": "code",
   "execution_count": 27,
   "id": "ae3c0156-5c71-4cc6-8b2a-6de9d18a1fa6",
   "metadata": {
    "tags": []
   },
   "outputs": [
    {
     "name": "stdout",
     "output_type": "stream",
     "text": [
      "Epoch 1/30\n",
      "1181/1181 [==============================] - 88s 71ms/step - loss: 5.3362 - top_1: 0.0135 - val_loss: 4.8227 - val_top_1: 0.0435\n",
      "Epoch 2/30\n",
      "1181/1181 [==============================] - 78s 66ms/step - loss: 3.9379 - top_1: 0.1381 - val_loss: 3.1364 - val_top_1: 0.2564\n",
      "Epoch 3/30\n",
      "1181/1181 [==============================] - 78s 66ms/step - loss: 2.8928 - top_1: 0.3001 - val_loss: 2.4961 - val_top_1: 0.3742\n",
      "Epoch 4/30\n",
      "1181/1181 [==============================] - 78s 66ms/step - loss: 2.4316 - top_1: 0.3902 - val_loss: 2.1952 - val_top_1: 0.4408\n",
      "Epoch 5/30\n",
      "1181/1181 [==============================] - 78s 66ms/step - loss: 2.1422 - top_1: 0.4511 - val_loss: 2.0738 - val_top_1: 0.4616\n",
      "Epoch 6/30\n",
      "1181/1181 [==============================] - 78s 66ms/step - loss: 1.9549 - top_1: 0.4898 - val_loss: 1.8326 - val_top_1: 0.5233\n",
      "Epoch 7/30\n",
      "1181/1181 [==============================] - 78s 66ms/step - loss: 1.7986 - top_1: 0.5288 - val_loss: 1.8429 - val_top_1: 0.5250\n",
      "Epoch 8/30\n",
      "1181/1181 [==============================] - 78s 66ms/step - loss: 1.6734 - top_1: 0.5564 - val_loss: 1.5885 - val_top_1: 0.5812\n",
      "Epoch 9/30\n",
      "1181/1181 [==============================] - 78s 66ms/step - loss: 1.5595 - top_1: 0.5798 - val_loss: 1.6074 - val_top_1: 0.5809\n",
      "Epoch 10/30\n",
      "1181/1181 [==============================] - 78s 66ms/step - loss: 1.4679 - top_1: 0.6064 - val_loss: 1.4726 - val_top_1: 0.6116\n",
      "Epoch 11/30\n",
      "1181/1181 [==============================] - 78s 66ms/step - loss: 1.4024 - top_1: 0.6213 - val_loss: 1.4507 - val_top_1: 0.6142\n",
      "Epoch 12/30\n",
      "1181/1181 [==============================] - 78s 66ms/step - loss: 1.3217 - top_1: 0.6397 - val_loss: 1.3303 - val_top_1: 0.6519\n",
      "Epoch 13/30\n",
      "1181/1181 [==============================] - 78s 66ms/step - loss: 1.2613 - top_1: 0.6540 - val_loss: 1.3791 - val_top_1: 0.6390\n",
      "Epoch 14/30\n",
      "1181/1181 [==============================] - 78s 66ms/step - loss: 1.2049 - top_1: 0.6684 - val_loss: 1.3363 - val_top_1: 0.6483\n",
      "Epoch 15/30\n",
      "1181/1181 [==============================] - 78s 66ms/step - loss: 1.1498 - top_1: 0.6800 - val_loss: 1.2482 - val_top_1: 0.6737\n",
      "Epoch 16/30\n",
      "1181/1181 [==============================] - 78s 66ms/step - loss: 1.0932 - top_1: 0.6934 - val_loss: 1.2166 - val_top_1: 0.6759\n",
      "Epoch 17/30\n",
      "1181/1181 [==============================] - 78s 66ms/step - loss: 0.9783 - top_1: 0.7227 - val_loss: 1.1830 - val_top_1: 0.6940\n",
      "Epoch 18/30\n",
      "1181/1181 [==============================] - 78s 66ms/step - loss: 0.8974 - top_1: 0.7436 - val_loss: 1.1772 - val_top_1: 0.6966\n",
      "Epoch 19/30\n",
      "1181/1181 [==============================] - 78s 66ms/step - loss: 0.8051 - top_1: 0.7674 - val_loss: 1.0899 - val_top_1: 0.7235\n",
      "Epoch 20/30\n",
      "1181/1181 [==============================] - 78s 66ms/step - loss: 0.7238 - top_1: 0.7887 - val_loss: 1.1283 - val_top_1: 0.7187\n",
      "Epoch 21/30\n",
      "1181/1181 [==============================] - 78s 66ms/step - loss: 0.6493 - top_1: 0.8071 - val_loss: 1.0855 - val_top_1: 0.7366\n",
      "Epoch 22/30\n",
      "1181/1181 [==============================] - 78s 66ms/step - loss: 0.5690 - top_1: 0.8291 - val_loss: 1.0980 - val_top_1: 0.7435\n",
      "Epoch 23/30\n",
      "1181/1181 [==============================] - 78s 66ms/step - loss: 0.5020 - top_1: 0.8460 - val_loss: 1.1368 - val_top_1: 0.7442\n",
      "Epoch 24/30\n",
      "1181/1181 [==============================] - 78s 66ms/step - loss: 0.4423 - top_1: 0.8640 - val_loss: 1.1337 - val_top_1: 0.7451\n",
      "Epoch 25/30\n",
      "1181/1181 [==============================] - 78s 66ms/step - loss: 0.3685 - top_1: 0.8855 - val_loss: 1.1482 - val_top_1: 0.7539\n",
      "Epoch 26/30\n",
      "1181/1181 [==============================] - 78s 66ms/step - loss: 0.3090 - top_1: 0.9028 - val_loss: 1.1344 - val_top_1: 0.7672\n",
      "Epoch 27/30\n",
      "1181/1181 [==============================] - 78s 66ms/step - loss: 0.2503 - top_1: 0.9200 - val_loss: 1.1621 - val_top_1: 0.7723\n",
      "Epoch 28/30\n",
      "1181/1181 [==============================] - 78s 66ms/step - loss: 0.2019 - top_1: 0.9367 - val_loss: 1.1642 - val_top_1: 0.7730\n",
      "Epoch 29/30\n",
      "1181/1181 [==============================] - 78s 66ms/step - loss: 0.1619 - top_1: 0.9490 - val_loss: 1.1619 - val_top_1: 0.7811\n",
      "Epoch 30/30\n",
      "1181/1181 [==============================] - 78s 66ms/step - loss: 0.1264 - top_1: 0.9621 - val_loss: 1.1665 - val_top_1: 0.7861\n"
     ]
    },
    {
     "data": {
      "text/plain": [
       "<keras.callbacks.History at 0x7ff80438c760>"
      ]
     },
     "execution_count": 27,
     "metadata": {},
     "output_type": "execute_result"
    }
   ],
   "source": [
    "transformer.fit(train_dataset,\n",
    "                epochs=30,\n",
    "                validation_data=validation_dataset)"
   ]
  },
  {
   "cell_type": "code",
   "execution_count": 28,
   "id": "319d338c-aae9-4005-9a1d-2317acee9ce0",
   "metadata": {
    "tags": []
   },
   "outputs": [
    {
     "name": "stdout",
     "output_type": "stream",
     "text": [
      "507/507 [==============================] - 8s 15ms/step - loss: 1.1665 - top_1: 0.7861\n"
     ]
    },
    {
     "data": {
      "text/plain": [
       "[1.166501522064209, 0.7861452102661133]"
      ]
     },
     "execution_count": 28,
     "metadata": {},
     "output_type": "execute_result"
    }
   ],
   "source": [
    "transformer.evaluate(validation_dataset)"
   ]
  },
  {
   "cell_type": "code",
   "execution_count": 29,
   "id": "850d28d3-69f2-40c2-a6e7-dfd4cc2810d8",
   "metadata": {},
   "outputs": [],
   "source": [
    "transformer.save_weights(\"transformer_v5.h5\")"
   ]
  },
  {
   "cell_type": "markdown",
   "id": "68061c20-3960-4bf5-a7f2-3466c7c4f39b",
   "metadata": {},
   "source": [
    "# Convert to TF Model Lite"
   ]
  },
  {
   "cell_type": "code",
   "execution_count": 69,
   "id": "fd738f9c-6779-46bd-bc12-9541efcdbcc6",
   "metadata": {
    "tags": []
   },
   "outputs": [],
   "source": [
    "transformer2 = Transformer(\n",
    "    num_layers=num_layers,\n",
    "    d_model=d_model,\n",
    "    num_heads=num_heads,\n",
    "    dff=dff,\n",
    "    num_classes=NUM_CLASSES,\n",
    "    dropout_rate=dropout_rate).make(input_shape=[32, 135, 2], name=\"outputs\")\n",
    "transformer2.compile(\n",
    "    loss=\"categorical_crossentropy\",\n",
    "    optimizer=optimizer,\n",
    "    metrics=[tf.keras.metrics.TopKCategoricalAccuracy(k=1, name='top_1', dtype=tf.float32)])"
   ]
  },
  {
   "cell_type": "code",
   "execution_count": 70,
   "id": "d433aa9a-5944-4dfa-a2f9-41ea06365db3",
   "metadata": {
    "tags": []
   },
   "outputs": [],
   "source": [
    "transformer2.load_weights(\"transformer_v5.h5\")"
   ]
  },
  {
   "cell_type": "code",
   "execution_count": 71,
   "id": "2a5d2339-550a-4444-882c-277530a579e8",
   "metadata": {
    "tags": []
   },
   "outputs": [
    {
     "name": "stdout",
     "output_type": "stream",
     "text": [
      "507/507 [==============================] - 9s 15ms/step - loss: 1.1665 - top_1: 0.7861\n"
     ]
    },
    {
     "data": {
      "text/plain": [
       "[1.166501522064209, 0.7861452102661133]"
      ]
     },
     "execution_count": 71,
     "metadata": {},
     "output_type": "execute_result"
    }
   ],
   "source": [
    "transformer2.evaluate(validation_dataset)"
   ]
  },
  {
   "cell_type": "code",
   "execution_count": 77,
   "id": "4fce89e1-5efc-45c1-a235-571349b86564",
   "metadata": {
    "tags": []
   },
   "outputs": [],
   "source": [
    "import tensorflow as tf\n",
    "from tensorflow.keras.metrics import TopKCategoricalAccuracy\n",
    "from tensorflow.keras import Input\n",
    "from tensorflow.keras.models import Model\n",
    "\n",
    "from preprocessing import ResizeIfMoreThan, PadIfLessThan, OneItemBatch, FillNaNValues, RemoveZ, OneItemUnbatch, AddRoot, SortColumns\n",
    "from tensorflow.keras.layers import Reshape\n",
    "from skeleton_graph import tssi_v2\n",
    "from loss import select_loss\n",
    "\n",
    "NUM_CLASSES = 250\n",
    "TSSI_ORDER = tssi_v2()[1]\n",
    "\n",
    "preprocessing_pipeline = tf.keras.Sequential([\n",
    "    OneItemBatch(),\n",
    "    RemoveZ(),\n",
    "    FillNaNValues(),\n",
    "    AddRoot(),\n",
    "    SortColumns(tssi_order=TSSI_ORDER),\n",
    "    ResizeIfMoreThan(frames=32),\n",
    "    PadIfLessThan(frames=32),\n",
    "    Reshape((32, 135, 2))\n",
    "])\n",
    "\n",
    "def build_mobile_model(input_shape=[543, 3],\n",
    "                       optimizer=None,\n",
    "                       use_loss=\"crossentropy\"):\n",
    "    # ORIGINAL INPUT SHAPE = [frames, 543, 3]\n",
    "    inputs = Input(shape=input_shape, name=\"inputs\")\n",
    "\n",
    "    # PREPROCESSING\n",
    "    x = preprocessing_pipeline(inputs)\n",
    "\n",
    "    # SET CORRECT INPUT SHAPE\n",
    "    # backbone = Transformer(\n",
    "    #     num_layers=num_layers,\n",
    "    #     d_model=d_model,\n",
    "    #     num_heads=num_heads,\n",
    "    #     dff=dff,\n",
    "    #     num_classes=NUM_CLASSES,\n",
    "    #     dropout_rate=dropout_rate).make(input_shape=[32, 135, 2], name=\"outputs\")\n",
    "    predictions = transformer2(x)\n",
    "\n",
    "    # REORDER PREDICTIONS\n",
    "    # predictions = ReorderLayer(class_idxs, name=\"outputs\")(predictions)\n",
    "\n",
    "    model = Model(inputs=inputs, outputs=predictions)\n",
    "\n",
    "    # setup the metrics\n",
    "    metrics = [\n",
    "        TopKCategoricalAccuracy(k=1, name='top_1', dtype=tf.float32)\n",
    "    ]\n",
    "\n",
    "    # setup the loss\n",
    "    loss = select_loss(use_loss)\n",
    "\n",
    "    # compile the model\n",
    "    model.compile(optimizer=optimizer, loss=loss, metrics=metrics)\n",
    "\n",
    "    # LOAD WEIGHTS\n",
    "    # model.load_weights(\"transformer_v5.h5\")\n",
    "\n",
    "    return model"
   ]
  },
  {
   "cell_type": "code",
   "execution_count": 78,
   "id": "ce06a9af-967c-4488-97d4-2669c8fcafe1",
   "metadata": {
    "tags": []
   },
   "outputs": [],
   "source": [
    "mobile_model = build_mobile_model(optimizer=optimizer)"
   ]
  },
  {
   "cell_type": "code",
   "execution_count": 79,
   "id": "97fe1a2a-1354-490f-9f44-3588ddbce151",
   "metadata": {
    "tags": []
   },
   "outputs": [
    {
     "name": "stdout",
     "output_type": "stream",
     "text": [
      "Model: \"model_6\"\n",
      "_________________________________________________________________\n",
      " Layer (type)                Output Shape              Param #   \n",
      "=================================================================\n",
      " inputs (InputLayer)         [(None, 543, 3)]          0         \n",
      "                                                                 \n",
      " sequential_30 (Sequential)  (1, 32, 135, 2)           0         \n",
      "                                                                 \n",
      " outputs (Functional)        (None, 250)               4021456   \n",
      "                                                                 \n",
      "=================================================================\n",
      "Total params: 4,021,456\n",
      "Trainable params: 4,021,006\n",
      "Non-trainable params: 450\n",
      "_________________________________________________________________\n"
     ]
    }
   ],
   "source": [
    "mobile_model.summary()"
   ]
  },
  {
   "cell_type": "code",
   "execution_count": 80,
   "id": "56b0fabd-ac6c-4a96-9d29-cbceeeb0f10a",
   "metadata": {
    "tags": []
   },
   "outputs": [
    {
     "name": "stdout",
     "output_type": "stream",
     "text": [
      "4/4 [==============================] - 1s 5ms/step\n",
      "4/4 [==============================] - 0s 4ms/step\n",
      "4/4 [==============================] - 0s 5ms/step\n",
      "4/4 [==============================] - 0s 4ms/step\n",
      "4/4 [==============================] - 0s 4ms/step\n",
      "4/4 [==============================] - 0s 4ms/step\n",
      "4/4 [==============================] - 0s 5ms/step\n",
      "4/4 [==============================] - 0s 4ms/step\n",
      "75.6 ms ± 4.52 ms per loop (mean ± std. dev. of 7 runs, 1 loop each)\n"
     ]
    }
   ],
   "source": [
    "%timeit mobile_model.predict(tf.zeros([100, 543, 3]))"
   ]
  },
  {
   "cell_type": "code",
   "execution_count": 81,
   "id": "d81523ff-7422-4735-a675-6b313468b660",
   "metadata": {
    "tags": []
   },
   "outputs": [
    {
     "name": "stdout",
     "output_type": "stream",
     "text": [
      "WARNING:tensorflow:Skipping full serialization of Keras layer <keras.layers.reshaping.zero_padding2d.ZeroPadding2D object at 0x7ff69808b9a0>, because it is not built.\n"
     ]
    },
    {
     "name": "stderr",
     "output_type": "stream",
     "text": [
      "WARNING:tensorflow:Skipping full serialization of Keras layer <keras.layers.reshaping.zero_padding2d.ZeroPadding2D object at 0x7ff69808b9a0>, because it is not built.\n"
     ]
    },
    {
     "name": "stdout",
     "output_type": "stream",
     "text": [
      "WARNING:tensorflow:Skipping full serialization of Keras layer <keras.layers.reshaping.zero_padding2d.ZeroPadding2D object at 0x7ff6b83dfb50>, because it is not built.\n"
     ]
    },
    {
     "name": "stderr",
     "output_type": "stream",
     "text": [
      "WARNING:tensorflow:Skipping full serialization of Keras layer <keras.layers.reshaping.zero_padding2d.ZeroPadding2D object at 0x7ff6b83dfb50>, because it is not built.\n"
     ]
    },
    {
     "name": "stdout",
     "output_type": "stream",
     "text": [
      "WARNING:tensorflow:Skipping full serialization of Keras layer <keras.layers.pooling.average_pooling2d.AveragePooling2D object at 0x7ff6b83df730>, because it is not built.\n"
     ]
    },
    {
     "name": "stderr",
     "output_type": "stream",
     "text": [
      "WARNING:tensorflow:Skipping full serialization of Keras layer <keras.layers.pooling.average_pooling2d.AveragePooling2D object at 0x7ff6b83df730>, because it is not built.\n"
     ]
    },
    {
     "name": "stdout",
     "output_type": "stream",
     "text": [
      "WARNING:tensorflow:Skipping full serialization of Keras layer <keras.layers.pooling.average_pooling2d.AveragePooling2D object at 0x7ff63c0798e0>, because it is not built.\n"
     ]
    },
    {
     "name": "stderr",
     "output_type": "stream",
     "text": [
      "WARNING:tensorflow:Skipping full serialization of Keras layer <keras.layers.pooling.average_pooling2d.AveragePooling2D object at 0x7ff63c0798e0>, because it is not built.\n",
      "WARNING:absl:Found untraced functions such as conv1/conv_layer_call_fn, conv1/conv_layer_call_and_return_conditional_losses, _jit_compiled_convolution_op, conv1/relu_layer_call_fn, conv1/relu_layer_call_and_return_conditional_losses while saving (showing 5 of 136). These functions will not be directly callable after loading.\n"
     ]
    },
    {
     "name": "stdout",
     "output_type": "stream",
     "text": [
      "INFO:tensorflow:Assets written to: /tmp/tmpwegzs4vf/assets\n"
     ]
    },
    {
     "name": "stderr",
     "output_type": "stream",
     "text": [
      "INFO:tensorflow:Assets written to: /tmp/tmpwegzs4vf/assets\n",
      "2023-04-18 05:32:26.176837: W tensorflow/compiler/mlir/lite/python/tf_tfl_flatbuffer_helpers.cc:362] Ignored output_format.\n",
      "2023-04-18 05:32:26.176902: W tensorflow/compiler/mlir/lite/python/tf_tfl_flatbuffer_helpers.cc:365] Ignored drop_control_dependency.\n",
      "2023-04-18 05:32:26.177108: I tensorflow/cc/saved_model/reader.cc:45] Reading SavedModel from: /tmp/tmpwegzs4vf\n",
      "2023-04-18 05:32:26.212318: I tensorflow/cc/saved_model/reader.cc:89] Reading meta graph with tags { serve }\n",
      "2023-04-18 05:32:26.212355: I tensorflow/cc/saved_model/reader.cc:130] Reading SavedModel debug info (if present) from: /tmp/tmpwegzs4vf\n",
      "2023-04-18 05:32:26.312979: I tensorflow/cc/saved_model/loader.cc:229] Restoring SavedModel bundle.\n",
      "2023-04-18 05:32:26.548631: I tensorflow/cc/saved_model/loader.cc:213] Running initialization op on SavedModel bundle at path: /tmp/tmpwegzs4vf\n",
      "2023-04-18 05:32:26.646705: I tensorflow/cc/saved_model/loader.cc:305] SavedModel load for tags { serve }; Status: success: OK. Took 469597 microseconds.\n"
     ]
    }
   ],
   "source": [
    "# Convert the model\n",
    "converter = tf.lite.TFLiteConverter.from_keras_model(mobile_model)\n",
    "tflite_model = converter.convert()\n",
    "\n",
    "# Save the model.\n",
    "with open('tflite/model.tflite', 'wb') as f:\n",
    "    f.write(tflite_model)"
   ]
  },
  {
   "cell_type": "code",
   "execution_count": 82,
   "id": "ea215cc2-0343-48a7-9bbd-1a9df63d0698",
   "metadata": {
    "tags": []
   },
   "outputs": [
    {
     "name": "stdout",
     "output_type": "stream",
     "text": [
      "211\n"
     ]
    }
   ],
   "source": [
    "import numpy as np\n",
    "import tflite_runtime.interpreter as tflite\n",
    "interpreter = tflite.Interpreter(\"tflite/model.tflite\")\n",
    "\n",
    "found_signatures = list(interpreter.get_signature_list().keys())\n",
    "\n",
    "prediction_fn = interpreter.get_signature_runner(\"serving_default\")\n",
    "output = prediction_fn(inputs=tf.zeros([100, 543, 3]))\n",
    "sign = np.argmax(output[\"outputs\"])\n",
    "print(sign)"
   ]
  },
  {
   "cell_type": "code",
   "execution_count": 83,
   "id": "00d7c530-d540-4ed1-9e65-e44a6319b553",
   "metadata": {
    "tags": []
   },
   "outputs": [
    {
     "name": "stdout",
     "output_type": "stream",
     "text": [
      "24.4 ms ± 650 µs per loop (mean ± std. dev. of 7 runs, 10 loops each)\n"
     ]
    }
   ],
   "source": [
    "%timeit prediction_fn(inputs=tf.zeros([100, 543, 3]))"
   ]
  },
  {
   "cell_type": "code",
   "execution_count": null,
   "id": "5eeedce2-37e5-4579-a58b-9d333d4ff47f",
   "metadata": {},
   "outputs": [],
   "source": []
  }
 ],
 "metadata": {
  "kernelspec": {
   "display_name": "Python 3 (ipykernel)",
   "language": "python",
   "name": "python3"
  },
  "language_info": {
   "codemirror_mode": {
    "name": "ipython",
    "version": 3
   },
   "file_extension": ".py",
   "mimetype": "text/x-python",
   "name": "python",
   "nbconvert_exporter": "python",
   "pygments_lexer": "ipython3",
   "version": "3.8.10"
  }
 },
 "nbformat": 4,
 "nbformat_minor": 5
}
