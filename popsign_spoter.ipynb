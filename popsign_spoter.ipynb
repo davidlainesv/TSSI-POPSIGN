{
 "cells": [
  {
   "cell_type": "code",
   "execution_count": 1,
   "id": "dbbf677f-3fb1-42ed-84c9-9974099b4037",
   "metadata": {},
   "outputs": [
    {
     "name": "stdout",
     "output_type": "stream",
     "text": [
      "env: CUDA_VISIBLE_DEVICES=1\n"
     ]
    }
   ],
   "source": [
    "%env CUDA_VISIBLE_DEVICES=1\n",
    "# import os\n",
    "# os.environ[\"CUDA_DEVICE_ORDER\"]=\"PCI_BUS_ID\"   # see issue #152\n",
    "# os.environ[\"CUDA_VISIBLE_DEVICES\"]=\"1\""
   ]
  },
  {
   "cell_type": "code",
   "execution_count": 2,
   "id": "84e249e5-aff5-4fcd-916e-7e1955c716e7",
   "metadata": {},
   "outputs": [
    {
     "name": "stderr",
     "output_type": "stream",
     "text": [
      "2023-04-17 01:57:35.480377: I tensorflow/core/platform/cpu_feature_guard.cc:182] This TensorFlow binary is optimized to use available CPU instructions in performance-critical operations.\n",
      "To enable the following instructions: AVX2 FMA, in other operations, rebuild TensorFlow with the appropriate compiler flags.\n"
     ]
    },
    {
     "name": "stdout",
     "output_type": "stream",
     "text": [
      "Num GPUs Available:  1\n"
     ]
    }
   ],
   "source": [
    "import tensorflow as tf\n",
    "print(\"Num GPUs Available: \", len(tf.config.list_physical_devices('GPU')))"
   ]
  },
  {
   "cell_type": "code",
   "execution_count": 3,
   "id": "950d89df-5ee6-4132-a155-5ef10b429e97",
   "metadata": {
    "tags": []
   },
   "outputs": [],
   "source": [
    "import logging\n",
    "import time\n",
    "\n",
    "import numpy as np\n",
    "import matplotlib.pyplot as plt\n",
    "\n",
    "import tensorflow_datasets as tfds\n",
    "import tensorflow as tf\n",
    "\n",
    "import tensorflow_text\n",
    "\n",
    "from config import NUM_CLASSES"
   ]
  },
  {
   "cell_type": "code",
   "execution_count": 4,
   "id": "1137e3de-d9f3-42ec-9e26-0dbfe62dd7aa",
   "metadata": {
    "tags": []
   },
   "outputs": [
    {
     "name": "stderr",
     "output_type": "stream",
     "text": [
      "2023-04-17 01:57:39.981501: I tensorflow/core/common_runtime/gpu/gpu_device.cc:1635] Created device /job:localhost/replica:0/task:0/device:GPU:0 with 15363 MB memory:  -> device: 0, name: NVIDIA Tesla P100-SXM2-16GB, pci bus id: 0000:07:00.0, compute capability: 6.0\n"
     ]
    }
   ],
   "source": [
    "from dataset import Dataset\n",
    "\n",
    "dataset = Dataset()"
   ]
  },
  {
   "cell_type": "code",
   "execution_count": 5,
   "id": "a87e357e-cd15-4eab-b401-ad04e2a2ec35",
   "metadata": {
    "tags": []
   },
   "outputs": [
    {
     "name": "stderr",
     "output_type": "stream",
     "text": [
      "2023-04-17 01:57:40.642652: I tensorflow/core/common_runtime/executor.cc:1197] [/device:CPU:0] (DEBUG INFO) Executor start aborting (this does not indicate an error and you can ignore this message): INVALID_ARGUMENT: You must feed a value for placeholder tensor 'Placeholder' with dtype float and shape [1,?,?,2]\n",
      "\t [[{{node Placeholder}}]]\n",
      "2023-04-17 01:57:40.654698: I tensorflow/core/common_runtime/executor.cc:1197] [/device:CPU:0] (DEBUG INFO) Executor start aborting (this does not indicate an error and you can ignore this message): INVALID_ARGUMENT: You must feed a value for placeholder tensor 'args_0' with dtype float and shape [?,135,2]\n",
      "\t [[{{node args_0}}]]\n",
      "2023-04-17 01:57:40.817090: I tensorflow/core/common_runtime/executor.cc:1197] [/device:CPU:0] (DEBUG INFO) Executor start aborting (this does not indicate an error and you can ignore this message): INVALID_ARGUMENT: You must feed a value for placeholder tensor 'Placeholder' with dtype float and shape [?,?,?,2]\n",
      "\t [[{{node Placeholder}}]]\n",
      "2023-04-17 01:57:40.826960: I tensorflow/core/common_runtime/executor.cc:1197] [/device:CPU:0] (DEBUG INFO) Executor start aborting (this does not indicate an error and you can ignore this message): INVALID_ARGUMENT: You must feed a value for placeholder tensor 'args_0' with dtype float and shape [?,?,135,2]\n",
      "\t [[{{node args_0}}]]\n"
     ]
    }
   ],
   "source": [
    "def reshape_dataset(x, y):\n",
    "    x = tf.keras.layers.Reshape([32, -1])(x)\n",
    "    # y_new = tf.keras.layers.Reshape([1, -1])(y)\n",
    "    # return (x, y_new), y\n",
    "    return x, y\n",
    "\n",
    "train_dataset = dataset.get_training_set(\n",
    "    batch_size=64,\n",
    "    buffer_size=dataset.num_train_examples,\n",
    "    repeat=False,\n",
    "    deterministic=True,\n",
    "    augmentation=False,\n",
    "    pipeline=\"default\")\n",
    "train_dataset = train_dataset.map(reshape_dataset)\n",
    "\n",
    "validation_dataset = dataset.get_validation_set(\n",
    "    batch_size=64,\n",
    "    pipeline=\"default\")\n",
    "validation_dataset = validation_dataset.map(reshape_dataset)"
   ]
  },
  {
   "cell_type": "code",
   "execution_count": 6,
   "id": "0ca366b9-064a-446f-a0b6-52c41f51d4ae",
   "metadata": {
    "tags": []
   },
   "outputs": [
    {
     "name": "stderr",
     "output_type": "stream",
     "text": [
      "2023-04-17 01:57:40.860704: I tensorflow/core/common_runtime/executor.cc:1197] [/device:CPU:0] (DEBUG INFO) Executor start aborting (this does not indicate an error and you can ignore this message): INVALID_ARGUMENT: You must feed a value for placeholder tensor 'Placeholder/_3' with dtype int64 and shape [32]\n",
      "\t [[{{node Placeholder/_3}}]]\n",
      "2023-04-17 01:57:40.861483: I tensorflow/core/common_runtime/executor.cc:1197] [/device:CPU:0] (DEBUG INFO) Executor start aborting (this does not indicate an error and you can ignore this message): INVALID_ARGUMENT: You must feed a value for placeholder tensor 'Placeholder/_4' with dtype int64 and shape [32]\n",
      "\t [[{{node Placeholder/_4}}]]\n"
     ]
    },
    {
     "name": "stdout",
     "output_type": "stream",
     "text": [
      "(64, 32, 270)\n",
      "(64, 1, 250)\n",
      "(64, 250)\n"
     ]
    }
   ],
   "source": [
    "for examples, en_labels in train_dataset.take(1):\n",
    "    pt = examples\n",
    "    en = tf.keras.layers.Reshape([1, -1])(en_labels)\n",
    "    break\n",
    "\n",
    "print(pt.shape)\n",
    "print(en.shape)\n",
    "print(en_labels.shape)"
   ]
  },
  {
   "cell_type": "code",
   "execution_count": 7,
   "id": "00250134-1d5a-4d09-ad0a-bc565b5f09f7",
   "metadata": {
    "tags": []
   },
   "outputs": [],
   "source": [
    "def positional_encoding(length, depth):\n",
    "    depth = depth/2\n",
    "\n",
    "    positions = np.arange(length)[:, np.newaxis]     # (seq, 1)\n",
    "    depths = np.arange(depth)[np.newaxis, :]/depth   # (1, depth)\n",
    "\n",
    "    angle_rates = 1 / (10000**depths)         # (1, depth)\n",
    "    angle_rads = positions * angle_rates      # (pos, depth)\n",
    "\n",
    "    pos_encoding = np.concatenate(\n",
    "      [np.sin(angle_rads), np.cos(angle_rads)],\n",
    "      axis=-1) \n",
    "\n",
    "    return tf.cast(pos_encoding, dtype=tf.float32)"
   ]
  },
  {
   "cell_type": "code",
   "execution_count": 8,
   "id": "b6051d18-ccb0-4235-a9dc-ab6395ca4edf",
   "metadata": {
    "tags": []
   },
   "outputs": [],
   "source": [
    "class PositionalEmbedding(tf.keras.layers.Layer):\n",
    "    def __init__(self, d_model):\n",
    "        super().__init__()\n",
    "        self.d_model = d_model\n",
    "        # self.embedding = tf.keras.layers.Embedding(vocab_size, d_model, mask_zero=True) \n",
    "        self.pos_encoding = positional_encoding(length=2048, depth=d_model)\n",
    "\n",
    "    # def compute_mask(self, *args, **kwargs):\n",
    "    #     return self.embedding.compute_mask(*args, **kwargs)\n",
    "\n",
    "    def call(self, x):\n",
    "        length = tf.shape(x)[1]\n",
    "        # x = self.embedding(x)\n",
    "        # This factor sets the relative scale of the embedding and positonal_encoding.\n",
    "        x *= tf.math.sqrt(tf.cast(self.d_model, tf.float32))\n",
    "        x = x + self.pos_encoding[tf.newaxis, :length, :]\n",
    "        return x"
   ]
  },
  {
   "cell_type": "code",
   "execution_count": 9,
   "id": "ab5103c2-c2e3-4504-86e3-7ab26ed14b55",
   "metadata": {
    "tags": []
   },
   "outputs": [
    {
     "data": {
      "text/plain": [
       "(TensorShape([64, 32, 270]), TensorShape([64, 1, 250]))"
      ]
     },
     "execution_count": 9,
     "metadata": {},
     "output_type": "execute_result"
    }
   ],
   "source": [
    "embed_in = PositionalEmbedding(d_model=270)\n",
    "embed_out = PositionalEmbedding(d_model=NUM_CLASSES)\n",
    "\n",
    "pt_emb = embed_in(pt)\n",
    "en_emb = embed_out(en)\n",
    "\n",
    "pt_emb.shape, en_emb.shape"
   ]
  },
  {
   "cell_type": "code",
   "execution_count": 10,
   "id": "8907747c-991c-4b26-9765-8d4afb60a1aa",
   "metadata": {
    "tags": []
   },
   "outputs": [],
   "source": [
    "class BaseAttention(tf.keras.layers.Layer):\n",
    "    def __init__(self, **kwargs):\n",
    "        super().__init__()\n",
    "        self.mha = tf.keras.layers.MultiHeadAttention(**kwargs)\n",
    "        self.layernorm = tf.keras.layers.LayerNormalization()\n",
    "        self.add = tf.keras.layers.Add()"
   ]
  },
  {
   "cell_type": "code",
   "execution_count": 11,
   "id": "5f137018-1b65-44c9-a524-b3dc6f66e259",
   "metadata": {
    "tags": []
   },
   "outputs": [],
   "source": [
    "class CrossAttention(BaseAttention):\n",
    "    def call(self, x, context):\n",
    "        attn_output, attn_scores = self.mha(\n",
    "            query=x,\n",
    "            key=context,\n",
    "            value=context,\n",
    "            return_attention_scores=True)\n",
    "\n",
    "        # Cache the attention scores for plotting later.\n",
    "        self.last_attn_scores = attn_scores\n",
    "\n",
    "        x = self.add([x, attn_output])\n",
    "        x = self.layernorm(x)\n",
    "\n",
    "        return x"
   ]
  },
  {
   "cell_type": "code",
   "execution_count": 12,
   "id": "61fb7dd2-c9bd-46cb-a203-dfe5775a2c55",
   "metadata": {
    "tags": []
   },
   "outputs": [
    {
     "name": "stdout",
     "output_type": "stream",
     "text": [
      "(64, 32, 270)\n",
      "(64, 1, 250)\n",
      "(64, 1, 250)\n"
     ]
    },
    {
     "name": "stderr",
     "output_type": "stream",
     "text": [
      "2023-04-17 01:57:44.270569: I tensorflow/compiler/xla/stream_executor/cuda/cuda_dnn.cc:424] Loaded cuDNN version 8700\n"
     ]
    }
   ],
   "source": [
    "sample_ca = CrossAttention(num_heads=2, key_dim=270)\n",
    "\n",
    "print(pt_emb.shape)\n",
    "print(en_emb.shape)\n",
    "print(sample_ca(en_emb, pt_emb).shape)"
   ]
  },
  {
   "cell_type": "code",
   "execution_count": 13,
   "id": "a7145966-a2f9-4417-8058-31ea5fad2592",
   "metadata": {
    "tags": []
   },
   "outputs": [],
   "source": [
    "class GlobalSelfAttention(BaseAttention):\n",
    "    def call(self, x):\n",
    "        attn_output = self.mha(\n",
    "            query=x,\n",
    "            value=x,\n",
    "            key=x)\n",
    "        x = self.add([x, attn_output])\n",
    "        x = self.layernorm(x)\n",
    "        return x"
   ]
  },
  {
   "cell_type": "code",
   "execution_count": 14,
   "id": "2de3a342-3c43-4fc8-a200-05b11e39f035",
   "metadata": {
    "tags": []
   },
   "outputs": [
    {
     "name": "stdout",
     "output_type": "stream",
     "text": [
      "(64, 32, 270)\n",
      "(64, 32, 270)\n"
     ]
    }
   ],
   "source": [
    "sample_gsa = GlobalSelfAttention(num_heads=2, key_dim=270)\n",
    "\n",
    "print(pt_emb.shape)\n",
    "print(sample_gsa(pt_emb).shape)"
   ]
  },
  {
   "cell_type": "code",
   "execution_count": 15,
   "id": "eca94936-5fb0-4f04-846f-cd5255c99b27",
   "metadata": {
    "tags": []
   },
   "outputs": [],
   "source": [
    "class CausalSelfAttention(BaseAttention):\n",
    "    def call(self, x):\n",
    "        # attn_output = self.mha(\n",
    "        #     query=x,\n",
    "        #     value=x,\n",
    "        #     key=x,\n",
    "        #     use_causal_mask = True)\n",
    "        # x = self.add([x, attn_output])\n",
    "        x = self.layernorm(x)\n",
    "        return x"
   ]
  },
  {
   "cell_type": "code",
   "execution_count": 16,
   "id": "fc1b952f-97f7-4fd2-869d-1a20e87754da",
   "metadata": {
    "tags": []
   },
   "outputs": [
    {
     "name": "stdout",
     "output_type": "stream",
     "text": [
      "(64, 1, 250)\n",
      "(64, 1, 250)\n"
     ]
    }
   ],
   "source": [
    "sample_csa = CausalSelfAttention(num_heads=2, key_dim=270)\n",
    "\n",
    "print(en_emb.shape)\n",
    "print(sample_csa(en_emb).shape)"
   ]
  },
  {
   "cell_type": "code",
   "execution_count": 17,
   "id": "3ec4ee9a-6d87-460c-8a86-208b20250faf",
   "metadata": {
    "tags": []
   },
   "outputs": [
    {
     "data": {
      "text/plain": [
       "0.0"
      ]
     },
     "execution_count": 17,
     "metadata": {},
     "output_type": "execute_result"
    }
   ],
   "source": [
    "out1 = sample_csa(embed_out(en[:, :3])) \n",
    "out2 = sample_csa(embed_out(en))[:, :3]\n",
    "\n",
    "tf.reduce_max(abs(out1 - out2)).numpy()"
   ]
  },
  {
   "cell_type": "code",
   "execution_count": 18,
   "id": "a1308852-eeb3-45f5-8569-977a0c970604",
   "metadata": {
    "tags": []
   },
   "outputs": [],
   "source": [
    "class FeedForward(tf.keras.layers.Layer):\n",
    "    def __init__(self, d_model, dff, dropout_rate=0.1):\n",
    "        super().__init__()\n",
    "        self.seq = tf.keras.Sequential([\n",
    "          tf.keras.layers.Dense(dff, activation='relu'),\n",
    "          tf.keras.layers.Dense(d_model),\n",
    "          tf.keras.layers.Dropout(dropout_rate)\n",
    "        ])\n",
    "        self.add = tf.keras.layers.Add()\n",
    "        self.layer_norm = tf.keras.layers.LayerNormalization()\n",
    "\n",
    "    def call(self, x):\n",
    "        x = self.add([x, self.seq(x)])\n",
    "        x = self.layer_norm(x) \n",
    "        return x"
   ]
  },
  {
   "cell_type": "code",
   "execution_count": 19,
   "id": "7e3e021d-3774-4b34-809d-ef01187c23b9",
   "metadata": {
    "tags": []
   },
   "outputs": [
    {
     "name": "stdout",
     "output_type": "stream",
     "text": [
      "(64, 1, 250)\n",
      "(64, 1, 250)\n"
     ]
    }
   ],
   "source": [
    "sample_ffn = FeedForward(NUM_CLASSES, 2048)\n",
    "\n",
    "print(en_emb.shape)\n",
    "print(sample_ffn(en_emb).shape)"
   ]
  },
  {
   "cell_type": "code",
   "execution_count": 20,
   "id": "04451a40-1ab1-4e67-b006-0ee15c1bdffa",
   "metadata": {
    "tags": []
   },
   "outputs": [],
   "source": [
    "class EncoderLayer(tf.keras.layers.Layer):\n",
    "  def __init__(self,*, d_model, num_heads, dff, dropout_rate=0.1):\n",
    "    super().__init__()\n",
    "\n",
    "    self.self_attention = GlobalSelfAttention(\n",
    "        num_heads=num_heads,\n",
    "        key_dim=d_model,\n",
    "        dropout=dropout_rate)\n",
    "\n",
    "    self.ffn = FeedForward(d_model, dff)\n",
    "\n",
    "  def call(self, x):\n",
    "    x = self.self_attention(x)\n",
    "    x = self.ffn(x)\n",
    "    return x"
   ]
  },
  {
   "cell_type": "code",
   "execution_count": 21,
   "id": "f16f748b-7ff9-4d45-a13c-00606436ce78",
   "metadata": {
    "tags": []
   },
   "outputs": [
    {
     "name": "stdout",
     "output_type": "stream",
     "text": [
      "(64, 32, 270)\n",
      "(64, 32, 270)\n"
     ]
    }
   ],
   "source": [
    "sample_encoder_layer = EncoderLayer(d_model=270, num_heads=8, dff=2048)\n",
    "\n",
    "print(pt_emb.shape)\n",
    "print(sample_encoder_layer(pt_emb).shape)"
   ]
  },
  {
   "cell_type": "code",
   "execution_count": 22,
   "id": "4d2e497f-7663-4cbd-861f-f6d0a3a67c3d",
   "metadata": {
    "tags": []
   },
   "outputs": [],
   "source": [
    "class Encoder(tf.keras.layers.Layer):\n",
    "  def __init__(self, *, num_layers, d_model, num_heads,\n",
    "               dff, dropout_rate=0.1):\n",
    "    super().__init__()\n",
    "\n",
    "    self.d_model = d_model\n",
    "    self.num_layers = num_layers\n",
    "\n",
    "    self.pos_embedding = PositionalEmbedding(d_model=d_model)\n",
    "\n",
    "    self.enc_layers = [\n",
    "        EncoderLayer(d_model=d_model,\n",
    "                     num_heads=num_heads,\n",
    "                     dff=dff,\n",
    "                     dropout_rate=dropout_rate)\n",
    "        for _ in range(num_layers)]\n",
    "    self.dropout = tf.keras.layers.Dropout(dropout_rate)\n",
    "\n",
    "  def call(self, x):\n",
    "    # `x` is token-IDs shape: (batch, seq_len)\n",
    "    x = self.pos_embedding(x)  # Shape `(batch_size, seq_len, d_model)`.\n",
    "\n",
    "    # Add dropout.\n",
    "    x = self.dropout(x)\n",
    "\n",
    "    for i in range(self.num_layers):\n",
    "      x = self.enc_layers[i](x)\n",
    "\n",
    "    return x  # Shape `(batch_size, seq_len, d_model)`."
   ]
  },
  {
   "cell_type": "code",
   "execution_count": 23,
   "id": "65eb9549-9fdc-494c-a915-a4a5635a69e2",
   "metadata": {
    "tags": []
   },
   "outputs": [
    {
     "name": "stdout",
     "output_type": "stream",
     "text": [
      "(64, 32, 270)\n",
      "(64, 32, 270)\n"
     ]
    }
   ],
   "source": [
    "# Instantiate the encoder.\n",
    "sample_encoder = Encoder(num_layers=4,\n",
    "                         d_model=270,\n",
    "                         num_heads=8,\n",
    "                         dff=2048)\n",
    "\n",
    "sample_encoder_output = sample_encoder(pt, training=False)\n",
    "\n",
    "# Print the shape.\n",
    "print(pt.shape)\n",
    "print(sample_encoder_output.shape)  # Shape `(batch_size, input_seq_len, d_model)`."
   ]
  },
  {
   "cell_type": "code",
   "execution_count": 24,
   "id": "fb173b5b-baa6-471b-81b6-031c4526bbd8",
   "metadata": {
    "tags": []
   },
   "outputs": [],
   "source": [
    "class DecoderLayer(tf.keras.layers.Layer):\n",
    "  def __init__(self,\n",
    "               *,\n",
    "               d_model,\n",
    "               num_heads,\n",
    "               dff,\n",
    "               dropout_rate=0.1):\n",
    "    super(DecoderLayer, self).__init__()\n",
    "\n",
    "    self.causal_self_attention = CausalSelfAttention(\n",
    "        num_heads=num_heads,\n",
    "        key_dim=d_model,\n",
    "        dropout=dropout_rate)\n",
    "\n",
    "    self.cross_attention = CrossAttention(\n",
    "        num_heads=num_heads,\n",
    "        key_dim=d_model,\n",
    "        dropout=dropout_rate)\n",
    "\n",
    "    self.ffn = FeedForward(d_model, dff)\n",
    "\n",
    "  def call(self, x, context):\n",
    "    x = self.causal_self_attention(x=x)\n",
    "    x = self.cross_attention(x=x, context=context)\n",
    "\n",
    "    # Cache the last attention scores for plotting later\n",
    "    self.last_attn_scores = self.cross_attention.last_attn_scores\n",
    "\n",
    "    x = self.ffn(x)  # Shape `(batch_size, seq_len, d_model)`.\n",
    "    return x"
   ]
  },
  {
   "cell_type": "code",
   "execution_count": 25,
   "id": "4b4afdb8-3015-4a96-a86c-5b260485d847",
   "metadata": {
    "tags": []
   },
   "outputs": [
    {
     "name": "stdout",
     "output_type": "stream",
     "text": [
      "(64, 1, 250)\n",
      "(64, 32, 270)\n",
      "(64, 1, 250)\n"
     ]
    }
   ],
   "source": [
    "sample_decoder_layer = DecoderLayer(d_model=NUM_CLASSES, num_heads=8, dff=2048)\n",
    "\n",
    "sample_decoder_layer_output = sample_decoder_layer(\n",
    "    x=en_emb, context=pt_emb)\n",
    "\n",
    "print(en_emb.shape)\n",
    "print(pt_emb.shape)\n",
    "print(sample_decoder_layer_output.shape)  # `(batch_size, seq_len, d_model)`"
   ]
  },
  {
   "cell_type": "code",
   "execution_count": 26,
   "id": "d8083801-01e5-494f-be12-e0a2a8a7aab9",
   "metadata": {
    "tags": []
   },
   "outputs": [],
   "source": [
    "class Decoder(tf.keras.layers.Layer):\n",
    "  def __init__(self, *, num_layers, d_model, num_heads, dff,\n",
    "               dropout_rate=0.1):\n",
    "    super(Decoder, self).__init__()\n",
    "\n",
    "    self.d_model = d_model\n",
    "    self.num_layers = num_layers\n",
    "\n",
    "    self.pos_embedding = PositionalEmbedding(d_model=d_model)\n",
    "    self.dropout = tf.keras.layers.Dropout(dropout_rate)\n",
    "    self.dec_layers = [\n",
    "        DecoderLayer(d_model=d_model, num_heads=num_heads,\n",
    "                     dff=dff, dropout_rate=dropout_rate)\n",
    "        for _ in range(num_layers)]\n",
    "\n",
    "    self.last_attn_scores = None\n",
    "\n",
    "  def call(self, x, context):\n",
    "    # `x` is token-IDs shape (batch, target_seq_len)\n",
    "    # x = self.pos_embedding(x)  # (batch_size, target_seq_len, d_model)\n",
    "\n",
    "    x = self.dropout(x)\n",
    "\n",
    "    for i in range(self.num_layers):\n",
    "      x  = self.dec_layers[i](x, context)\n",
    "\n",
    "    self.last_attn_scores = self.dec_layers[-1].last_attn_scores\n",
    "\n",
    "    # The shape of x is (batch_size, target_seq_len, d_model).\n",
    "    return x"
   ]
  },
  {
   "cell_type": "code",
   "execution_count": 27,
   "id": "ff204f2b-b70d-49b5-a0a5-bb5d4b714f42",
   "metadata": {
    "tags": []
   },
   "outputs": [
    {
     "name": "stdout",
     "output_type": "stream",
     "text": [
      "(64, 1, 250)\n",
      "(64, 32, 270)\n",
      "(64, 1, 250)\n"
     ]
    }
   ],
   "source": [
    "# Instantiate the decoder.\n",
    "sample_decoder = Decoder(num_layers=4,\n",
    "                         d_model=NUM_CLASSES,\n",
    "                         num_heads=8,\n",
    "                         dff=2048)\n",
    "\n",
    "output = sample_decoder(\n",
    "    x=en,\n",
    "    context=pt_emb)\n",
    "\n",
    "# Print the shapes.\n",
    "print(en.shape)\n",
    "print(pt_emb.shape)\n",
    "print(output.shape)"
   ]
  },
  {
   "cell_type": "code",
   "execution_count": 28,
   "id": "14ff5136-b663-4710-ab0d-30195ac5fb71",
   "metadata": {
    "tags": []
   },
   "outputs": [
    {
     "data": {
      "text/plain": [
       "TensorShape([64, 8, 1, 32])"
      ]
     },
     "execution_count": 28,
     "metadata": {},
     "output_type": "execute_result"
    }
   ],
   "source": [
    "sample_decoder.last_attn_scores.shape  # (batch, heads, target_seq, input_seq)"
   ]
  },
  {
   "cell_type": "code",
   "execution_count": 29,
   "id": "8d641f57-2b05-48d2-bcd2-52101d5eaecb",
   "metadata": {
    "tags": []
   },
   "outputs": [],
   "source": [
    "class Transformer(tf.keras.Model):\n",
    "  def __init__(self, *, num_layers, d_model, num_heads, dff, num_classes,\n",
    "               dropout_rate=0.1):\n",
    "    super().__init__()\n",
    "    self.encoder = Encoder(num_layers=num_layers, d_model=d_model,\n",
    "                           num_heads=num_heads, dff=dff,\n",
    "                           dropout_rate=dropout_rate)\n",
    "\n",
    "    self.decoder = Decoder(num_layers=num_layers, d_model=d_model,\n",
    "                           num_heads=num_heads, dff=dff,\n",
    "                           dropout_rate=dropout_rate)\n",
    "\n",
    "    self.final_layer = tf.keras.layers.Dense(num_classes, activation=\"softmax\")\n",
    "    self.class_query = tf.Variable(tf.random.uniform(shape=[1, d_model]))\n",
    "    # self.class_query_norm = tf.keras.layers.LayerNormalization()\n",
    "\n",
    "  def call(self, inputs):\n",
    "    # To use a Keras model with `.fit` you must pass all your inputs in the\n",
    "    # first argument.\n",
    "    # context, x  = inputs\n",
    "    context = inputs\n",
    "    \n",
    "    x = tf.expand_dims(tf.repeat(self.class_query, tf.shape(context)[0], axis=0), axis=1)\n",
    "\n",
    "    context = self.encoder(context)  # (batch_size, context_len, d_model)\n",
    "\n",
    "    x = self.decoder(x, context)  # (batch_size, target_len, d_model)\n",
    "\n",
    "    # Final linear layer output.\n",
    "    logits = self.final_layer(x)  # (batch_size, target_len, target_vocab_size)\n",
    "\n",
    "    try:\n",
    "      # Drop the keras mask, so it doesn't scale the losses/metrics.\n",
    "      # b/250038731\n",
    "      del logits._keras_mask\n",
    "    except AttributeError:\n",
    "      pass\n",
    "\n",
    "    # Return the final output and the attention weights.\n",
    "    return logits[:, 0, :]"
   ]
  },
  {
   "cell_type": "code",
   "execution_count": 30,
   "id": "3dc90fa1-3425-48bb-942c-1a5f175feae2",
   "metadata": {
    "tags": []
   },
   "outputs": [],
   "source": [
    "num_layers = 4\n",
    "d_model = 270\n",
    "dff = 2048\n",
    "num_heads = 6\n",
    "dropout_rate = 0.1"
   ]
  },
  {
   "cell_type": "code",
   "execution_count": 31,
   "id": "41e76598-400c-465b-87a3-6973dfbd70a8",
   "metadata": {
    "tags": []
   },
   "outputs": [],
   "source": [
    "tf.random.set_seed(0)\n",
    "\n",
    "transformer = Transformer(\n",
    "    num_layers=num_layers,\n",
    "    d_model=d_model,\n",
    "    num_heads=num_heads,\n",
    "    dff=dff,\n",
    "    num_classes=NUM_CLASSES,\n",
    "    dropout_rate=dropout_rate)"
   ]
  },
  {
   "cell_type": "code",
   "execution_count": 32,
   "id": "ab3b5c58-046e-4588-b757-db2827f6e5d4",
   "metadata": {
    "tags": []
   },
   "outputs": [
    {
     "name": "stdout",
     "output_type": "stream",
     "text": [
      "(64, 1, 250)\n",
      "(64, 32, 270)\n",
      "(64, 250)\n"
     ]
    }
   ],
   "source": [
    "# output = transformer((pt, en))\n",
    "output = transformer(pt)\n",
    "\n",
    "print(en.shape)\n",
    "print(pt.shape)\n",
    "print(output.shape)"
   ]
  },
  {
   "cell_type": "code",
   "execution_count": 33,
   "id": "c4cdf221-0f30-41db-8ce3-f447371ab294",
   "metadata": {
    "tags": []
   },
   "outputs": [
    {
     "name": "stdout",
     "output_type": "stream",
     "text": [
      "(64, 6, 1, 32)\n"
     ]
    }
   ],
   "source": [
    "attn_scores = transformer.decoder.dec_layers[-1].last_attn_scores\n",
    "print(attn_scores.shape)  # (batch, heads, target_seq, input_seq)"
   ]
  },
  {
   "cell_type": "code",
   "execution_count": 34,
   "id": "b85ec22d-75e8-4e35-8fb7-09d0cc553ba9",
   "metadata": {
    "tags": []
   },
   "outputs": [
    {
     "name": "stdout",
     "output_type": "stream",
     "text": [
      "Model: \"transformer\"\n",
      "_________________________________________________________________\n",
      " Layer (type)                Output Shape              Param #   \n",
      "=================================================================\n",
      " encoder_1 (Encoder)         multiple                  11456192  \n",
      "                                                                 \n",
      " decoder_1 (Decoder)         multiple                  11458352  \n",
      "                                                                 \n",
      " dense_38 (Dense)            multiple                  67750     \n",
      "                                                                 \n",
      "=================================================================\n",
      "Total params: 22,982,564\n",
      "Trainable params: 22,982,564\n",
      "Non-trainable params: 0\n",
      "_________________________________________________________________\n"
     ]
    }
   ],
   "source": [
    "transformer.summary()"
   ]
  },
  {
   "cell_type": "code",
   "execution_count": 35,
   "id": "2fd396f5-ce7a-459f-9799-b58c00b3d61d",
   "metadata": {
    "tags": []
   },
   "outputs": [],
   "source": [
    "class CustomSchedule(tf.keras.optimizers.schedules.LearningRateSchedule):\n",
    "  def __init__(self, d_model, warmup_steps=4000):\n",
    "    super().__init__()\n",
    "\n",
    "    self.d_model = d_model\n",
    "    self.d_model = tf.cast(self.d_model, tf.float32)\n",
    "\n",
    "    self.warmup_steps = warmup_steps\n",
    "\n",
    "  def __call__(self, step):\n",
    "    step = tf.cast(step, dtype=tf.float32)\n",
    "    arg1 = tf.math.rsqrt(step)\n",
    "    arg2 = step * (self.warmup_steps ** -1.5)\n",
    "\n",
    "    return tf.math.rsqrt(self.d_model) * tf.math.minimum(arg1, arg2)"
   ]
  },
  {
   "cell_type": "code",
   "execution_count": 36,
   "id": "a19c2d4f-d43d-4555-b3b7-d2fdb1ab3cd4",
   "metadata": {
    "tags": []
   },
   "outputs": [],
   "source": [
    "learning_rate = CustomSchedule(d_model)\n",
    "\n",
    "optimizer = tf.keras.optimizers.Adam(learning_rate, beta_1=0.9, beta_2=0.98,\n",
    "                                     epsilon=1e-9)"
   ]
  },
  {
   "cell_type": "code",
   "execution_count": 37,
   "id": "6c8b300b-4a3c-4223-9f11-b95a3c6ae71f",
   "metadata": {
    "tags": []
   },
   "outputs": [
    {
     "data": {
      "text/plain": [
       "Text(0.5, 0, 'Train Step')"
      ]
     },
     "execution_count": 37,
     "metadata": {},
     "output_type": "execute_result"
    },
    {
     "data": {
      "image/png": "[encoded data removed]",
      "text/plain": [
       "<Figure size 640x480 with 1 Axes>"
      ]
     },
     "metadata": {},
     "output_type": "display_data"
    }
   ],
   "source": [
    "plt.plot(learning_rate(tf.range(40000, dtype=tf.float32)))\n",
    "plt.ylabel('Learning Rate')\n",
    "plt.xlabel('Train Step')"
   ]
  },
  {
   "cell_type": "code",
   "execution_count": 38,
   "id": "b46495fe-d04e-4307-916e-f7358e384246",
   "metadata": {
    "tags": []
   },
   "outputs": [],
   "source": [
    "transformer.compile(\n",
    "    loss=\"categorical_crossentropy\",\n",
    "    optimizer=optimizer,\n",
    "    metrics=[tf.keras.metrics.TopKCategoricalAccuracy(k=1, name='top_1', dtype=tf.float32)])"
   ]
  },
  {
   "cell_type": "code",
   "execution_count": 39,
   "id": "6d48c6ab-ef2f-4b73-9388-a0acd3fb5c1d",
   "metadata": {
    "tags": []
   },
   "outputs": [
    {
     "name": "stdout",
     "output_type": "stream",
     "text": [
      "Epoch 1/10\n"
     ]
    },
    {
     "name": "stderr",
     "output_type": "stream",
     "text": [
      "2023-04-17 01:57:46.529222: I tensorflow/core/common_runtime/executor.cc:1197] [/device:CPU:0] (DEBUG INFO) Executor start aborting (this does not indicate an error and you can ignore this message): INVALID_ARGUMENT: You must feed a value for placeholder tensor 'Placeholder/_1' with dtype string and shape [32]\n",
      "\t [[{{node Placeholder/_1}}]]\n",
      "2023-04-17 01:57:46.529859: I tensorflow/core/common_runtime/executor.cc:1197] [/device:CPU:0] (DEBUG INFO) Executor start aborting (this does not indicate an error and you can ignore this message): INVALID_ARGUMENT: You must feed a value for placeholder tensor 'Placeholder/_4' with dtype int64 and shape [32]\n",
      "\t [[{{node Placeholder/_4}}]]\n",
      "2023-04-17 01:58:00.838296: I tensorflow/compiler/xla/service/service.cc:169] XLA service 0x7f3adc043a40 initialized for platform CUDA (this does not guarantee that XLA will be used). Devices:\n",
      "2023-04-17 01:58:00.838369: I tensorflow/compiler/xla/service/service.cc:177]   StreamExecutor device (0): NVIDIA Tesla P100-SXM2-16GB, Compute Capability 6.0\n",
      "2023-04-17 01:58:00.855190: I tensorflow/compiler/mlir/tensorflow/utils/dump_mlir_util.cc:269] disabling MLIR crash reproducer, set env var `MLIR_CRASH_REPRODUCER_DIRECTORY` to enable.\n",
      "2023-04-17 01:58:01.037358: I ./tensorflow/compiler/jit/device_compiler.h:180] Compiled cluster using XLA!  This line is logged at most once for the lifetime of the process.\n"
     ]
    },
    {
     "name": "stdout",
     "output_type": "stream",
     "text": [
      "1181/1181 [==============================] - ETA: 0s - loss: 5.1127 - top_1: 0.0256"
     ]
    },
    {
     "name": "stderr",
     "output_type": "stream",
     "text": [
      "2023-04-17 01:59:34.763391: I tensorflow/core/common_runtime/executor.cc:1197] [/device:CPU:0] (DEBUG INFO) Executor start aborting (this does not indicate an error and you can ignore this message): INVALID_ARGUMENT: You must feed a value for placeholder tensor 'Placeholder/_3' with dtype int64 and shape [8]\n",
      "\t [[{{node Placeholder/_3}}]]\n",
      "2023-04-17 01:59:34.764110: I tensorflow/core/common_runtime/executor.cc:1197] [/device:CPU:0] (DEBUG INFO) Executor start aborting (this does not indicate an error and you can ignore this message): INVALID_ARGUMENT: You must feed a value for placeholder tensor 'Placeholder/_2' with dtype string and shape [8]\n",
      "\t [[{{node Placeholder/_2}}]]\n"
     ]
    },
    {
     "name": "stdout",
     "output_type": "stream",
     "text": [
      "1181/1181 [==============================] - 120s 78ms/step - loss: 5.1127 - top_1: 0.0256 - val_loss: 4.4158 - val_top_1: 0.0687\n",
      "Epoch 2/10\n",
      "1181/1181 [==============================] - 90s 76ms/step - loss: 4.3113 - top_1: 0.0823 - val_loss: 4.0269 - val_top_1: 0.1143\n",
      "Epoch 3/10\n",
      "1181/1181 [==============================] - 89s 76ms/step - loss: 4.1701 - top_1: 0.1015 - val_loss: 3.8132 - val_top_1: 0.1427\n",
      "Epoch 4/10\n",
      "1181/1181 [==============================] - 90s 76ms/step - loss: 4.2604 - top_1: 0.0957 - val_loss: 4.1460 - val_top_1: 0.1027\n",
      "Epoch 5/10\n",
      "1181/1181 [==============================] - 89s 76ms/step - loss: 4.0795 - top_1: 0.1177 - val_loss: 3.8439 - val_top_1: 0.1408\n",
      "Epoch 6/10\n",
      "1181/1181 [==============================] - 89s 76ms/step - loss: 3.9335 - top_1: 0.1378 - val_loss: 3.5632 - val_top_1: 0.1866\n",
      "Epoch 7/10\n",
      "1181/1181 [==============================] - 89s 75ms/step - loss: 3.7487 - top_1: 0.1623 - val_loss: 3.4162 - val_top_1: 0.2042\n",
      "Epoch 8/10\n",
      "1181/1181 [==============================] - 90s 76ms/step - loss: 3.6038 - top_1: 0.1842 - val_loss: 3.3292 - val_top_1: 0.2212\n",
      "Epoch 9/10\n",
      "1181/1181 [==============================] - 89s 76ms/step - loss: 3.4896 - top_1: 0.2027 - val_loss: 3.3532 - val_top_1: 0.2174\n",
      "Epoch 10/10\n",
      "1181/1181 [==============================] - 89s 76ms/step - loss: 3.4029 - top_1: 0.2186 - val_loss: 3.0473 - val_top_1: 0.2726\n"
     ]
    },
    {
     "data": {
      "text/plain": [
       "<keras.callbacks.History at 0x7f3dcc6d9d00>"
      ]
     },
     "execution_count": 39,
     "metadata": {},
     "output_type": "execute_result"
    }
   ],
   "source": [
    "transformer.fit(train_dataset,\n",
    "                epochs=10,\n",
    "                validation_data=validation_dataset)"
   ]
  },
  {
   "cell_type": "code",
   "execution_count": 41,
   "id": "21824074-0b3e-4a8e-b18f-d2c0d4d38776",
   "metadata": {
    "tags": []
   },
   "outputs": [
    {
     "name": "stdout",
     "output_type": "stream",
     "text": [
      "Epoch 1/10\n",
      "1181/1181 [==============================] - 90s 76ms/step - loss: 3.2992 - top_1: 0.2351 - val_loss: 2.9904 - val_top_1: 0.2795\n",
      "Epoch 2/10\n",
      "1181/1181 [==============================] - 90s 76ms/step - loss: 3.2157 - top_1: 0.2474 - val_loss: 2.8974 - val_top_1: 0.3084\n",
      "Epoch 3/10\n",
      "1181/1181 [==============================] - 89s 76ms/step - loss: 3.1331 - top_1: 0.2626 - val_loss: 2.9372 - val_top_1: 0.3032\n",
      "Epoch 4/10\n",
      "1181/1181 [==============================] - 89s 76ms/step - loss: 3.0419 - top_1: 0.2780 - val_loss: 2.8667 - val_top_1: 0.3096\n",
      "Epoch 5/10\n",
      "1181/1181 [==============================] - 89s 76ms/step - loss: 2.9726 - top_1: 0.2920 - val_loss: 2.7918 - val_top_1: 0.3268\n",
      "Epoch 6/10\n",
      "1181/1181 [==============================] - 89s 75ms/step - loss: 2.8992 - top_1: 0.3040 - val_loss: 2.7445 - val_top_1: 0.3357\n",
      "Epoch 7/10\n",
      "1181/1181 [==============================] - 89s 75ms/step - loss: 2.8256 - top_1: 0.3176 - val_loss: 2.7756 - val_top_1: 0.3287\n",
      "Epoch 8/10\n",
      "1181/1181 [==============================] - 89s 75ms/step - loss: 2.7600 - top_1: 0.3319 - val_loss: 2.8634 - val_top_1: 0.3144\n",
      "Epoch 9/10\n",
      "1181/1181 [==============================] - 90s 76ms/step - loss: 2.7087 - top_1: 0.3412 - val_loss: 2.7758 - val_top_1: 0.3338\n",
      "Epoch 10/10\n",
      "1181/1181 [==============================] - 89s 76ms/step - loss: 2.6383 - top_1: 0.3525 - val_loss: 2.7085 - val_top_1: 0.3471\n"
     ]
    },
    {
     "data": {
      "text/plain": [
       "<keras.callbacks.History at 0x7f3dcc6bfb50>"
      ]
     },
     "execution_count": 41,
     "metadata": {},
     "output_type": "execute_result"
    }
   ],
   "source": [
    "transformer.fit(train_dataset,\n",
    "                epochs=10,\n",
    "                validation_data=validation_dataset)"
   ]
  },
  {
   "cell_type": "code",
   "execution_count": 40,
   "id": "319d338c-aae9-4005-9a1d-2317acee9ce0",
   "metadata": {
    "tags": []
   },
   "outputs": [
    {
     "name": "stdout",
     "output_type": "stream",
     "text": [
      "507/507 [==============================] - 10s 21ms/step - loss: 3.0473 - top_1: 0.2726\n"
     ]
    },
    {
     "data": {
      "text/plain": [
       "[3.0473270416259766, 0.27259737253189087]"
      ]
     },
     "execution_count": 40,
     "metadata": {},
     "output_type": "execute_result"
    }
   ],
   "source": [
    "transformer.evaluate(validation_dataset)"
   ]
  },
  {
   "cell_type": "code",
   "execution_count": null,
   "id": "850d28d3-69f2-40c2-a6e7-dfd4cc2810d8",
   "metadata": {},
   "outputs": [],
   "source": []
  }
 ],
 "metadata": {
  "kernelspec": {
   "display_name": "Python 3 (ipykernel)",
   "language": "python",
   "name": "python3"
  },
  "language_info": {
   "codemirror_mode": {
    "name": "ipython",
    "version": 3
   },
   "file_extension": ".py",
   "mimetype": "text/x-python",
   "name": "python",
   "nbconvert_exporter": "python",
   "pygments_lexer": "ipython3",
   "version": "3.8.10"
  }
 },
 "nbformat": 4,
 "nbformat_minor": 5
}
